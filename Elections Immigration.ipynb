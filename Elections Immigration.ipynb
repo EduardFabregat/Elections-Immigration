{
  "nbformat": 4,
  "nbformat_minor": 0,
  "metadata": {
    "colab": {
      "name": "Immigration Word Embeddings.ipynb",
      "provenance": [],
      "collapsed_sections": [
        "Z5pqpNIz22nH",
        "FbrGaiDvT6iu"
      ]
    },
    "kernelspec": {
      "name": "python3",
      "display_name": "Python 3"
    }
  },
  "cells": [
    {
      "cell_type": "markdown",
      "metadata": {
        "id": "ZYfGfo-K-7vW"
      },
      "source": [
        "#Import Data from SQL"
      ]
    },
    {
      "cell_type": "code",
      "metadata": {
        "id": "4vuncuTb7oeF"
      },
      "source": [
        "import sqlite3\n",
        "import pandas as pd\n",
        "import numpy as np\n",
        "import matplotlib.pyplot as plt\n",
        "import seaborn as sns\n",
        "import re\n",
        "from time import time\n",
        "from collections import defaultdict\n",
        "import nltk\n",
        "import spacy\n",
        "import logging \n",
        "from string import punctuation\n",
        "logging.basicConfig(format=\"%(levelname)s - %(asctime)s: %(message)s\", datefmt= '%H:%M:%S', level=logging.INFO)\n",
        "%matplotlib inline"
      ],
      "execution_count": 1,
      "outputs": []
    },
    {
      "cell_type": "code",
      "metadata": {
        "id": "aHl-YsUD7sR3"
      },
      "source": [
        "con = sqlite3.connect(\"/content/migrants_elections.db\")"
      ],
      "execution_count": 2,
      "outputs": []
    },
    {
      "cell_type": "code",
      "metadata": {
        "id": "Kncv8Ldl72lx"
      },
      "source": [
        "df = pd.read_sql(\"SELECT * FROM migrant_elections\", con)"
      ],
      "execution_count": 3,
      "outputs": []
    },
    {
      "cell_type": "code",
      "metadata": {
        "id": "Ii9pQXgL762Y",
        "outputId": "40385d97-e809-4c4c-86da-4e2833f27313",
        "colab": {
          "base_uri": "https://localhost:8080/",
          "height": 206
        }
      },
      "source": [
        "df.head()"
      ],
      "execution_count": 4,
      "outputs": [
        {
          "output_type": "execute_result",
          "data": {
            "text/html": [
              "<div>\n",
              "<style scoped>\n",
              "    .dataframe tbody tr th:only-of-type {\n",
              "        vertical-align: middle;\n",
              "    }\n",
              "\n",
              "    .dataframe tbody tr th {\n",
              "        vertical-align: top;\n",
              "    }\n",
              "\n",
              "    .dataframe thead th {\n",
              "        text-align: right;\n",
              "    }\n",
              "</style>\n",
              "<table border=\"1\" class=\"dataframe\">\n",
              "  <thead>\n",
              "    <tr style=\"text-align: right;\">\n",
              "      <th></th>\n",
              "      <th>title</th>\n",
              "      <th>publication</th>\n",
              "      <th>date</th>\n",
              "      <th>text</th>\n",
              "    </tr>\n",
              "  </thead>\n",
              "  <tbody>\n",
              "    <tr>\n",
              "      <th>0</th>\n",
              "      <td>PRICKLY TIES WITH MEXICO UNCERTAIN U.S. POLICY...</td>\n",
              "      <td>Chicago Tribune (pre-1997 Fulltext)</td>\n",
              "      <td>Dec 21, 1986</td>\n",
              "      <td>\\r\\n\\r\\nAs Mexico's problems worsen day by day...</td>\n",
              "    </tr>\n",
              "    <tr>\n",
              "      <th>1</th>\n",
              "      <td>MAN GUILTY OF 4 RAPE ATTEMPTS: [SPORTS FINAL, ...</td>\n",
              "      <td>Chicago Tribune (pre-1997 Fulltext)</td>\n",
              "      <td>Dec 23, 1986</td>\n",
              "      <td>\\r\\n\\r\\nA man who was freed after an 82-year-o...</td>\n",
              "    </tr>\n",
              "    <tr>\n",
              "      <th>2</th>\n",
              "      <td>DEATH TOLL REACHES 11 IN REFUGEE BOAT MISHAP: ...</td>\n",
              "      <td>Chicago Tribune (pre-1997 Fulltext)</td>\n",
              "      <td>Dec 25, 1986</td>\n",
              "      <td>\\r\\n\\r\\nThe bodies of five illegal aliens wash...</td>\n",
              "    </tr>\n",
              "    <tr>\n",
              "      <th>3</th>\n",
              "      <td>COST HIGH AS CHINESE SHIP KIDS: [SPORTS FINAL,...</td>\n",
              "      <td>Chicago Tribune (pre-1997 Fulltext)</td>\n",
              "      <td>Dec 25, 1986</td>\n",
              "      <td>\\r\\n\\r\\nShenzhen, set up to quicken China's ma...</td>\n",
              "    </tr>\n",
              "    <tr>\n",
              "      <th>4</th>\n",
              "      <td>PERSECUTION, POLITICS AND REFUGEES: [SPORTS FI...</td>\n",
              "      <td>Chicago Tribune (pre-1997 Fulltext)</td>\n",
              "      <td>Dec 4, 1986</td>\n",
              "      <td>\\r\\n\\r\\nIf July 4 was the warm-up for Miss Lib...</td>\n",
              "    </tr>\n",
              "  </tbody>\n",
              "</table>\n",
              "</div>"
            ],
            "text/plain": [
              "                                               title  ...                                               text\n",
              "0  PRICKLY TIES WITH MEXICO UNCERTAIN U.S. POLICY...  ...  \\r\\n\\r\\nAs Mexico's problems worsen day by day...\n",
              "1  MAN GUILTY OF 4 RAPE ATTEMPTS: [SPORTS FINAL, ...  ...  \\r\\n\\r\\nA man who was freed after an 82-year-o...\n",
              "2  DEATH TOLL REACHES 11 IN REFUGEE BOAT MISHAP: ...  ...  \\r\\n\\r\\nThe bodies of five illegal aliens wash...\n",
              "3  COST HIGH AS CHINESE SHIP KIDS: [SPORTS FINAL,...  ...  \\r\\n\\r\\nShenzhen, set up to quicken China's ma...\n",
              "4  PERSECUTION, POLITICS AND REFUGEES: [SPORTS FI...  ...  \\r\\n\\r\\nIf July 4 was the warm-up for Miss Lib...\n",
              "\n",
              "[5 rows x 4 columns]"
            ]
          },
          "metadata": {
            "tags": []
          },
          "execution_count": 4
        }
      ]
    },
    {
      "cell_type": "code",
      "metadata": {
        "id": "7h3l7aKiAXMX",
        "outputId": "df6a9b42-5dad-4dc5-b9e8-7f596aff8e1c",
        "colab": {
          "base_uri": "https://localhost:8080/",
          "height": 219
        }
      },
      "source": [
        "df.info()"
      ],
      "execution_count": 5,
      "outputs": [
        {
          "output_type": "stream",
          "text": [
            "<class 'pandas.core.frame.DataFrame'>\n",
            "RangeIndex: 64217 entries, 0 to 64216\n",
            "Data columns (total 4 columns):\n",
            " #   Column       Non-Null Count  Dtype \n",
            "---  ------       --------------  ----- \n",
            " 0   title        64217 non-null  object\n",
            " 1   publication  64217 non-null  object\n",
            " 2   date         64217 non-null  object\n",
            " 3   text         64217 non-null  object\n",
            "dtypes: object(4)\n",
            "memory usage: 2.0+ MB\n"
          ],
          "name": "stdout"
        }
      ]
    },
    {
      "cell_type": "code",
      "metadata": {
        "id": "NRRuW4jfA_L9"
      },
      "source": [
        "df['date']= pd.to_datetime(df['date'])"
      ],
      "execution_count": 6,
      "outputs": []
    },
    {
      "cell_type": "code",
      "metadata": {
        "id": "yA2mtcmW-nlu",
        "outputId": "0b2aedc7-4acc-4054-c725-940dda0bd77c",
        "colab": {
          "base_uri": "https://localhost:8080/",
          "height": 109
        }
      },
      "source": [
        "df.isna().sum()"
      ],
      "execution_count": 7,
      "outputs": [
        {
          "output_type": "execute_result",
          "data": {
            "text/plain": [
              "title          0\n",
              "publication    0\n",
              "date           0\n",
              "text           0\n",
              "dtype: int64"
            ]
          },
          "metadata": {
            "tags": []
          },
          "execution_count": 7
        }
      ]
    },
    {
      "cell_type": "code",
      "metadata": {
        "id": "_LyBH5yK-HLA"
      },
      "source": [
        "import datetime\n",
        "df['year'] = pd.DatetimeIndex(df['date']).year"
      ],
      "execution_count": 8,
      "outputs": []
    },
    {
      "cell_type": "code",
      "metadata": {
        "id": "t2LDFz2dAPgZ",
        "outputId": "64fb22fa-2275-4f4a-94c9-c028c46e6f7b",
        "colab": {
          "base_uri": "https://localhost:8080/",
          "height": 237
        }
      },
      "source": [
        "df.info()"
      ],
      "execution_count": 9,
      "outputs": [
        {
          "output_type": "stream",
          "text": [
            "<class 'pandas.core.frame.DataFrame'>\n",
            "RangeIndex: 64217 entries, 0 to 64216\n",
            "Data columns (total 5 columns):\n",
            " #   Column       Non-Null Count  Dtype         \n",
            "---  ------       --------------  -----         \n",
            " 0   title        64217 non-null  object        \n",
            " 1   publication  64217 non-null  object        \n",
            " 2   date         64217 non-null  datetime64[ns]\n",
            " 3   text         64217 non-null  object        \n",
            " 4   year         64217 non-null  int64         \n",
            "dtypes: datetime64[ns](1), int64(1), object(3)\n",
            "memory usage: 2.4+ MB\n"
          ],
          "name": "stdout"
        }
      ]
    },
    {
      "cell_type": "code",
      "metadata": {
        "id": "EDo_g6Ji-J_5",
        "outputId": "7af187a4-2831-4ac8-ecc2-edb936b896db",
        "colab": {
          "base_uri": "https://localhost:8080/",
          "height": 35
        }
      },
      "source": [
        "df2k = df[df['year'] >= 2000] "
      ],
      "execution_count": 10,
      "outputs": [
        {
          "output_type": "stream",
          "text": [
            "INFO - 16:09:47: NumExpr defaulting to 2 threads.\n"
          ],
          "name": "stderr"
        }
      ]
    },
    {
      "cell_type": "code",
      "metadata": {
        "id": "a3PAYpOBBBjK"
      },
      "source": [
        "df_small = df2k[(df2k['publication'] == 'Los Angeles Times') |\n",
        "     (df2k['publication'] == 'New York Times') |\n",
        "     (df2k['publication'] == 'Chicago Tribune') |\n",
        "     (df2k['publication'] == 'The Washington Post') |\n",
        "     (df2k['publication'] == 'New York Post') |\n",
        "     (df2k['publication'] == 'USA TODAY') |\n",
        "     (df2k['publication'] == 'Wall Street Journal')]"
      ],
      "execution_count": 11,
      "outputs": []
    },
    {
      "cell_type": "code",
      "metadata": {
        "id": "H_F2uQOp_FUV",
        "outputId": "49526c0f-1e5b-41f8-e99b-066661c51c3a",
        "colab": {
          "base_uri": "https://localhost:8080/",
          "height": 35
        }
      },
      "source": [
        "len(df_small)"
      ],
      "execution_count": 12,
      "outputs": [
        {
          "output_type": "execute_result",
          "data": {
            "text/plain": [
              "42683"
            ]
          },
          "metadata": {
            "tags": []
          },
          "execution_count": 12
        }
      ]
    },
    {
      "cell_type": "code",
      "metadata": {
        "id": "5K9mD1-H1_jq",
        "outputId": "1de7afde-aa4f-4637-b8e2-20b40f5e4253",
        "colab": {
          "base_uri": "https://localhost:8080/",
          "height": 164
        }
      },
      "source": [
        "df_small['publication'].value_counts()"
      ],
      "execution_count": 13,
      "outputs": [
        {
          "output_type": "execute_result",
          "data": {
            "text/plain": [
              "The Washington Post    11693\n",
              "New York Times          9355\n",
              "Los Angeles Times       8966\n",
              "Chicago Tribune         6914\n",
              "New York Post           2216\n",
              "USA TODAY               2087\n",
              "Wall Street Journal     1452\n",
              "Name: publication, dtype: int64"
            ]
          },
          "metadata": {
            "tags": []
          },
          "execution_count": 13
        }
      ]
    },
    {
      "cell_type": "markdown",
      "metadata": {
        "id": "yMH11VopuK9c"
      },
      "source": [
        "#Topic Models"
      ]
    },
    {
      "cell_type": "code",
      "metadata": {
        "id": "xj6aB7EUuyEU",
        "outputId": "1749e9ec-e055-4244-cad0-bdc98dd0a96e",
        "colab": {
          "base_uri": "https://localhost:8080/",
          "height": 366
        }
      },
      "source": [
        "df_small['original_index'] = np.arange(len(df_small))\n",
        "bool_df = df_small['text'].duplicated(keep='first')\n",
        "df_unique = df_small[~bool_df]\n",
        "df_unique.info()"
      ],
      "execution_count": 14,
      "outputs": [
        {
          "output_type": "stream",
          "text": [
            "<class 'pandas.core.frame.DataFrame'>\n",
            "Int64Index: 41619 entries, 7902 to 59950\n",
            "Data columns (total 6 columns):\n",
            " #   Column          Non-Null Count  Dtype         \n",
            "---  ------          --------------  -----         \n",
            " 0   title           41619 non-null  object        \n",
            " 1   publication     41619 non-null  object        \n",
            " 2   date            41619 non-null  datetime64[ns]\n",
            " 3   text            41619 non-null  object        \n",
            " 4   year            41619 non-null  int64         \n",
            " 5   original_index  41619 non-null  int64         \n",
            "dtypes: datetime64[ns](1), int64(2), object(3)\n",
            "memory usage: 2.2+ MB\n"
          ],
          "name": "stdout"
        },
        {
          "output_type": "stream",
          "text": [
            "/usr/local/lib/python3.6/dist-packages/ipykernel_launcher.py:1: SettingWithCopyWarning: \n",
            "A value is trying to be set on a copy of a slice from a DataFrame.\n",
            "Try using .loc[row_indexer,col_indexer] = value instead\n",
            "\n",
            "See the caveats in the documentation: https://pandas.pydata.org/pandas-docs/stable/user_guide/indexing.html#returning-a-view-versus-a-copy\n",
            "  \"\"\"Entry point for launching an IPython kernel.\n"
          ],
          "name": "stderr"
        }
      ]
    },
    {
      "cell_type": "code",
      "metadata": {
        "id": "BCXabdQYo76F",
        "outputId": "af0bf00a-19e6-4ac9-d4d1-ca784d704758",
        "colab": {
          "base_uri": "https://localhost:8080/",
          "height": 35
        }
      },
      "source": [
        "df_duplicate = df_small[bool_df]\n",
        "len(df_duplicate)"
      ],
      "execution_count": 15,
      "outputs": [
        {
          "output_type": "execute_result",
          "data": {
            "text/plain": [
              "1064"
            ]
          },
          "metadata": {
            "tags": []
          },
          "execution_count": 15
        }
      ]
    },
    {
      "cell_type": "code",
      "metadata": {
        "id": "f8miLpXNu5C0",
        "outputId": "929653d1-c225-43da-9660-0c49a9e4939d",
        "colab": {
          "base_uri": "https://localhost:8080/",
          "height": 35
        }
      },
      "source": [
        "len(df_unique)"
      ],
      "execution_count": 16,
      "outputs": [
        {
          "output_type": "execute_result",
          "data": {
            "text/plain": [
              "41619"
            ]
          },
          "metadata": {
            "tags": []
          },
          "execution_count": 16
        }
      ]
    },
    {
      "cell_type": "code",
      "metadata": {
        "id": "Ok-qGt8VuKXr"
      },
      "source": [
        "df_unique['index'] = np.arange(len(df_unique))"
      ],
      "execution_count": null,
      "outputs": []
    },
    {
      "cell_type": "code",
      "metadata": {
        "id": "tf1Jpyyzu-xU",
        "outputId": "08c4e7ea-e400-4a59-a15b-9b5c326d0f43",
        "colab": {
          "base_uri": "https://localhost:8080/",
          "height": 54
        }
      },
      "source": [
        "import nltk\n",
        "from nltk.tokenize import RegexpTokenizer\n",
        "from nltk.corpus import stopwords\n",
        "nltk.download('stopwords')\n",
        "\n",
        "\n",
        "tokenizer = RegexpTokenizer(r'\\w+')"
      ],
      "execution_count": 18,
      "outputs": [
        {
          "output_type": "stream",
          "text": [
            "[nltk_data] Downloading package stopwords to /root/nltk_data...\n",
            "[nltk_data]   Unzipping corpora/stopwords.zip.\n"
          ],
          "name": "stdout"
        }
      ]
    },
    {
      "cell_type": "code",
      "metadata": {
        "id": "m2FQZ5TXvBHR"
      },
      "source": [
        "def pre_process(text):\n",
        "  temp1 = ''.join(word for word in text if not word.isdigit())\n",
        "  temp2 = tokenizer.tokenize(temp1)\n",
        "  temp3 = [word.lower() for word in temp2 if word.lower() not in stopwords.words('english')]\n",
        "  return temp3"
      ],
      "execution_count": 19,
      "outputs": []
    },
    {
      "cell_type": "code",
      "metadata": {
        "id": "PYUeOkkjvEaW",
        "outputId": "e92a790e-214f-4b02-be9a-0c738e3d8933",
        "colab": {
          "base_uri": "https://localhost:8080/",
          "height": 90
        }
      },
      "source": [
        "t = time()\n",
        "from sklearn.decomposition import LatentDirichletAllocation\n",
        "from sklearn.feature_extraction.text import CountVectorizer\n",
        "vectoriser = CountVectorizer(analyzer=pre_process, max_df=0.95, min_df=0.01)\n",
        "print('Vectorizer Created')\n",
        "data = vectoriser.fit_transform(df_unique['text'])\n",
        "print('Data Created')\n",
        "features = vectoriser.get_feature_names()\n",
        "print('Features Created')\n",
        "print('Time to vectorise and create features: {} mins'.format(round((time() - t) / 60, 2)))"
      ],
      "execution_count": 20,
      "outputs": [
        {
          "output_type": "stream",
          "text": [
            "Vectorizer Created\n",
            "Data Created\n",
            "Features Created\n",
            "Time to vectorise and create features: 65.96 mins\n"
          ],
          "name": "stdout"
        }
      ]
    },
    {
      "cell_type": "markdown",
      "metadata": {
        "id": "KvPXxhcP4GEP"
      },
      "source": [
        "Perplexity 5-fold cross-validation with Scikit-Learn"
      ]
    },
    {
      "cell_type": "code",
      "metadata": {
        "id": "PLFEcT1vGF5Q"
      },
      "source": [
        "from sklearn.model_selection import KFold"
      ],
      "execution_count": null,
      "outputs": []
    },
    {
      "cell_type": "code",
      "metadata": {
        "id": "SENzAxqMGGtZ"
      },
      "source": [
        "n=5\n",
        "kf = KFold(n_splits=n,random_state=42,shuffle=True)"
      ],
      "execution_count": null,
      "outputs": []
    },
    {
      "cell_type": "code",
      "metadata": {
        "id": "J686ChwmGI-9"
      },
      "source": [
        "def perplexity_k_fold(corpus, start,limit,step):\n",
        "  perplexity_values = []\n",
        "  for num_topics in range(start, limit, step):\n",
        "    print(f'Number of Topics:',num_topics)\n",
        "    temp_perplexity = []\n",
        "    for train_index, val_index in kf.split(corpus):\n",
        "      val_data = corpus[val_index]\n",
        "      train_data = corpus[train_index]\n",
        "      model = LatentDirichletAllocation(learning_method='online',n_components=num_topics, n_jobs=-1, verbose=1, random_state=42)\n",
        "      output = model.fit(train_data)\n",
        "      temp_perplexity.append(output.perplexity(val_data))\n",
        "      del train_data\n",
        "      del val_data\n",
        "    perplexity_values.append(np.average(temp_perplexity))\n",
        "  return perplexity_values"
      ],
      "execution_count": null,
      "outputs": []
    },
    {
      "cell_type": "code",
      "metadata": {
        "id": "Jb5K-zpwGL2F",
        "outputId": "8e08b187-6e06-4e44-89e1-d2914ce51e80",
        "colab": {
          "base_uri": "https://localhost:8080/",
          "height": 1000
        }
      },
      "source": [
        "#with k-fold\n",
        "%env JOBLIB_TEMP_FOLDER=/tmp\n",
        "t = time()\n",
        "perplexity_values = perplexity_k_fold(corpus=data, start=10, limit=110, step=10)\n",
        "print('Time to check different models: {} mins'.format(round((time() - t) / 60, 2)))"
      ],
      "execution_count": null,
      "outputs": [
        {
          "output_type": "stream",
          "text": [
            "env: JOBLIB_TEMP_FOLDER=/tmp\n",
            "Number of Topics: 10\n",
            "iteration: 1 of max_iter: 10\n",
            "iteration: 2 of max_iter: 10\n",
            "iteration: 3 of max_iter: 10\n",
            "iteration: 4 of max_iter: 10\n",
            "iteration: 5 of max_iter: 10\n",
            "iteration: 6 of max_iter: 10\n",
            "iteration: 7 of max_iter: 10\n",
            "iteration: 8 of max_iter: 10\n",
            "iteration: 9 of max_iter: 10\n",
            "iteration: 10 of max_iter: 10\n",
            "iteration: 1 of max_iter: 10\n",
            "iteration: 2 of max_iter: 10\n",
            "iteration: 3 of max_iter: 10\n",
            "iteration: 4 of max_iter: 10\n",
            "iteration: 5 of max_iter: 10\n",
            "iteration: 6 of max_iter: 10\n",
            "iteration: 7 of max_iter: 10\n",
            "iteration: 8 of max_iter: 10\n",
            "iteration: 9 of max_iter: 10\n",
            "iteration: 10 of max_iter: 10\n",
            "iteration: 1 of max_iter: 10\n",
            "iteration: 2 of max_iter: 10\n",
            "iteration: 3 of max_iter: 10\n",
            "iteration: 4 of max_iter: 10\n",
            "iteration: 5 of max_iter: 10\n",
            "iteration: 6 of max_iter: 10\n",
            "iteration: 7 of max_iter: 10\n",
            "iteration: 8 of max_iter: 10\n",
            "iteration: 9 of max_iter: 10\n",
            "iteration: 10 of max_iter: 10\n",
            "iteration: 1 of max_iter: 10\n",
            "iteration: 2 of max_iter: 10\n",
            "iteration: 3 of max_iter: 10\n",
            "iteration: 4 of max_iter: 10\n",
            "iteration: 5 of max_iter: 10\n",
            "iteration: 6 of max_iter: 10\n",
            "iteration: 7 of max_iter: 10\n",
            "iteration: 8 of max_iter: 10\n",
            "iteration: 9 of max_iter: 10\n",
            "iteration: 10 of max_iter: 10\n",
            "iteration: 1 of max_iter: 10\n",
            "iteration: 2 of max_iter: 10\n",
            "iteration: 3 of max_iter: 10\n",
            "iteration: 4 of max_iter: 10\n",
            "iteration: 5 of max_iter: 10\n",
            "iteration: 6 of max_iter: 10\n",
            "iteration: 7 of max_iter: 10\n",
            "iteration: 8 of max_iter: 10\n",
            "iteration: 9 of max_iter: 10\n",
            "iteration: 10 of max_iter: 10\n",
            "Number of Topics: 20\n",
            "iteration: 1 of max_iter: 10\n",
            "iteration: 2 of max_iter: 10\n",
            "iteration: 3 of max_iter: 10\n",
            "iteration: 4 of max_iter: 10\n",
            "iteration: 5 of max_iter: 10\n",
            "iteration: 6 of max_iter: 10\n",
            "iteration: 7 of max_iter: 10\n",
            "iteration: 8 of max_iter: 10\n",
            "iteration: 9 of max_iter: 10\n",
            "iteration: 10 of max_iter: 10\n",
            "iteration: 1 of max_iter: 10\n",
            "iteration: 2 of max_iter: 10\n",
            "iteration: 3 of max_iter: 10\n",
            "iteration: 4 of max_iter: 10\n",
            "iteration: 5 of max_iter: 10\n",
            "iteration: 6 of max_iter: 10\n",
            "iteration: 7 of max_iter: 10\n",
            "iteration: 8 of max_iter: 10\n",
            "iteration: 9 of max_iter: 10\n",
            "iteration: 10 of max_iter: 10\n",
            "iteration: 1 of max_iter: 10\n",
            "iteration: 2 of max_iter: 10\n",
            "iteration: 3 of max_iter: 10\n",
            "iteration: 4 of max_iter: 10\n",
            "iteration: 5 of max_iter: 10\n",
            "iteration: 6 of max_iter: 10\n",
            "iteration: 7 of max_iter: 10\n",
            "iteration: 8 of max_iter: 10\n",
            "iteration: 9 of max_iter: 10\n",
            "iteration: 10 of max_iter: 10\n",
            "iteration: 1 of max_iter: 10\n",
            "iteration: 2 of max_iter: 10\n",
            "iteration: 3 of max_iter: 10\n",
            "iteration: 4 of max_iter: 10\n",
            "iteration: 5 of max_iter: 10\n",
            "iteration: 6 of max_iter: 10\n",
            "iteration: 7 of max_iter: 10\n",
            "iteration: 8 of max_iter: 10\n",
            "iteration: 9 of max_iter: 10\n",
            "iteration: 10 of max_iter: 10\n",
            "iteration: 1 of max_iter: 10\n",
            "iteration: 2 of max_iter: 10\n",
            "iteration: 3 of max_iter: 10\n",
            "iteration: 4 of max_iter: 10\n",
            "iteration: 5 of max_iter: 10\n",
            "iteration: 6 of max_iter: 10\n",
            "iteration: 7 of max_iter: 10\n",
            "iteration: 8 of max_iter: 10\n",
            "iteration: 9 of max_iter: 10\n",
            "iteration: 10 of max_iter: 10\n",
            "Number of Topics: 30\n",
            "iteration: 1 of max_iter: 10\n",
            "iteration: 2 of max_iter: 10\n",
            "iteration: 3 of max_iter: 10\n",
            "iteration: 4 of max_iter: 10\n",
            "iteration: 5 of max_iter: 10\n",
            "iteration: 6 of max_iter: 10\n",
            "iteration: 7 of max_iter: 10\n",
            "iteration: 8 of max_iter: 10\n",
            "iteration: 9 of max_iter: 10\n",
            "iteration: 10 of max_iter: 10\n",
            "iteration: 1 of max_iter: 10\n",
            "iteration: 2 of max_iter: 10\n",
            "iteration: 3 of max_iter: 10\n",
            "iteration: 4 of max_iter: 10\n",
            "iteration: 5 of max_iter: 10\n",
            "iteration: 6 of max_iter: 10\n",
            "iteration: 7 of max_iter: 10\n",
            "iteration: 8 of max_iter: 10\n",
            "iteration: 9 of max_iter: 10\n",
            "iteration: 10 of max_iter: 10\n",
            "iteration: 1 of max_iter: 10\n",
            "iteration: 2 of max_iter: 10\n",
            "iteration: 3 of max_iter: 10\n",
            "iteration: 4 of max_iter: 10\n",
            "iteration: 5 of max_iter: 10\n",
            "iteration: 6 of max_iter: 10\n",
            "iteration: 7 of max_iter: 10\n",
            "iteration: 8 of max_iter: 10\n",
            "iteration: 9 of max_iter: 10\n",
            "iteration: 10 of max_iter: 10\n",
            "iteration: 1 of max_iter: 10\n",
            "iteration: 2 of max_iter: 10\n",
            "iteration: 3 of max_iter: 10\n",
            "iteration: 4 of max_iter: 10\n",
            "iteration: 5 of max_iter: 10\n",
            "iteration: 6 of max_iter: 10\n",
            "iteration: 7 of max_iter: 10\n",
            "iteration: 8 of max_iter: 10\n",
            "iteration: 9 of max_iter: 10\n",
            "iteration: 10 of max_iter: 10\n",
            "iteration: 1 of max_iter: 10\n",
            "iteration: 2 of max_iter: 10\n",
            "iteration: 3 of max_iter: 10\n",
            "iteration: 4 of max_iter: 10\n",
            "iteration: 5 of max_iter: 10\n",
            "iteration: 6 of max_iter: 10\n",
            "iteration: 7 of max_iter: 10\n",
            "iteration: 8 of max_iter: 10\n",
            "iteration: 9 of max_iter: 10\n",
            "iteration: 10 of max_iter: 10\n",
            "Number of Topics: 40\n",
            "iteration: 1 of max_iter: 10\n",
            "iteration: 2 of max_iter: 10\n",
            "iteration: 3 of max_iter: 10\n",
            "iteration: 4 of max_iter: 10\n",
            "iteration: 5 of max_iter: 10\n",
            "iteration: 6 of max_iter: 10\n",
            "iteration: 7 of max_iter: 10\n",
            "iteration: 8 of max_iter: 10\n",
            "iteration: 9 of max_iter: 10\n",
            "iteration: 10 of max_iter: 10\n",
            "iteration: 1 of max_iter: 10\n",
            "iteration: 2 of max_iter: 10\n",
            "iteration: 3 of max_iter: 10\n",
            "iteration: 4 of max_iter: 10\n",
            "iteration: 5 of max_iter: 10\n",
            "iteration: 6 of max_iter: 10\n",
            "iteration: 7 of max_iter: 10\n",
            "iteration: 8 of max_iter: 10\n",
            "iteration: 9 of max_iter: 10\n",
            "iteration: 10 of max_iter: 10\n",
            "iteration: 1 of max_iter: 10\n",
            "iteration: 2 of max_iter: 10\n",
            "iteration: 3 of max_iter: 10\n",
            "iteration: 4 of max_iter: 10\n",
            "iteration: 5 of max_iter: 10\n",
            "iteration: 6 of max_iter: 10\n",
            "iteration: 7 of max_iter: 10\n",
            "iteration: 8 of max_iter: 10\n",
            "iteration: 9 of max_iter: 10\n",
            "iteration: 10 of max_iter: 10\n",
            "iteration: 1 of max_iter: 10\n",
            "iteration: 2 of max_iter: 10\n",
            "iteration: 3 of max_iter: 10\n",
            "iteration: 4 of max_iter: 10\n",
            "iteration: 5 of max_iter: 10\n",
            "iteration: 6 of max_iter: 10\n",
            "iteration: 7 of max_iter: 10\n",
            "iteration: 8 of max_iter: 10\n",
            "iteration: 9 of max_iter: 10\n",
            "iteration: 10 of max_iter: 10\n",
            "iteration: 1 of max_iter: 10\n",
            "iteration: 2 of max_iter: 10\n",
            "iteration: 3 of max_iter: 10\n",
            "iteration: 4 of max_iter: 10\n",
            "iteration: 5 of max_iter: 10\n",
            "iteration: 6 of max_iter: 10\n",
            "iteration: 7 of max_iter: 10\n",
            "iteration: 8 of max_iter: 10\n",
            "iteration: 9 of max_iter: 10\n",
            "iteration: 10 of max_iter: 10\n",
            "Number of Topics: 50\n",
            "iteration: 1 of max_iter: 10\n",
            "iteration: 2 of max_iter: 10\n",
            "iteration: 3 of max_iter: 10\n",
            "iteration: 4 of max_iter: 10\n",
            "iteration: 5 of max_iter: 10\n",
            "iteration: 6 of max_iter: 10\n",
            "iteration: 7 of max_iter: 10\n",
            "iteration: 8 of max_iter: 10\n",
            "iteration: 9 of max_iter: 10\n",
            "iteration: 10 of max_iter: 10\n",
            "iteration: 1 of max_iter: 10\n",
            "iteration: 2 of max_iter: 10\n",
            "iteration: 3 of max_iter: 10\n",
            "iteration: 4 of max_iter: 10\n",
            "iteration: 5 of max_iter: 10\n",
            "iteration: 6 of max_iter: 10\n",
            "iteration: 7 of max_iter: 10\n",
            "iteration: 8 of max_iter: 10\n",
            "iteration: 9 of max_iter: 10\n",
            "iteration: 10 of max_iter: 10\n",
            "iteration: 1 of max_iter: 10\n",
            "iteration: 2 of max_iter: 10\n",
            "iteration: 3 of max_iter: 10\n",
            "iteration: 4 of max_iter: 10\n",
            "iteration: 5 of max_iter: 10\n",
            "iteration: 6 of max_iter: 10\n",
            "iteration: 7 of max_iter: 10\n",
            "iteration: 8 of max_iter: 10\n",
            "iteration: 9 of max_iter: 10\n",
            "iteration: 10 of max_iter: 10\n",
            "iteration: 1 of max_iter: 10\n",
            "iteration: 2 of max_iter: 10\n",
            "iteration: 3 of max_iter: 10\n",
            "iteration: 4 of max_iter: 10\n",
            "iteration: 5 of max_iter: 10\n",
            "iteration: 6 of max_iter: 10\n",
            "iteration: 7 of max_iter: 10\n",
            "iteration: 8 of max_iter: 10\n",
            "iteration: 9 of max_iter: 10\n",
            "iteration: 10 of max_iter: 10\n",
            "iteration: 1 of max_iter: 10\n",
            "iteration: 2 of max_iter: 10\n",
            "iteration: 3 of max_iter: 10\n",
            "iteration: 4 of max_iter: 10\n",
            "iteration: 5 of max_iter: 10\n",
            "iteration: 6 of max_iter: 10\n",
            "iteration: 7 of max_iter: 10\n",
            "iteration: 8 of max_iter: 10\n",
            "iteration: 9 of max_iter: 10\n",
            "iteration: 10 of max_iter: 10\n",
            "Number of Topics: 60\n",
            "iteration: 1 of max_iter: 10\n",
            "iteration: 2 of max_iter: 10\n",
            "iteration: 3 of max_iter: 10\n",
            "iteration: 4 of max_iter: 10\n",
            "iteration: 5 of max_iter: 10\n",
            "iteration: 6 of max_iter: 10\n",
            "iteration: 7 of max_iter: 10\n",
            "iteration: 8 of max_iter: 10\n",
            "iteration: 9 of max_iter: 10\n",
            "iteration: 10 of max_iter: 10\n",
            "iteration: 1 of max_iter: 10\n",
            "iteration: 2 of max_iter: 10\n",
            "iteration: 3 of max_iter: 10\n",
            "iteration: 4 of max_iter: 10\n",
            "iteration: 5 of max_iter: 10\n",
            "iteration: 6 of max_iter: 10\n",
            "iteration: 7 of max_iter: 10\n",
            "iteration: 8 of max_iter: 10\n",
            "iteration: 9 of max_iter: 10\n",
            "iteration: 10 of max_iter: 10\n",
            "iteration: 1 of max_iter: 10\n",
            "iteration: 2 of max_iter: 10\n",
            "iteration: 3 of max_iter: 10\n",
            "iteration: 4 of max_iter: 10\n",
            "iteration: 5 of max_iter: 10\n",
            "iteration: 6 of max_iter: 10\n",
            "iteration: 7 of max_iter: 10\n",
            "iteration: 8 of max_iter: 10\n",
            "iteration: 9 of max_iter: 10\n",
            "iteration: 10 of max_iter: 10\n",
            "iteration: 1 of max_iter: 10\n",
            "iteration: 2 of max_iter: 10\n",
            "iteration: 3 of max_iter: 10\n",
            "iteration: 4 of max_iter: 10\n",
            "iteration: 5 of max_iter: 10\n",
            "iteration: 6 of max_iter: 10\n",
            "iteration: 7 of max_iter: 10\n",
            "iteration: 8 of max_iter: 10\n",
            "iteration: 9 of max_iter: 10\n",
            "iteration: 10 of max_iter: 10\n",
            "iteration: 1 of max_iter: 10\n",
            "iteration: 2 of max_iter: 10\n",
            "iteration: 3 of max_iter: 10\n",
            "iteration: 4 of max_iter: 10\n",
            "iteration: 5 of max_iter: 10\n",
            "iteration: 6 of max_iter: 10\n",
            "iteration: 7 of max_iter: 10\n",
            "iteration: 8 of max_iter: 10\n",
            "iteration: 9 of max_iter: 10\n",
            "iteration: 10 of max_iter: 10\n",
            "Number of Topics: 70\n",
            "iteration: 1 of max_iter: 10\n",
            "iteration: 2 of max_iter: 10\n",
            "iteration: 3 of max_iter: 10\n",
            "iteration: 4 of max_iter: 10\n",
            "iteration: 5 of max_iter: 10\n",
            "iteration: 6 of max_iter: 10\n",
            "iteration: 7 of max_iter: 10\n",
            "iteration: 8 of max_iter: 10\n",
            "iteration: 9 of max_iter: 10\n",
            "iteration: 10 of max_iter: 10\n",
            "iteration: 1 of max_iter: 10\n",
            "iteration: 2 of max_iter: 10\n",
            "iteration: 3 of max_iter: 10\n",
            "iteration: 4 of max_iter: 10\n",
            "iteration: 5 of max_iter: 10\n",
            "iteration: 6 of max_iter: 10\n",
            "iteration: 7 of max_iter: 10\n",
            "iteration: 8 of max_iter: 10\n",
            "iteration: 9 of max_iter: 10\n",
            "iteration: 10 of max_iter: 10\n",
            "iteration: 1 of max_iter: 10\n",
            "iteration: 2 of max_iter: 10\n",
            "iteration: 3 of max_iter: 10\n",
            "iteration: 4 of max_iter: 10\n",
            "iteration: 5 of max_iter: 10\n",
            "iteration: 6 of max_iter: 10\n",
            "iteration: 7 of max_iter: 10\n",
            "iteration: 8 of max_iter: 10\n",
            "iteration: 9 of max_iter: 10\n",
            "iteration: 10 of max_iter: 10\n",
            "iteration: 1 of max_iter: 10\n",
            "iteration: 2 of max_iter: 10\n",
            "iteration: 3 of max_iter: 10\n",
            "iteration: 4 of max_iter: 10\n",
            "iteration: 5 of max_iter: 10\n",
            "iteration: 6 of max_iter: 10\n",
            "iteration: 7 of max_iter: 10\n",
            "iteration: 8 of max_iter: 10\n",
            "iteration: 9 of max_iter: 10\n",
            "iteration: 10 of max_iter: 10\n",
            "iteration: 1 of max_iter: 10\n",
            "iteration: 2 of max_iter: 10\n",
            "iteration: 3 of max_iter: 10\n",
            "iteration: 4 of max_iter: 10\n",
            "iteration: 5 of max_iter: 10\n",
            "iteration: 6 of max_iter: 10\n",
            "iteration: 7 of max_iter: 10\n",
            "iteration: 8 of max_iter: 10\n",
            "iteration: 9 of max_iter: 10\n",
            "iteration: 10 of max_iter: 10\n",
            "Number of Topics: 80\n",
            "iteration: 1 of max_iter: 10\n",
            "iteration: 2 of max_iter: 10\n",
            "iteration: 3 of max_iter: 10\n",
            "iteration: 4 of max_iter: 10\n",
            "iteration: 5 of max_iter: 10\n",
            "iteration: 6 of max_iter: 10\n",
            "iteration: 7 of max_iter: 10\n",
            "iteration: 8 of max_iter: 10\n",
            "iteration: 9 of max_iter: 10\n",
            "iteration: 10 of max_iter: 10\n",
            "iteration: 1 of max_iter: 10\n",
            "iteration: 2 of max_iter: 10\n",
            "iteration: 3 of max_iter: 10\n",
            "iteration: 4 of max_iter: 10\n",
            "iteration: 5 of max_iter: 10\n",
            "iteration: 6 of max_iter: 10\n",
            "iteration: 7 of max_iter: 10\n",
            "iteration: 8 of max_iter: 10\n",
            "iteration: 9 of max_iter: 10\n",
            "iteration: 10 of max_iter: 10\n",
            "iteration: 1 of max_iter: 10\n",
            "iteration: 2 of max_iter: 10\n",
            "iteration: 3 of max_iter: 10\n",
            "iteration: 4 of max_iter: 10\n",
            "iteration: 5 of max_iter: 10\n",
            "iteration: 6 of max_iter: 10\n",
            "iteration: 7 of max_iter: 10\n",
            "iteration: 8 of max_iter: 10\n",
            "iteration: 9 of max_iter: 10\n",
            "iteration: 10 of max_iter: 10\n",
            "iteration: 1 of max_iter: 10\n",
            "iteration: 2 of max_iter: 10\n",
            "iteration: 3 of max_iter: 10\n",
            "iteration: 4 of max_iter: 10\n",
            "iteration: 5 of max_iter: 10\n",
            "iteration: 6 of max_iter: 10\n",
            "iteration: 7 of max_iter: 10\n",
            "iteration: 8 of max_iter: 10\n",
            "iteration: 9 of max_iter: 10\n",
            "iteration: 10 of max_iter: 10\n",
            "iteration: 1 of max_iter: 10\n",
            "iteration: 2 of max_iter: 10\n",
            "iteration: 3 of max_iter: 10\n",
            "iteration: 4 of max_iter: 10\n",
            "iteration: 5 of max_iter: 10\n",
            "iteration: 6 of max_iter: 10\n",
            "iteration: 7 of max_iter: 10\n",
            "iteration: 8 of max_iter: 10\n",
            "iteration: 9 of max_iter: 10\n",
            "iteration: 10 of max_iter: 10\n",
            "Number of Topics: 90\n",
            "iteration: 1 of max_iter: 10\n",
            "iteration: 2 of max_iter: 10\n",
            "iteration: 3 of max_iter: 10\n",
            "iteration: 4 of max_iter: 10\n",
            "iteration: 5 of max_iter: 10\n",
            "iteration: 6 of max_iter: 10\n",
            "iteration: 7 of max_iter: 10\n",
            "iteration: 8 of max_iter: 10\n",
            "iteration: 9 of max_iter: 10\n",
            "iteration: 10 of max_iter: 10\n",
            "iteration: 1 of max_iter: 10\n",
            "iteration: 2 of max_iter: 10\n",
            "iteration: 3 of max_iter: 10\n",
            "iteration: 4 of max_iter: 10\n",
            "iteration: 5 of max_iter: 10\n",
            "iteration: 6 of max_iter: 10\n",
            "iteration: 7 of max_iter: 10\n",
            "iteration: 8 of max_iter: 10\n",
            "iteration: 9 of max_iter: 10\n",
            "iteration: 10 of max_iter: 10\n",
            "iteration: 1 of max_iter: 10\n",
            "iteration: 2 of max_iter: 10\n",
            "iteration: 3 of max_iter: 10\n",
            "iteration: 4 of max_iter: 10\n",
            "iteration: 5 of max_iter: 10\n",
            "iteration: 6 of max_iter: 10\n",
            "iteration: 7 of max_iter: 10\n",
            "iteration: 8 of max_iter: 10\n",
            "iteration: 9 of max_iter: 10\n",
            "iteration: 10 of max_iter: 10\n",
            "iteration: 1 of max_iter: 10\n",
            "iteration: 2 of max_iter: 10\n",
            "iteration: 3 of max_iter: 10\n",
            "iteration: 4 of max_iter: 10\n",
            "iteration: 5 of max_iter: 10\n",
            "iteration: 6 of max_iter: 10\n",
            "iteration: 7 of max_iter: 10\n",
            "iteration: 8 of max_iter: 10\n",
            "iteration: 9 of max_iter: 10\n",
            "iteration: 10 of max_iter: 10\n",
            "iteration: 1 of max_iter: 10\n",
            "iteration: 2 of max_iter: 10\n",
            "iteration: 3 of max_iter: 10\n",
            "iteration: 4 of max_iter: 10\n",
            "iteration: 5 of max_iter: 10\n",
            "iteration: 6 of max_iter: 10\n",
            "iteration: 7 of max_iter: 10\n",
            "iteration: 8 of max_iter: 10\n",
            "iteration: 9 of max_iter: 10\n",
            "iteration: 10 of max_iter: 10\n",
            "Number of Topics: 100\n",
            "iteration: 1 of max_iter: 10\n",
            "iteration: 2 of max_iter: 10\n",
            "iteration: 3 of max_iter: 10\n",
            "iteration: 4 of max_iter: 10\n",
            "iteration: 5 of max_iter: 10\n",
            "iteration: 6 of max_iter: 10\n",
            "iteration: 7 of max_iter: 10\n",
            "iteration: 8 of max_iter: 10\n",
            "iteration: 9 of max_iter: 10\n",
            "iteration: 10 of max_iter: 10\n",
            "iteration: 1 of max_iter: 10\n",
            "iteration: 2 of max_iter: 10\n",
            "iteration: 3 of max_iter: 10\n",
            "iteration: 4 of max_iter: 10\n",
            "iteration: 5 of max_iter: 10\n",
            "iteration: 6 of max_iter: 10\n",
            "iteration: 7 of max_iter: 10\n",
            "iteration: 8 of max_iter: 10\n",
            "iteration: 9 of max_iter: 10\n",
            "iteration: 10 of max_iter: 10\n",
            "iteration: 1 of max_iter: 10\n",
            "iteration: 2 of max_iter: 10\n",
            "iteration: 3 of max_iter: 10\n",
            "iteration: 4 of max_iter: 10\n",
            "iteration: 5 of max_iter: 10\n",
            "iteration: 6 of max_iter: 10\n",
            "iteration: 7 of max_iter: 10\n",
            "iteration: 8 of max_iter: 10\n",
            "iteration: 9 of max_iter: 10\n",
            "iteration: 10 of max_iter: 10\n",
            "iteration: 1 of max_iter: 10\n",
            "iteration: 2 of max_iter: 10\n",
            "iteration: 3 of max_iter: 10\n",
            "iteration: 4 of max_iter: 10\n",
            "iteration: 5 of max_iter: 10\n",
            "iteration: 6 of max_iter: 10\n",
            "iteration: 7 of max_iter: 10\n",
            "iteration: 8 of max_iter: 10\n",
            "iteration: 9 of max_iter: 10\n",
            "iteration: 10 of max_iter: 10\n",
            "iteration: 1 of max_iter: 10\n",
            "iteration: 2 of max_iter: 10\n",
            "iteration: 3 of max_iter: 10\n",
            "iteration: 4 of max_iter: 10\n",
            "iteration: 5 of max_iter: 10\n",
            "iteration: 6 of max_iter: 10\n",
            "iteration: 7 of max_iter: 10\n",
            "iteration: 8 of max_iter: 10\n",
            "iteration: 9 of max_iter: 10\n",
            "iteration: 10 of max_iter: 10\n",
            "Time to check different models: 618.22 mins\n"
          ],
          "name": "stdout"
        }
      ]
    },
    {
      "cell_type": "code",
      "metadata": {
        "id": "DbLnyuLzl-BB",
        "outputId": "7f59783d-cbc3-498b-c128-214a23c8f016",
        "colab": {
          "base_uri": "https://localhost:8080/",
          "height": 201
        }
      },
      "source": [
        "perplexity_values"
      ],
      "execution_count": null,
      "outputs": [
        {
          "output_type": "execute_result",
          "data": {
            "text/plain": [
              "[2033.3648767110724,\n",
              " 1958.66495007669,\n",
              " 1935.0649835828995,\n",
              " 1942.7208369597888,\n",
              " 2039.043783936806,\n",
              " 2075.640581414562,\n",
              " 2098.568552870876,\n",
              " 2143.1122189318685,\n",
              " 2177.578631641437,\n",
              " 2218.657064026679]"
            ]
          },
          "metadata": {
            "tags": []
          },
          "execution_count": 26
        }
      ]
    },
    {
      "cell_type": "code",
      "metadata": {
        "id": "p7pRrX9kn_21"
      },
      "source": [
        "topics = [10,20,30,40,50,60,70,80,90,100]"
      ],
      "execution_count": null,
      "outputs": []
    },
    {
      "cell_type": "code",
      "metadata": {
        "id": "O36MkPcumA3Q",
        "outputId": "734a1257-db5e-43ee-8e06-cf02b254cb4d",
        "colab": {
          "base_uri": "https://localhost:8080/",
          "height": 265
        }
      },
      "source": [
        "perplexity = pd.DataFrame(perplexity_values)\n",
        "perplexity.index = topics\n",
        "\n",
        "\n",
        "perplexity.plot()\n",
        "plt.legend().remove()"
      ],
      "execution_count": null,
      "outputs": [
        {
          "output_type": "display_data",
          "data": {
            "image/png": "[encoded data removed]",
            "text/plain": [
              "<Figure size 432x288 with 1 Axes>"
            ]
          },
          "metadata": {
            "tags": [],
            "needs_background": "light"
          }
        }
      ]
    },
    {
      "cell_type": "code",
      "metadata": {
        "id": "OOPbuh4VOpXn",
        "outputId": "f45435c5-7e3a-449b-ea01-15211a0e6055",
        "colab": {
          "base_uri": "https://localhost:8080/",
          "height": 329
        }
      },
      "source": [
        "lda_model = LatentDirichletAllocation(learning_method='online',n_components=30,n_jobs=-1,verbose=1,random_state = 42)\n",
        "lda_output = lda_model.fit_transform(data)\n",
        "print(lda_model)"
      ],
      "execution_count": 21,
      "outputs": [
        {
          "output_type": "stream",
          "text": [
            "iteration: 1 of max_iter: 10\n",
            "iteration: 2 of max_iter: 10\n",
            "iteration: 3 of max_iter: 10\n",
            "iteration: 4 of max_iter: 10\n",
            "iteration: 5 of max_iter: 10\n",
            "iteration: 6 of max_iter: 10\n",
            "iteration: 7 of max_iter: 10\n",
            "iteration: 8 of max_iter: 10\n",
            "iteration: 9 of max_iter: 10\n",
            "iteration: 10 of max_iter: 10\n",
            "LatentDirichletAllocation(batch_size=128, doc_topic_prior=None,\n",
            "                          evaluate_every=-1, learning_decay=0.7,\n",
            "                          learning_method='online', learning_offset=10.0,\n",
            "                          max_doc_update_iter=100, max_iter=10,\n",
            "                          mean_change_tol=0.001, n_components=30, n_jobs=-1,\n",
            "                          perp_tol=0.1, random_state=42, topic_word_prior=None,\n",
            "                          total_samples=1000000.0, verbose=1)\n"
          ],
          "name": "stdout"
        }
      ]
    },
    {
      "cell_type": "markdown",
      "metadata": {
        "id": "-vNR8flC5rXL"
      },
      "source": [
        "Cross-Validation with GridSearchCV"
      ]
    },
    {
      "cell_type": "code",
      "metadata": {
        "id": "egWBrgvD0779"
      },
      "source": [
        "from sklearn.model_selection import GridSearchCV \n",
        "#Define Search Param\n",
        "#search_params = {'n_components': [10,20,30,40,50,60,70,80,90,100], 'doc_topic_prior': [0.01, 0.03, 0.05, 0.1, 0.2]}\n",
        "search_params = {'n_components': [10,20,30,40,50,60,70,80,90,100]}"
      ],
      "execution_count": null,
      "outputs": []
    },
    {
      "cell_type": "code",
      "metadata": {
        "id": "JlR4JRFU1SLc",
        "outputId": "f34538ab-4a62-440a-c535-89acb6ddd6b1",
        "colab": {
          "base_uri": "https://localhost:8080/",
          "height": 201
        }
      },
      "source": [
        "t = time()\n",
        "class MyLDAWithPerplexityScorer(LatentDirichletAllocation):\n",
        "\n",
        "    def score(self, X, y=None):\n",
        "\n",
        "        # add perplexity to the cross-validation\n",
        "        score = super(MyLDAWithPerplexityScorer, self).perplexity(X,sub_sampling=True)\n",
        "\n",
        "        # turn perplexity into a negative number\n",
        "        return -1*score\n",
        "        \n",
        "lda = MyLDAWithPerplexityScorer(max_iter=5, learning_method='online', learning_offset=50.,\n",
        "                                random_state=1983,verbose=1)\n",
        "model = GridSearchCV(lda, param_grid=search_params,n_jobs=-1,cv=5,refit = True,verbose=1)\n",
        "model.fit(data)\n",
        "print('Time to finish cross-validation: {} mins'.format(round((time() - t) / 60, 2)))"
      ],
      "execution_count": null,
      "outputs": [
        {
          "output_type": "stream",
          "text": [
            "Fitting 5 folds for each of 10 candidates, totalling 50 fits\n"
          ],
          "name": "stdout"
        },
        {
          "output_type": "stream",
          "text": [
            "[Parallel(n_jobs=-1)]: Using backend LokyBackend with 2 concurrent workers.\n",
            "[Parallel(n_jobs=-1)]: Done  46 tasks      | elapsed: 266.5min\n",
            "[Parallel(n_jobs=-1)]: Done  50 out of  50 | elapsed: 297.4min finished\n"
          ],
          "name": "stderr"
        },
        {
          "output_type": "stream",
          "text": [
            "iteration: 1 of max_iter: 5\n",
            "iteration: 2 of max_iter: 5\n",
            "iteration: 3 of max_iter: 5\n",
            "iteration: 4 of max_iter: 5\n",
            "iteration: 5 of max_iter: 5\n",
            "Time to finish cross-validation: 311.41 mins\n"
          ],
          "name": "stdout"
        }
      ]
    },
    {
      "cell_type": "code",
      "metadata": {
        "id": "wc0WfFXA15-2"
      },
      "source": [
        "cv = pd.DataFrame(model.cv_results_)"
      ],
      "execution_count": null,
      "outputs": []
    },
    {
      "cell_type": "code",
      "metadata": {
        "id": "E0ZO3BorvKG8",
        "outputId": "493d753f-51b6-4f71-9970-3ff22ec8b63c",
        "colab": {
          "base_uri": "https://localhost:8080/",
          "height": 557
        }
      },
      "source": [
        "cv"
      ],
      "execution_count": null,
      "outputs": [
        {
          "output_type": "execute_result",
          "data": {
            "text/html": [
              "<div>\n",
              "<style scoped>\n",
              "    .dataframe tbody tr th:only-of-type {\n",
              "        vertical-align: middle;\n",
              "    }\n",
              "\n",
              "    .dataframe tbody tr th {\n",
              "        vertical-align: top;\n",
              "    }\n",
              "\n",
              "    .dataframe thead th {\n",
              "        text-align: right;\n",
              "    }\n",
              "</style>\n",
              "<table border=\"1\" class=\"dataframe\">\n",
              "  <thead>\n",
              "    <tr style=\"text-align: right;\">\n",
              "      <th></th>\n",
              "      <th>mean_fit_time</th>\n",
              "      <th>std_fit_time</th>\n",
              "      <th>mean_score_time</th>\n",
              "      <th>std_score_time</th>\n",
              "      <th>param_n_components</th>\n",
              "      <th>params</th>\n",
              "      <th>split0_test_score</th>\n",
              "      <th>split1_test_score</th>\n",
              "      <th>split2_test_score</th>\n",
              "      <th>split3_test_score</th>\n",
              "      <th>split4_test_score</th>\n",
              "      <th>mean_test_score</th>\n",
              "      <th>std_test_score</th>\n",
              "      <th>rank_test_score</th>\n",
              "    </tr>\n",
              "  </thead>\n",
              "  <tbody>\n",
              "    <tr>\n",
              "      <th>0</th>\n",
              "      <td>378.677597</td>\n",
              "      <td>7.152805</td>\n",
              "      <td>16.068406</td>\n",
              "      <td>0.782857</td>\n",
              "      <td>10</td>\n",
              "      <td>{'n_components': 10}</td>\n",
              "      <td>-1936.620774</td>\n",
              "      <td>-2130.245602</td>\n",
              "      <td>-2057.533635</td>\n",
              "      <td>-1960.246825</td>\n",
              "      <td>-2080.547250</td>\n",
              "      <td>-2033.038817</td>\n",
              "      <td>73.350282</td>\n",
              "      <td>10</td>\n",
              "    </tr>\n",
              "    <tr>\n",
              "      <th>1</th>\n",
              "      <td>433.948810</td>\n",
              "      <td>7.584141</td>\n",
              "      <td>18.425565</td>\n",
              "      <td>1.209064</td>\n",
              "      <td>20</td>\n",
              "      <td>{'n_components': 20}</td>\n",
              "      <td>-1833.709088</td>\n",
              "      <td>-1995.812133</td>\n",
              "      <td>-1914.020764</td>\n",
              "      <td>-1821.389403</td>\n",
              "      <td>-1916.254123</td>\n",
              "      <td>-1896.237102</td>\n",
              "      <td>63.472919</td>\n",
              "      <td>9</td>\n",
              "    </tr>\n",
              "    <tr>\n",
              "      <th>2</th>\n",
              "      <td>527.454237</td>\n",
              "      <td>8.461549</td>\n",
              "      <td>22.264257</td>\n",
              "      <td>1.406113</td>\n",
              "      <td>30</td>\n",
              "      <td>{'n_components': 30}</td>\n",
              "      <td>-1793.800638</td>\n",
              "      <td>-1945.419971</td>\n",
              "      <td>-1859.316442</td>\n",
              "      <td>-1779.114475</td>\n",
              "      <td>-1877.738981</td>\n",
              "      <td>-1851.078101</td>\n",
              "      <td>60.230445</td>\n",
              "      <td>8</td>\n",
              "    </tr>\n",
              "    <tr>\n",
              "      <th>3</th>\n",
              "      <td>569.066823</td>\n",
              "      <td>8.824403</td>\n",
              "      <td>24.352088</td>\n",
              "      <td>1.667181</td>\n",
              "      <td>40</td>\n",
              "      <td>{'n_components': 40}</td>\n",
              "      <td>-1758.116633</td>\n",
              "      <td>-1921.565767</td>\n",
              "      <td>-1841.552764</td>\n",
              "      <td>-1746.764782</td>\n",
              "      <td>-1850.378247</td>\n",
              "      <td>-1823.675639</td>\n",
              "      <td>64.542019</td>\n",
              "      <td>7</td>\n",
              "    </tr>\n",
              "    <tr>\n",
              "      <th>4</th>\n",
              "      <td>665.337424</td>\n",
              "      <td>12.086919</td>\n",
              "      <td>28.574026</td>\n",
              "      <td>2.006063</td>\n",
              "      <td>50</td>\n",
              "      <td>{'n_components': 50}</td>\n",
              "      <td>-1746.651331</td>\n",
              "      <td>-1901.307091</td>\n",
              "      <td>-1818.646635</td>\n",
              "      <td>-1713.053362</td>\n",
              "      <td>-1825.923788</td>\n",
              "      <td>-1801.116442</td>\n",
              "      <td>65.852005</td>\n",
              "      <td>2</td>\n",
              "    </tr>\n",
              "    <tr>\n",
              "      <th>5</th>\n",
              "      <td>688.654844</td>\n",
              "      <td>16.867937</td>\n",
              "      <td>29.610124</td>\n",
              "      <td>1.984729</td>\n",
              "      <td>60</td>\n",
              "      <td>{'n_components': 60}</td>\n",
              "      <td>-1745.932510</td>\n",
              "      <td>-1911.762336</td>\n",
              "      <td>-1825.242629</td>\n",
              "      <td>-1733.146606</td>\n",
              "      <td>-1838.202536</td>\n",
              "      <td>-1810.857323</td>\n",
              "      <td>65.407501</td>\n",
              "      <td>4</td>\n",
              "    </tr>\n",
              "    <tr>\n",
              "      <th>6</th>\n",
              "      <td>793.589433</td>\n",
              "      <td>15.249539</td>\n",
              "      <td>33.835313</td>\n",
              "      <td>2.889411</td>\n",
              "      <td>70</td>\n",
              "      <td>{'n_components': 70}</td>\n",
              "      <td>-1754.276057</td>\n",
              "      <td>-1909.812367</td>\n",
              "      <td>-1805.854299</td>\n",
              "      <td>-1721.177190</td>\n",
              "      <td>-1798.317396</td>\n",
              "      <td>-1797.887462</td>\n",
              "      <td>63.839267</td>\n",
              "      <td>1</td>\n",
              "    </tr>\n",
              "    <tr>\n",
              "      <th>7</th>\n",
              "      <td>834.677972</td>\n",
              "      <td>17.137760</td>\n",
              "      <td>35.677950</td>\n",
              "      <td>2.761721</td>\n",
              "      <td>80</td>\n",
              "      <td>{'n_components': 80}</td>\n",
              "      <td>-1741.500015</td>\n",
              "      <td>-1935.534194</td>\n",
              "      <td>-1817.053825</td>\n",
              "      <td>-1718.673219</td>\n",
              "      <td>-1824.266175</td>\n",
              "      <td>-1807.405486</td>\n",
              "      <td>76.172548</td>\n",
              "      <td>3</td>\n",
              "    </tr>\n",
              "    <tr>\n",
              "      <th>8</th>\n",
              "      <td>958.521057</td>\n",
              "      <td>17.878733</td>\n",
              "      <td>40.578799</td>\n",
              "      <td>3.341193</td>\n",
              "      <td>90</td>\n",
              "      <td>{'n_components': 90}</td>\n",
              "      <td>-1753.753195</td>\n",
              "      <td>-1933.549778</td>\n",
              "      <td>-1824.316366</td>\n",
              "      <td>-1736.306934</td>\n",
              "      <td>-1809.713702</td>\n",
              "      <td>-1811.527995</td>\n",
              "      <td>69.357458</td>\n",
              "      <td>5</td>\n",
              "    </tr>\n",
              "    <tr>\n",
              "      <th>9</th>\n",
              "      <td>946.705904</td>\n",
              "      <td>82.915387</td>\n",
              "      <td>37.797147</td>\n",
              "      <td>6.417742</td>\n",
              "      <td>100</td>\n",
              "      <td>{'n_components': 100}</td>\n",
              "      <td>-1755.986541</td>\n",
              "      <td>-1945.061496</td>\n",
              "      <td>-1821.271102</td>\n",
              "      <td>-1726.848908</td>\n",
              "      <td>-1831.807449</td>\n",
              "      <td>-1816.195099</td>\n",
              "      <td>75.476979</td>\n",
              "      <td>6</td>\n",
              "    </tr>\n",
              "  </tbody>\n",
              "</table>\n",
              "</div>"
            ],
            "text/plain": [
              "   mean_fit_time  std_fit_time  ...  std_test_score  rank_test_score\n",
              "0     378.677597      7.152805  ...       73.350282               10\n",
              "1     433.948810      7.584141  ...       63.472919                9\n",
              "2     527.454237      8.461549  ...       60.230445                8\n",
              "3     569.066823      8.824403  ...       64.542019                7\n",
              "4     665.337424     12.086919  ...       65.852005                2\n",
              "5     688.654844     16.867937  ...       65.407501                4\n",
              "6     793.589433     15.249539  ...       63.839267                1\n",
              "7     834.677972     17.137760  ...       76.172548                3\n",
              "8     958.521057     17.878733  ...       69.357458                5\n",
              "9     946.705904     82.915387  ...       75.476979                6\n",
              "\n",
              "[10 rows x 14 columns]"
            ]
          },
          "metadata": {
            "tags": []
          },
          "execution_count": 34
        }
      ]
    },
    {
      "cell_type": "code",
      "metadata": {
        "id": "Au-GKqtD2LVu",
        "outputId": "5f55e1a8-749a-407d-db63-14c9cfd58771",
        "colab": {
          "base_uri": "https://localhost:8080/",
          "height": 417
        }
      },
      "source": [
        "plt.figure(figsize=(12,6))\n",
        "sns.lineplot(x=\"param_n_components\", y=cv['mean_test_score']**2, data=cv)"
      ],
      "execution_count": null,
      "outputs": [
        {
          "output_type": "execute_result",
          "data": {
            "text/plain": [
              "<matplotlib.axes._subplots.AxesSubplot at 0x7f21ac120e10>"
            ]
          },
          "metadata": {
            "tags": []
          },
          "execution_count": 45
        },
        {
          "output_type": "display_data",
          "data": {
            "image/png": "[encoded data removed]",
            "text/plain": [
              "<Figure size 864x432 with 1 Axes>"
            ]
          },
          "metadata": {
            "tags": [],
            "needs_background": "light"
          }
        }
      ]
    },
    {
      "cell_type": "code",
      "metadata": {
        "id": "9g8lTGlw2NzL",
        "outputId": "80e6c2f4-f0be-47b2-c1d6-c4e78f1d5a0f",
        "colab": {
          "base_uri": "https://localhost:8080/",
          "height": 54
        }
      },
      "source": [
        "!pip3 install kneed"
      ],
      "execution_count": null,
      "outputs": [
        {
          "output_type": "stream",
          "text": [
            "Installing collected packages: kneed\n",
            "Successfully installed kneed-0.7.0\n"
          ],
          "name": "stdout"
        }
      ]
    },
    {
      "cell_type": "code",
      "metadata": {
        "id": "HApxsRuV2Poz",
        "outputId": "04f2d6a2-b0f3-45a9-9254-2b0eb2567fb8",
        "colab": {
          "base_uri": "https://localhost:8080/",
          "height": 35
        }
      },
      "source": [
        "from kneed import KneeLocator\n",
        "k = cv['param_n_components']\n",
        "per = cv['mean_test_score']**2\n",
        "k = pd.to_numeric(k)\n",
        "per = pd.to_numeric(per)\n",
        "kn = KneeLocator(k, per, curve='convex', direction='decreasing')\n",
        "kn.knee"
      ],
      "execution_count": null,
      "outputs": [
        {
          "output_type": "execute_result",
          "data": {
            "text/plain": [
              "40"
            ]
          },
          "metadata": {
            "tags": []
          },
          "execution_count": 49
        }
      ]
    },
    {
      "cell_type": "code",
      "metadata": {
        "id": "c-zzQX9t2Wgm",
        "outputId": "afc1543c-80b6-4bb4-b7a2-a4d3984811bd",
        "colab": {
          "base_uri": "https://localhost:8080/",
          "height": 417
        }
      },
      "source": [
        "plt.figure(figsize=(12,6))\n",
        "plt.xlabel('number of clusters k')\n",
        "plt.ylabel('Perplexity')\n",
        "plt.plot(k, per, 'bx-')\n",
        "plt.vlines(kn.knee, plt.ylim()[0], plt.ylim()[1], linestyles='dashed')"
      ],
      "execution_count": null,
      "outputs": [
        {
          "output_type": "execute_result",
          "data": {
            "text/plain": [
              "<matplotlib.collections.LineCollection at 0x7f219b310748>"
            ]
          },
          "metadata": {
            "tags": []
          },
          "execution_count": 50
        },
        {
          "output_type": "display_data",
          "data": {
            "image/png": "[encoded data removed]",
            "text/plain": [
              "<Figure size 864x432 with 1 Axes>"
            ]
          },
          "metadata": {
            "tags": [],
            "needs_background": "light"
          }
        }
      ]
    },
    {
      "cell_type": "code",
      "metadata": {
        "id": "vAEmXJkOSIJJ",
        "outputId": "5ebd5778-3ffb-4f7e-fa24-ae0bd754e48e",
        "colab": {
          "base_uri": "https://localhost:8080/",
          "height": 329
        }
      },
      "source": [
        "lda_model = LatentDirichletAllocation(learning_method='online',n_components=40,n_jobs=-1,verbose=1,random_state = 42)\n",
        "lda_output = lda_model.fit_transform(data)\n",
        "print(lda_model)"
      ],
      "execution_count": null,
      "outputs": [
        {
          "output_type": "stream",
          "text": [
            "iteration: 1 of max_iter: 10\n",
            "iteration: 2 of max_iter: 10\n",
            "iteration: 3 of max_iter: 10\n",
            "iteration: 4 of max_iter: 10\n",
            "iteration: 5 of max_iter: 10\n",
            "iteration: 6 of max_iter: 10\n",
            "iteration: 7 of max_iter: 10\n",
            "iteration: 8 of max_iter: 10\n",
            "iteration: 9 of max_iter: 10\n",
            "iteration: 10 of max_iter: 10\n",
            "LatentDirichletAllocation(batch_size=128, doc_topic_prior=None,\n",
            "                          evaluate_every=-1, learning_decay=0.7,\n",
            "                          learning_method='online', learning_offset=10.0,\n",
            "                          max_doc_update_iter=100, max_iter=10,\n",
            "                          mean_change_tol=0.001, n_components=40, n_jobs=-1,\n",
            "                          perp_tol=0.1, random_state=42, topic_word_prior=None,\n",
            "                          total_samples=1000000.0, verbose=1)\n"
          ],
          "name": "stdout"
        }
      ]
    },
    {
      "cell_type": "markdown",
      "metadata": {
        "id": "aQaYLxGHSSFt"
      },
      "source": [
        "Gensim per despres"
      ]
    },
    {
      "cell_type": "code",
      "metadata": {
        "id": "SF0SNCCC2W8k"
      },
      "source": [
        "def compute_coherence_values_k_fold(dictionary, corpus, texts, limit, start=2, step=3, k=5):\n",
        "    perplexity_values= []\n",
        "    for num_topics in range(start, limit, step):\n",
        "      temp_perplexity = []\n",
        "      for fold in range(k):\n",
        "        print(f'processing fold', fold)\n",
        "        val_data = corpus[num_val_samples * fold: num_val_samples * (fold + 1)]\n",
        "        training_data = corpus[:num_val_samples * fold] + common_corpus[num_val_samples * (fold + 1):]\n",
        "        model = LdaModel(corpus=training_data, num_topics=num_topics,id2word=common_dictionary)\n",
        "        temp_perplexity.append(model.log_perplexity(val_data))\n",
        "      perplexity_values.append(temp_perplexity)\n",
        "    return perplexity_values"
      ],
      "execution_count": null,
      "outputs": []
    },
    {
      "cell_type": "code",
      "metadata": {
        "id": "RnO7BOA6bYSW"
      },
      "source": [
        "#with k-fold\n",
        "t = time()\n",
        "num_val_samples = len(common_corpus) // k\n",
        "perplexity_values = compute_coherence_values_k_fold(dictionary=common_dictionary, \n",
        "                                                    corpus=common_corpus, texts=df_unique['text_clean'], \n",
        "                                                    start=10, limit=30, step=10, k=5)\n",
        "print('Time to check different models: {} mins'.format(round((time() - t) / 60, 2)))"
      ],
      "execution_count": null,
      "outputs": []
    },
    {
      "cell_type": "code",
      "metadata": {
        "id": "-JBN9ke_a93d"
      },
      "source": [
        "for m, cv in zip(x, perplexity_values):\n",
        "    print(\"Num Topics =\", m, \" has Perplexity Value of\", round(2**-(cv), 4))"
      ],
      "execution_count": null,
      "outputs": []
    },
    {
      "cell_type": "markdown",
      "metadata": {
        "id": "XWQVrSp3TjuX"
      },
      "source": [
        "Save the model"
      ]
    },
    {
      "cell_type": "code",
      "metadata": {
        "id": "cE1LJNjUTOY2",
        "outputId": "de8b8ce1-21d7-4b32-9fdf-b023dd4a78ff",
        "colab": {
          "base_uri": "https://localhost:8080/",
          "height": 35
        }
      },
      "source": [
        "!pip3 install joblib"
      ],
      "execution_count": 22,
      "outputs": [
        {
          "output_type": "stream",
          "text": [
            "Requirement already satisfied: joblib in /usr/local/lib/python3.6/dist-packages (0.16.0)\n"
          ],
          "name": "stdout"
        }
      ]
    },
    {
      "cell_type": "code",
      "metadata": {
        "id": "llElKNbk7ygJ"
      },
      "source": [
        "import joblib"
      ],
      "execution_count": 23,
      "outputs": []
    },
    {
      "cell_type": "code",
      "metadata": {
        "id": "Lft3eB7KTL7c",
        "outputId": "b1808dad-cd51-4e3c-ff30-e619480888d0",
        "colab": {
          "base_uri": "https://localhost:8080/",
          "height": 35
        }
      },
      "source": [
        "joblib.dump(lda_model, 'lda_model_migrants_cv.2000.2016.jl')"
      ],
      "execution_count": 24,
      "outputs": [
        {
          "output_type": "execute_result",
          "data": {
            "text/plain": [
              "['lda_model_migrants_cv.2000.2016.jl']"
            ]
          },
          "metadata": {
            "tags": []
          },
          "execution_count": 24
        }
      ]
    },
    {
      "cell_type": "code",
      "metadata": {
        "id": "9EnQdSTO2Bw_",
        "outputId": "277d3190-616c-4b2e-cc07-ba10a45762fa",
        "colab": {
          "base_uri": "https://localhost:8080/",
          "height": 35
        }
      },
      "source": [
        "joblib.dump(lda_output, 'lda_output_cv.2000.2016.jl')"
      ],
      "execution_count": 25,
      "outputs": [
        {
          "output_type": "execute_result",
          "data": {
            "text/plain": [
              "['lda_output_cv.2000.2016.jl']"
            ]
          },
          "metadata": {
            "tags": []
          },
          "execution_count": 25
        }
      ]
    },
    {
      "cell_type": "code",
      "metadata": {
        "id": "WalQLieeTgs5"
      },
      "source": [
        "# then reload it with\n",
        "lda_model = joblib.load('lda_model_migrants_cv.2000.2016.jl')"
      ],
      "execution_count": 26,
      "outputs": []
    },
    {
      "cell_type": "code",
      "metadata": {
        "id": "DnYfwyEw3Tq9",
        "outputId": "a8f1e782-83c9-415a-eedb-011e1799b876",
        "colab": {
          "base_uri": "https://localhost:8080/",
          "height": 35
        }
      },
      "source": [
        "theta = pd.DataFrame(lda_output)\n",
        "theta['index'] = np.arange(len(theta))\n",
        "print(len(theta))\n",
        "meta_theta_df = df_unique.join(theta, how='left', on='index', rsuffix = '_theta')"
      ],
      "execution_count": 27,
      "outputs": [
        {
          "output_type": "stream",
          "text": [
            "41619\n"
          ],
          "name": "stdout"
        }
      ]
    },
    {
      "cell_type": "code",
      "metadata": {
        "id": "GBRLNLvV3XjQ"
      },
      "source": [
        "mybeta = pd.DataFrame(lda_model.components_)\n",
        "mybeta.columns = features\n",
        "mybeta = mybeta.transpose()\n",
        "#mybeta = np.exp(mybeta)"
      ],
      "execution_count": 28,
      "outputs": []
    },
    {
      "cell_type": "code",
      "metadata": {
        "id": "tYozjUTKt8Zi",
        "outputId": "ea37354e-338e-4380-b225-d6321c969958",
        "colab": {
          "base_uri": "https://localhost:8080/",
          "height": 35
        }
      },
      "source": [
        "len(mybeta)"
      ],
      "execution_count": 29,
      "outputs": [
        {
          "output_type": "execute_result",
          "data": {
            "text/plain": [
              "5787"
            ]
          },
          "metadata": {
            "tags": []
          },
          "execution_count": 29
        }
      ]
    },
    {
      "cell_type": "code",
      "metadata": {
        "id": "DAowgBYb3dj1",
        "outputId": "59f45a41-1ad0-44dd-d88e-99e073d1d0b9",
        "colab": {
          "base_uri": "https://localhost:8080/",
          "height": 226
        }
      },
      "source": [
        "nwords = 50\n",
        "\n",
        "topwords = []\n",
        "for i in range(0,30,1):\n",
        "  tempframe = mybeta[i].sort_values(ascending=False)\n",
        "  tempframe = tempframe[1:nwords]\n",
        "  #tempvec = tempframe.index.values\n",
        "  topwords.append(tempframe.index.values)\n",
        "\n",
        "topwords = pd.DataFrame(topwords).T\n",
        "topwords.head()"
      ],
      "execution_count": 30,
      "outputs": [
        {
          "output_type": "execute_result",
          "data": {
            "text/html": [
              "<div>\n",
              "<style scoped>\n",
              "    .dataframe tbody tr th:only-of-type {\n",
              "        vertical-align: middle;\n",
              "    }\n",
              "\n",
              "    .dataframe tbody tr th {\n",
              "        vertical-align: top;\n",
              "    }\n",
              "\n",
              "    .dataframe thead th {\n",
              "        text-align: right;\n",
              "    }\n",
              "</style>\n",
              "<table border=\"1\" class=\"dataframe\">\n",
              "  <thead>\n",
              "    <tr style=\"text-align: right;\">\n",
              "      <th></th>\n",
              "      <th>0</th>\n",
              "      <th>1</th>\n",
              "      <th>2</th>\n",
              "      <th>3</th>\n",
              "      <th>4</th>\n",
              "      <th>5</th>\n",
              "      <th>6</th>\n",
              "      <th>7</th>\n",
              "      <th>8</th>\n",
              "      <th>9</th>\n",
              "      <th>10</th>\n",
              "      <th>11</th>\n",
              "      <th>12</th>\n",
              "      <th>13</th>\n",
              "      <th>14</th>\n",
              "      <th>15</th>\n",
              "      <th>16</th>\n",
              "      <th>17</th>\n",
              "      <th>18</th>\n",
              "      <th>19</th>\n",
              "      <th>20</th>\n",
              "      <th>21</th>\n",
              "      <th>22</th>\n",
              "      <th>23</th>\n",
              "      <th>24</th>\n",
              "      <th>25</th>\n",
              "      <th>26</th>\n",
              "      <th>27</th>\n",
              "      <th>28</th>\n",
              "      <th>29</th>\n",
              "    </tr>\n",
              "  </thead>\n",
              "  <tbody>\n",
              "    <tr>\n",
              "      <th>0</th>\n",
              "      <td>vote</td>\n",
              "      <td>said</td>\n",
              "      <td>immigrants</td>\n",
              "      <td>free</td>\n",
              "      <td>angeles</td>\n",
              "      <td>said</td>\n",
              "      <td>said</td>\n",
              "      <td>church</td>\n",
              "      <td>state</td>\n",
              "      <td>miami</td>\n",
              "      <td>people</td>\n",
              "      <td>law</td>\n",
              "      <td>one</td>\n",
              "      <td>romney</td>\n",
              "      <td>bill</td>\n",
              "      <td>street</td>\n",
              "      <td>nw</td>\n",
              "      <td>students</td>\n",
              "      <td>republican</td>\n",
              "      <td>county</td>\n",
              "      <td>united</td>\n",
              "      <td>term</td>\n",
              "      <td>new</td>\n",
              "      <td>department</td>\n",
              "      <td>million</td>\n",
              "      <td>work</td>\n",
              "      <td>world</td>\n",
              "      <td>new</td>\n",
              "      <td>europe</td>\n",
              "      <td>president</td>\n",
              "    </tr>\n",
              "    <tr>\n",
              "      <th>1</th>\n",
              "      <td>state</td>\n",
              "      <td>population</td>\n",
              "      <td>said</td>\n",
              "      <td>org</td>\n",
              "      <td>border</td>\n",
              "      <td>officers</td>\n",
              "      <td>border</td>\n",
              "      <td>new</td>\n",
              "      <td>care</td>\n",
              "      <td>cuban</td>\n",
              "      <td>group</td>\n",
              "      <td>case</td>\n",
              "      <td>family</td>\n",
              "      <td>charges</td>\n",
              "      <td>senate</td>\n",
              "      <td>new</td>\n",
              "      <td>money</td>\n",
              "      <td>schools</td>\n",
              "      <td>party</td>\n",
              "      <td>virginia</td>\n",
              "      <td>states</td>\n",
              "      <td>navigation</td>\n",
              "      <td>said</td>\n",
              "      <td>officials</td>\n",
              "      <td>chinese</td>\n",
              "      <td>labor</td>\n",
              "      <td>one</td>\n",
              "      <td>one</td>\n",
              "      <td>said</td>\n",
              "      <td>house</td>\n",
              "    </tr>\n",
              "    <tr>\n",
              "      <th>2</th>\n",
              "      <td>election</td>\n",
              "      <td>hispanic</td>\n",
              "      <td>illegal</td>\n",
              "      <td>st</td>\n",
              "      <td>san</td>\n",
              "      <td>violence</td>\n",
              "      <td>officials</td>\n",
              "      <td>said</td>\n",
              "      <td>county</td>\n",
              "      <td>cuba</td>\n",
              "      <td>day</td>\n",
              "      <td>said</td>\n",
              "      <td>like</td>\n",
              "      <td>federal</td>\n",
              "      <td>house</td>\n",
              "      <td>west</td>\n",
              "      <td>billion</td>\n",
              "      <td>children</td>\n",
              "      <td>mccain</td>\n",
              "      <td>maryland</td>\n",
              "      <td>mexico</td>\n",
              "      <td>clinton</td>\n",
              "      <td>york</td>\n",
              "      <td>military</td>\n",
              "      <td>business</td>\n",
              "      <td>said</td>\n",
              "      <td>like</td>\n",
              "      <td>year</td>\n",
              "      <td>party</td>\n",
              "      <td>bush</td>\n",
              "    </tr>\n",
              "    <tr>\n",
              "      <th>3</th>\n",
              "      <td>democratic</td>\n",
              "      <td>people</td>\n",
              "      <td>country</td>\n",
              "      <td>museum</td>\n",
              "      <td>said</td>\n",
              "      <td>killed</td>\n",
              "      <td>homeland</td>\n",
              "      <td>york</td>\n",
              "      <td>needs</td>\n",
              "      <td>gonzalez</td>\n",
              "      <td>community</td>\n",
              "      <td>justice</td>\n",
              "      <td>people</td>\n",
              "      <td>authorities</td>\n",
              "      <td>r</td>\n",
              "      <td>com</td>\n",
              "      <td>budget</td>\n",
              "      <td>high</td>\n",
              "      <td>bush</td>\n",
              "      <td>washington</td>\n",
              "      <td>american</td>\n",
              "      <td>turn</td>\n",
              "      <td>residents</td>\n",
              "      <td>u</td>\n",
              "      <td>china</td>\n",
              "      <td>jobs</td>\n",
              "      <td>history</td>\n",
              "      <td>business</td>\n",
              "      <td>government</td>\n",
              "      <td>said</td>\n",
              "    </tr>\n",
              "    <tr>\n",
              "      <th>4</th>\n",
              "      <td>republican</td>\n",
              "      <td>among</td>\n",
              "      <td>legal</td>\n",
              "      <td>www</td>\n",
              "      <td>mexico</td>\n",
              "      <td>man</td>\n",
              "      <td>department</td>\n",
              "      <td>photograph</td>\n",
              "      <td>help</td>\n",
              "      <td>said</td>\n",
              "      <td>news</td>\n",
              "      <td>federal</td>\n",
              "      <td>would</td>\n",
              "      <td>prison</td>\n",
              "      <td>legislation</td>\n",
              "      <td>film</td>\n",
              "      <td>million</td>\n",
              "      <td>said</td>\n",
              "      <td>said</td>\n",
              "      <td>prince</td>\n",
              "      <td>said</td>\n",
              "      <td>search</td>\n",
              "      <td>park</td>\n",
              "      <td>intelligence</td>\n",
              "      <td>said</td>\n",
              "      <td>union</td>\n",
              "      <td>life</td>\n",
              "      <td>market</td>\n",
              "      <td>muslim</td>\n",
              "      <td>republicans</td>\n",
              "    </tr>\n",
              "  </tbody>\n",
              "</table>\n",
              "</div>"
            ],
            "text/plain": [
              "           0           1           2   ...        27          28           29\n",
              "0        vote        said  immigrants  ...       new      europe    president\n",
              "1       state  population        said  ...       one        said        house\n",
              "2    election    hispanic     illegal  ...      year       party         bush\n",
              "3  democratic      people     country  ...  business  government         said\n",
              "4  republican       among       legal  ...    market      muslim  republicans\n",
              "\n",
              "[5 rows x 30 columns]"
            ]
          },
          "metadata": {
            "tags": []
          },
          "execution_count": 30
        }
      ]
    },
    {
      "cell_type": "code",
      "metadata": {
        "id": "XC72D4Da3Tuh"
      },
      "source": [
        "text_theta = theta.join(df_unique['text'], how='right',on='index')\n",
        "text_theta = text_theta.set_index('text')"
      ],
      "execution_count": 31,
      "outputs": []
    },
    {
      "cell_type": "code",
      "metadata": {
        "id": "hY7DHFWW3Tyh",
        "outputId": "4108b6f8-6951-456a-8ef1-01c49a39170e",
        "colab": {
          "base_uri": "https://localhost:8080/",
          "height": 678
        }
      },
      "source": [
        "ntext = 30\n",
        "\n",
        "toptexts=[]\n",
        "for i in range(0,30,1):\n",
        "  tempframe = text_theta.sort_values(i,ascending=False)\n",
        "  tempframe = tempframe[1:ntext]\n",
        "  toptexts.append(tempframe.index.values)\n",
        "  \n",
        "\n",
        "toptexts = pd.DataFrame(toptexts).T\n",
        "\n",
        "toptexts.head()"
      ],
      "execution_count": 32,
      "outputs": [
        {
          "output_type": "execute_result",
          "data": {
            "text/html": [
              "<div>\n",
              "<style scoped>\n",
              "    .dataframe tbody tr th:only-of-type {\n",
              "        vertical-align: middle;\n",
              "    }\n",
              "\n",
              "    .dataframe tbody tr th {\n",
              "        vertical-align: top;\n",
              "    }\n",
              "\n",
              "    .dataframe thead th {\n",
              "        text-align: right;\n",
              "    }\n",
              "</style>\n",
              "<table border=\"1\" class=\"dataframe\">\n",
              "  <thead>\n",
              "    <tr style=\"text-align: right;\">\n",
              "      <th></th>\n",
              "      <th>0</th>\n",
              "      <th>1</th>\n",
              "      <th>2</th>\n",
              "      <th>3</th>\n",
              "      <th>4</th>\n",
              "      <th>5</th>\n",
              "      <th>6</th>\n",
              "      <th>7</th>\n",
              "      <th>8</th>\n",
              "      <th>9</th>\n",
              "      <th>10</th>\n",
              "      <th>11</th>\n",
              "      <th>12</th>\n",
              "      <th>13</th>\n",
              "      <th>14</th>\n",
              "      <th>15</th>\n",
              "      <th>16</th>\n",
              "      <th>17</th>\n",
              "      <th>18</th>\n",
              "      <th>19</th>\n",
              "      <th>20</th>\n",
              "      <th>21</th>\n",
              "      <th>22</th>\n",
              "      <th>23</th>\n",
              "      <th>24</th>\n",
              "      <th>25</th>\n",
              "      <th>26</th>\n",
              "      <th>27</th>\n",
              "      <th>28</th>\n",
              "      <th>29</th>\n",
              "    </tr>\n",
              "  </thead>\n",
              "  <tbody>\n",
              "    <tr>\n",
              "      <th>0</th>\n",
              "      <td>\\r\\n\\r\\nChris James needed help moving a piano...</td>\n",
              "      <td>\\r\\n\\r\\nAfter a face-off among large military ...</td>\n",
              "      <td>Alejandro Ramirez was 15 when he crossed the U...</td>\n",
              "      <td>The social conservatives and moderates who tog...</td>\n",
              "      <td>\\r\\n\\r\\nThe locals showed up by the dozens, a ...</td>\n",
              "      <td>Early in his career, Julio Iglesias sang about...</td>\n",
              "      <td>After one of the most bitterly contested and e...</td>\n",
              "      <td>\\r\\n\\r\\nIt's a bit like Napster -- but for pol...</td>\n",
              "      <td>\\r\\n\\r\\nPhil Angelides and Steve Westly tore i...</td>\n",
              "      <td>\\r\\n\\r\\n \\r\\n\\r\\nThe immigration reform bill c...</td>\n",
              "      <td>\\r\\n\\r\\nCHICAGO\\r\\n\\r\\nA Mexican crime boss wh...</td>\n",
              "      <td>\\r\\n\\r\\n \\r\\n\\r\\nLocal law enforcement officia...</td>\n",
              "      <td>SEPT. 11 COMMISSION REPORT.\\r\\n\\r\\nGovernment ...</td>\n",
              "      <td>Tialhei Zathang kept his arms crossed in front...</td>\n",
              "      <td>\\r\\n\\r\\nBefore the sun has risen, while most p...</td>\n",
              "      <td>\\r\\n\\r\\nAs a rule, when the goal is to unseat ...</td>\n",
              "      <td>\\r\\n\\r\\nFor tens of millions of baby boomers a...</td>\n",
              "      <td>\\r\\n\\r\\nDrawing on fear of restrictive immigra...</td>\n",
              "      <td>\\r\\n\\r\\nAt a time when considerable political ...</td>\n",
              "      <td>Turning from compassion to aggression, Republi...</td>\n",
              "      <td>\\r\\n\\r\\nWhen the state's tow-truck teams found...</td>\n",
              "      <td>Full Text\\r\\n\\r\\nTurn on search term navigatio...</td>\n",
              "      <td>\\r\\n\\r\\nPresident Bush provided a detailed pla...</td>\n",
              "      <td>A growing dispute among California Republicans...</td>\n",
              "      <td>\\r\\n\\r\\n \\r\\n\\r\\nWASHINGTON -- Hours before a ...</td>\n",
              "      <td>\\r\\n\\r\\nOn July 15, the day President Bush int...</td>\n",
              "      <td>\\r\\n\\r\\nRe \"The holes in the fence plan,\" Opin...</td>\n",
              "      <td>Nearly blind in one eye because of diabetes, M...</td>\n",
              "      <td>'PRETTY GOOD TEAM': Vice President Dick Cheney...</td>\n",
              "      <td>\\r\\n\\r\\nCalling the nation's borders dangerous...</td>\n",
              "    </tr>\n",
              "    <tr>\n",
              "      <th>1</th>\n",
              "      <td>\\r\\n\\r\\nThe federal government is scaling back...</td>\n",
              "      <td>\\r\\n\\r\\nOne of the most misconstrued opinions,...</td>\n",
              "      <td>COVER STORY\\r\\n\\r\\nResponding to a protest by ...</td>\n",
              "      <td>Italians elected Silvio Berlusconi to a third ...</td>\n",
              "      <td>Full Text\\r\\n\\r\\nTurn on search term navigatio...</td>\n",
              "      <td>\\r\\n\\r\\n \\r\\n\\r\\nAt a makeshift church shelter...</td>\n",
              "      <td>\\r\\n\\r\\nA conservative group opposed to a Los ...</td>\n",
              "      <td>\\r\\n\\r\\nA dozen municipalities in Montgomery C...</td>\n",
              "      <td>Millions of Mexican citizens who make brief vi...</td>\n",
              "      <td>\\r\\n\\r\\nPresident Vicente Fox said Wednesday t...</td>\n",
              "      <td>\\r\\n\\r\\nIce-dancing champion Tanith Belbin was...</td>\n",
              "      <td>\\r\\n\\r\\nOn the edge of the Campo de' Fiori ope...</td>\n",
              "      <td>\\r\\n\\r\\nZacarias Moussaoui, who is facing the ...</td>\n",
              "      <td>The federal budget President Clinton unveiled ...</td>\n",
              "      <td>\\r\\n\\r\\nStrong winds and 20-foot waves tossed ...</td>\n",
              "      <td>\\r\\n\\r\\nQUALITIES OF LIFE.\\r\\n\\r\\nAlthough Lil...</td>\n",
              "      <td>Five years ago, Juliet Salazar was a new immig...</td>\n",
              "      <td>\\r\\n\\r\\nTHE HOUSE VOTED to repeal the estate t...</td>\n",
              "      <td>Three young neo-Nazis were convicted of murder...</td>\n",
              "      <td>Full Text\\r\\n\\r\\nTurn on search term navigatio...</td>\n",
              "      <td>Full Text\\r\\n\\r\\nTurn on search term navigatio...</td>\n",
              "      <td>THE ELIAN GONZALEZ CASE. THE COMMUNITY.\\r\\n\\r\\...</td>\n",
              "      <td>\\r\\n\\r\\nWashington -- HOMELAND SECURITY Secret...</td>\n",
              "      <td>At the Los Angeles Police Department's Rampart...</td>\n",
              "      <td>The numbers of Latinos and Asians in the Unite...</td>\n",
              "      <td>Full Text\\r\\n\\r\\nTurn on search term navigatio...</td>\n",
              "      <td>\\r\\n\\r\\nOne of the Chinese citizens sought for...</td>\n",
              "      <td>\\r\\n\\r\\nCongress is moving to replace the pape...</td>\n",
              "      <td>Rosemary Hom arrived at Amay's Bakery and Nood...</td>\n",
              "      <td>\\r\\n\\r\\nPrime Minister Tony Blair has won a th...</td>\n",
              "    </tr>\n",
              "    <tr>\n",
              "      <th>2</th>\n",
              "      <td>\\r\\n\\r\\nAt the beginning of the mayor's recent...</td>\n",
              "      <td>The Peruvian couple seeking help at a nonprofi...</td>\n",
              "      <td>\\r\\n\\r\\nCORRECTION: SEE CORRECTION APPENDED; B...</td>\n",
              "      <td>F.Y.I. NATION. EXPRESS LANE. Around the nation...</td>\n",
              "      <td>\\r\\n\\r\\nA man from Sierra Leone who entered th...</td>\n",
              "      <td>Maria Francisco has sat in clinic waiting room...</td>\n",
              "      <td>The Border Patrol said Thursday that it picked...</td>\n",
              "      <td>\\r\\n\\r\\n \\r\\n\\r\\nThe immigration bill under co...</td>\n",
              "      <td>One family lives in subsidized housing. The fa...</td>\n",
              "      <td>\\r\\n\\r\\nIt was April 14, the Revolutionary War...</td>\n",
              "      <td>\\r\\n\\r\\nJohn Crewdson reported from Rome and W...</td>\n",
              "      <td>Sens. John McCain and Barack Obama aren't the ...</td>\n",
              "      <td>Lawmakers appeared poised to pass a budget lat...</td>\n",
              "      <td>\\r\\n\\r\\nFor hundreds of thousands of minimum-w...</td>\n",
              "      <td>\\r\\n\\r\\nIf all the efforts to create a \"third\"...</td>\n",
              "      <td>\\r\\n\\r\\nQuiet as it is kept in political circl...</td>\n",
              "      <td>Members of the First United Methodist Church g...</td>\n",
              "      <td>\\r\\n\\r\\nCapt. Scott Southworth took his soldie...</td>\n",
              "      <td>The abrupt end of the worldwide commodities bo...</td>\n",
              "      <td>Full Text\\r\\n\\r\\nTurn on search term navigatio...</td>\n",
              "      <td>\\r\\n\\r\\nA Republican congressman has told cons...</td>\n",
              "      <td>Re \"Progress in Pakistan,\" editorial, Feb. 20\\...</td>\n",
              "      <td>There were no whoppers.\\r\\n\\r\\nBut in the last...</td>\n",
              "      <td>There was not much detail in the plan Presiden...</td>\n",
              "      <td>\\r\\n\\r\\nCaption text only.\\r\\n\\r\\nSo long\\r\\n\\...</td>\n",
              "      <td>\\r\\n\\r\\nThe Minuteman Project, an illegal-immi...</td>\n",
              "      <td>Re \"U.S. atty. in L.A. set quotas, staff says,...</td>\n",
              "      <td>\\r\\n\\r\\nNo one disputes that at 15, Ana Cristi...</td>\n",
              "      <td>\\r\\n\\r\\nCHICAGO\\r\\n\\r\\nA resolution introduced...</td>\n",
              "      <td>\\r\\n\\r\\nAn international arms dealer who serve...</td>\n",
              "    </tr>\n",
              "    <tr>\n",
              "      <th>3</th>\n",
              "      <td>\\r\\n\\r\\nWhen 11-term Rep. Jim Kolbe (R-Ariz.) ...</td>\n",
              "      <td>\\r\\n\\r\\nThe tightening of homeland security si...</td>\n",
              "      <td>Full Text\\r\\n\\r\\nTurn on search term navigatio...</td>\n",
              "      <td>It was one sweet day.\\r\\n\\r\\nAn eclectic mix o...</td>\n",
              "      <td>Full Text\\r\\n\\r\\nTurn on search term navigatio...</td>\n",
              "      <td>\\r\\n\\r\\nFederal and state authorities are tryi...</td>\n",
              "      <td>Re \"Inland Latinos Alarmed by New Border Patro...</td>\n",
              "      <td>\\r\\n\\r\\nYOU MIGHT NOT expect that people die a...</td>\n",
              "      <td>Full Text\\r\\n\\r\\nTurn on search term navigatio...</td>\n",
              "      <td>\\r\\n\\r\\nThe House of Delegates and the Senate ...</td>\n",
              "      <td>The national media are a confusing bunch. Afte...</td>\n",
              "      <td>\\r\\n\\r\\nPeople in this placid surfing town kne...</td>\n",
              "      <td>Mike Spence has devoted nearly two decades to ...</td>\n",
              "      <td>\\r\\n\\r\\nDelegates from 58 countries promised t...</td>\n",
              "      <td>\\r\\n\\r\\nConstruction worker Miguel Garcia was ...</td>\n",
              "      <td>Full Text\\r\\n\\r\\nTurn on search term navigatio...</td>\n",
              "      <td>Anna Latkowski, 75, of Wisconsin Dells, former...</td>\n",
              "      <td>\\r\\n\\r\\nEduardo doesn't exactly know what to d...</td>\n",
              "      <td>\\r\\n\\r\\nA 22-year-old federal law that allows ...</td>\n",
              "      <td>Full Text\\r\\n\\r\\nTurn on search term navigatio...</td>\n",
              "      <td>\\r\\n\\r\\n \\r\\n\\r\\nNINE LINES\\r\\n\\r\\n1. Gloom's ...</td>\n",
              "      <td>THE IMMIGRANT\\r\\n\\r\\nDodger Stages, 340 W. 50t...</td>\n",
              "      <td>\\r\\n\\r\\n \\r\\n\\r\\nFrom its founding four decade...</td>\n",
              "      <td>\\r\\n\\r\\n \\r\\n\\r\\nLAS VEGAS -- Declaring that A...</td>\n",
              "      <td>Coca-Cola Co.'s new boss, moving quickly to pu...</td>\n",
              "      <td>\\r\\n\\r\\nThere has been speculation in the medi...</td>\n",
              "      <td>\\r\\n\\r\\n \\r\\n\\r\\nThe budget talks are founderi...</td>\n",
              "      <td>Six months ago, this town of 5,500 took a stan...</td>\n",
              "      <td>\\r\\n\\r\\nRecent efforts to reform our immigrati...</td>\n",
              "      <td>\\r\\n\\r\\nUnder a proposal forged by senators th...</td>\n",
              "    </tr>\n",
              "    <tr>\n",
              "      <th>4</th>\n",
              "      <td>\\r\\n\\r\\nCHICAGO\\r\\n\\r\\nSixth-grader Alexis Sal...</td>\n",
              "      <td>Salvador Ferreira used to dream of a house, a ...</td>\n",
              "      <td>\\r\\n\\r\\nON a blustery fall day, Donald Trump s...</td>\n",
              "      <td>The father-and-son owners of an Oxnard auto bo...</td>\n",
              "      <td>Benetton has come up with a unique way to expr...</td>\n",
              "      <td>\\r\\n\\r\\nThe U.S. Department of Labor has sued ...</td>\n",
              "      <td>Rescue workers rushed to help residents in sou...</td>\n",
              "      <td>\\r\\n\\r\\nThe mothers of Dan Snyder and Dany Hea...</td>\n",
              "      <td>Investigators found no evidence that Immigrati...</td>\n",
              "      <td>\\r\\n\\r\\n \\r\\n\\r\\nTony Cardenas' hands were chi...</td>\n",
              "      <td>\\r\\n\\r\\nTrue to its Confederate namesake, the ...</td>\n",
              "      <td>Flaming torches in their hands and outrage in ...</td>\n",
              "      <td>A week after his appointment, Prime Minister G...</td>\n",
              "      <td>\\r\\n\\r\\nThe uncovering of an alleged bomb plot...</td>\n",
              "      <td>So John Stevens isn't the next \"American Idol....</td>\n",
              "      <td>CITY INSIDER\\r\\n\\r\\nTodd Huynh grew up in Chic...</td>\n",
              "      <td>A group of about 25 protesters gathered at the...</td>\n",
              "      <td>Two men have been charged with harboring 56 il...</td>\n",
              "      <td>\\r\\n\\r\\nTHE phrase ''All the good ones are tak...</td>\n",
              "      <td>Sen. John F. Kerry, propelled by his victories...</td>\n",
              "      <td>WASHINGTON - The faltering economy has caught ...</td>\n",
              "      <td>As the Census Bureau geared up to begin visiti...</td>\n",
              "      <td>\\r\\n\\r\\n \\r\\n\\r\\nThe intimate gathering stretc...</td>\n",
              "      <td>Former Federal Reserve Chairman Alan Greenspan...</td>\n",
              "      <td>Re \"Shortage of skilled workers looms in U.S.,...</td>\n",
              "      <td>CAMPAIGN 2004\\r\\n\\r\\nFour years after a photo-...</td>\n",
              "      <td>Full Text\\r\\n\\r\\nTurn on search term navigatio...</td>\n",
              "      <td>\\r\\n\\r\\nLooking ahead to a U.S.-Mexico-Canada ...</td>\n",
              "      <td>Despite tough talk accompanying a strict new U...</td>\n",
              "      <td>\\r\\n\\r\\nSamuel A. Alito Jr. got his first job ...</td>\n",
              "    </tr>\n",
              "  </tbody>\n",
              "</table>\n",
              "</div>"
            ],
            "text/plain": [
              "                                                  0   ...                                                 29\n",
              "0  \\r\\n\\r\\nChris James needed help moving a piano...  ...  \\r\\n\\r\\nCalling the nation's borders dangerous...\n",
              "1  \\r\\n\\r\\nThe federal government is scaling back...  ...  \\r\\n\\r\\nPrime Minister Tony Blair has won a th...\n",
              "2  \\r\\n\\r\\nAt the beginning of the mayor's recent...  ...  \\r\\n\\r\\nAn international arms dealer who serve...\n",
              "3  \\r\\n\\r\\nWhen 11-term Rep. Jim Kolbe (R-Ariz.) ...  ...  \\r\\n\\r\\nUnder a proposal forged by senators th...\n",
              "4  \\r\\n\\r\\nCHICAGO\\r\\n\\r\\nSixth-grader Alexis Sal...  ...  \\r\\n\\r\\nSamuel A. Alito Jr. got his first job ...\n",
              "\n",
              "[5 rows x 30 columns]"
            ]
          },
          "metadata": {
            "tags": []
          },
          "execution_count": 32
        }
      ]
    },
    {
      "cell_type": "code",
      "metadata": {
        "id": "N_iW12kw3T36",
        "outputId": "92463349-3f22-45fb-e5fa-75f63646052a",
        "colab": {
          "base_uri": "https://localhost:8080/",
          "height": 226
        }
      },
      "source": [
        "mybeta = pd.DataFrame(lda_model.components_)\n",
        "mybeta.columns = features\n",
        "mybeta = mybeta.transpose()\n",
        "#mybeta = np.exp(mybeta)\n",
        "\n",
        "myw = 0.3\n",
        "word_beta_sum = np.sum(mybeta, axis=1)\n",
        "mybeta_for_frex = mybeta\n",
        "columns = list(mybeta_for_frex)\n",
        "df_range = len(mybeta_for_frex)\n",
        "for m in columns:\n",
        "  for n in range(df_range):\n",
        "    mybeta_for_frex.iloc[n][m] = 1/(myw/(mybeta_for_frex.iloc[n][m]/word_beta_sum.iloc[n])+((1-myw)/mybeta_for_frex.iloc[n][m]))\n",
        "  #print(m)\n",
        "\n",
        "nwords = 50\n",
        "\n",
        "topwordsFREX = []\n",
        "for i in range(0,30,1):\n",
        "  tempframe = mybeta_for_frex[i].sort_values(ascending=False)\n",
        "  tempframe = tempframe[1:nwords]\n",
        "  #tempvec = tempframe.index.values\n",
        "  topwordsFREX.append(tempframe.index.values)\n",
        "\n",
        "topwordsFREX = pd.DataFrame(topwordsFREX).T\n",
        "topwordsFREX.head()"
      ],
      "execution_count": 33,
      "outputs": [
        {
          "output_type": "execute_result",
          "data": {
            "text/html": [
              "<div>\n",
              "<style scoped>\n",
              "    .dataframe tbody tr th:only-of-type {\n",
              "        vertical-align: middle;\n",
              "    }\n",
              "\n",
              "    .dataframe tbody tr th {\n",
              "        vertical-align: top;\n",
              "    }\n",
              "\n",
              "    .dataframe thead th {\n",
              "        text-align: right;\n",
              "    }\n",
              "</style>\n",
              "<table border=\"1\" class=\"dataframe\">\n",
              "  <thead>\n",
              "    <tr style=\"text-align: right;\">\n",
              "      <th></th>\n",
              "      <th>0</th>\n",
              "      <th>1</th>\n",
              "      <th>2</th>\n",
              "      <th>3</th>\n",
              "      <th>4</th>\n",
              "      <th>5</th>\n",
              "      <th>6</th>\n",
              "      <th>7</th>\n",
              "      <th>8</th>\n",
              "      <th>9</th>\n",
              "      <th>10</th>\n",
              "      <th>11</th>\n",
              "      <th>12</th>\n",
              "      <th>13</th>\n",
              "      <th>14</th>\n",
              "      <th>15</th>\n",
              "      <th>16</th>\n",
              "      <th>17</th>\n",
              "      <th>18</th>\n",
              "      <th>19</th>\n",
              "      <th>20</th>\n",
              "      <th>21</th>\n",
              "      <th>22</th>\n",
              "      <th>23</th>\n",
              "      <th>24</th>\n",
              "      <th>25</th>\n",
              "      <th>26</th>\n",
              "      <th>27</th>\n",
              "      <th>28</th>\n",
              "      <th>29</th>\n",
              "    </tr>\n",
              "  </thead>\n",
              "  <tbody>\n",
              "    <tr>\n",
              "      <th>0</th>\n",
              "      <td>ballot</td>\n",
              "      <td>pew</td>\n",
              "      <td>deporting</td>\n",
              "      <td>sundays</td>\n",
              "      <td>paso</td>\n",
              "      <td>shootings</td>\n",
              "      <td>flights</td>\n",
              "      <td>mrs</td>\n",
              "      <td>schwarzenegger</td>\n",
              "      <td>miami</td>\n",
              "      <td>protesters</td>\n",
              "      <td>upheld</td>\n",
              "      <td>sleep</td>\n",
              "      <td>mitt</td>\n",
              "      <td>pathway</td>\n",
              "      <td>films</td>\n",
              "      <td>trillion</td>\n",
              "      <td>educators</td>\n",
              "      <td>huckabee</td>\n",
              "      <td>arlington</td>\n",
              "      <td>brazil</td>\n",
              "      <td>hillary</td>\n",
              "      <td>borough</td>\n",
              "      <td>cia</td>\n",
              "      <td>kong</td>\n",
              "      <td>workers</td>\n",
              "      <td>artifacts</td>\n",
              "      <td>equity</td>\n",
              "      <td>eu</td>\n",
              "      <td>barack</td>\n",
              "    </tr>\n",
              "    <tr>\n",
              "      <th>1</th>\n",
              "      <td>voter</td>\n",
              "      <td>blacks</td>\n",
              "      <td>undocumented</td>\n",
              "      <td>tuesdays</td>\n",
              "      <td>diego</td>\n",
              "      <td>detectives</td>\n",
              "      <td>airline</td>\n",
              "      <td>pope</td>\n",
              "      <td>clinics</td>\n",
              "      <td>cuban</td>\n",
              "      <td>marches</td>\n",
              "      <td>lawsuit</td>\n",
              "      <td>crying</td>\n",
              "      <td>osama</td>\n",
              "      <td>appropriations</td>\n",
              "      <td>performances</td>\n",
              "      <td>loans</td>\n",
              "      <td>graduation</td>\n",
              "      <td>kasich</td>\n",
              "      <td>prince</td>\n",
              "      <td>japan</td>\n",
              "      <td>jeb</td>\n",
              "      <td>manassas</td>\n",
              "      <td>pentagon</td>\n",
              "      <td>beijing</td>\n",
              "      <td>laborers</td>\n",
              "      <td>statue</td>\n",
              "      <td>properties</td>\n",
              "      <td>parliament</td>\n",
              "      <td>boehner</td>\n",
              "    </tr>\n",
              "    <tr>\n",
              "      <th>2</th>\n",
              "      <td>turnout</td>\n",
              "      <td>hispanics</td>\n",
              "      <td>aliens</td>\n",
              "      <td>fridays</td>\n",
              "      <td>angeles</td>\n",
              "      <td>homicide</td>\n",
              "      <td>travelers</td>\n",
              "      <td>bishop</td>\n",
              "      <td>nurses</td>\n",
              "      <td>cuba</td>\n",
              "      <td>organizers</td>\n",
              "      <td>unconstitutional</td>\n",
              "      <td>tears</td>\n",
              "      <td>indicted</td>\n",
              "      <td>provisions</td>\n",
              "      <td>adaptation</td>\n",
              "      <td>economists</td>\n",
              "      <td>teachers</td>\n",
              "      <td>sanders</td>\n",
              "      <td>maryland</td>\n",
              "      <td>korea</td>\n",
              "      <td>rodham</td>\n",
              "      <td>staten</td>\n",
              "      <td>intelligence</td>\n",
              "      <td>executives</td>\n",
              "      <td>wage</td>\n",
              "      <td>characters</td>\n",
              "      <td>customers</td>\n",
              "      <td>austria</td>\n",
              "      <td>hastert</td>\n",
              "    </tr>\n",
              "    <tr>\n",
              "      <th>3</th>\n",
              "      <td>incumbent</td>\n",
              "      <td>census</td>\n",
              "      <td>citizenship</td>\n",
              "      <td>wednesdays</td>\n",
              "      <td>los</td>\n",
              "      <td>unarmed</td>\n",
              "      <td>passengers</td>\n",
              "      <td>catholics</td>\n",
              "      <td>uninsured</td>\n",
              "      <td>castro</td>\n",
              "      <td>protesting</td>\n",
              "      <td>judges</td>\n",
              "      <td>remembers</td>\n",
              "      <td>sentenced</td>\n",
              "      <td>legislation</td>\n",
              "      <td>actress</td>\n",
              "      <td>inflation</td>\n",
              "      <td>literacy</td>\n",
              "      <td>kerry</td>\n",
              "      <td>montgomery</td>\n",
              "      <td>canada</td>\n",
              "      <td>navigation</td>\n",
              "      <td>apartments</td>\n",
              "      <td>iraqi</td>\n",
              "      <td>ceo</td>\n",
              "      <td>overtime</td>\n",
              "      <td>contains</td>\n",
              "      <td>sells</td>\n",
              "      <td>brussels</td>\n",
              "      <td>lindsey</td>\n",
              "    </tr>\n",
              "    <tr>\n",
              "      <th>4</th>\n",
              "      <td>voting</td>\n",
              "      <td>asians</td>\n",
              "      <td>deferred</td>\n",
              "      <td>thursdays</td>\n",
              "      <td>san</td>\n",
              "      <td>detective</td>\n",
              "      <td>database</td>\n",
              "      <td>congregation</td>\n",
              "      <td>clinic</td>\n",
              "      <td>cubans</td>\n",
              "      <td>marched</td>\n",
              "      <td>supreme</td>\n",
              "      <td>leg</td>\n",
              "      <td>indictment</td>\n",
              "      <td>schumer</td>\n",
              "      <td>starring</td>\n",
              "      <td>tax</td>\n",
              "      <td>elementary</td>\n",
              "      <td>mccain</td>\n",
              "      <td>baltimore</td>\n",
              "      <td>colombia</td>\n",
              "      <td>donald</td>\n",
              "      <td>metro</td>\n",
              "      <td>inspector</td>\n",
              "      <td>firms</td>\n",
              "      <td>labor</td>\n",
              "      <td>centuries</td>\n",
              "      <td>billionaire</td>\n",
              "      <td>poland</td>\n",
              "      <td>biden</td>\n",
              "    </tr>\n",
              "  </tbody>\n",
              "</table>\n",
              "</div>"
            ],
            "text/plain": [
              "          0          1             2   ...           27          28       29\n",
              "0     ballot        pew     deporting  ...       equity          eu   barack\n",
              "1      voter     blacks  undocumented  ...   properties  parliament  boehner\n",
              "2    turnout  hispanics        aliens  ...    customers     austria  hastert\n",
              "3  incumbent     census   citizenship  ...        sells    brussels  lindsey\n",
              "4     voting     asians      deferred  ...  billionaire      poland    biden\n",
              "\n",
              "[5 rows x 30 columns]"
            ]
          },
          "metadata": {
            "tags": []
          },
          "execution_count": 33
        }
      ]
    },
    {
      "cell_type": "code",
      "metadata": {
        "id": "7I2ZqHHs3T2u"
      },
      "source": [
        "toptexts.to_excel('toptexts.2000.2016.xlsx', index = False)\n",
        "topwords.to_excel('topwords.2000.2016.xlsx',index = False)\n",
        "topwordsFREX.to_excel('topwordsFREX.2000.2016.xlsx',index = False)"
      ],
      "execution_count": 34,
      "outputs": []
    },
    {
      "cell_type": "code",
      "metadata": {
        "id": "dP3aphmx7o5T"
      },
      "source": [
        "lda_model = joblib.load('lda_model_migrants.2000.2016.jl')\n",
        "lda_output = joblib.load('lda_output.2000.2016.jl')"
      ],
      "execution_count": null,
      "outputs": []
    },
    {
      "cell_type": "code",
      "metadata": {
        "id": "Bm757cJH8BOi"
      },
      "source": [
        "theta = pd.DataFrame(lda_output)\n",
        "theta['index'] = np.arange(len(theta))\n",
        "meta_theta_df = df_unique.join(theta, how='left', on='index', rsuffix = '_theta')"
      ],
      "execution_count": null,
      "outputs": []
    },
    {
      "cell_type": "code",
      "metadata": {
        "id": "aEH-hkVK740X"
      },
      "source": [
        "meta_theta_df.to_excel('meta_theta_df.2000.2016.xlsx',index = False)"
      ],
      "execution_count": 35,
      "outputs": []
    },
    {
      "cell_type": "markdown",
      "metadata": {
        "id": "Z5pqpNIz22nH"
      },
      "source": [
        "#Word Embeddings"
      ]
    },
    {
      "cell_type": "code",
      "metadata": {
        "id": "6XG7twtnS3on"
      },
      "source": [
        "!python -m spacy download en_core_web_lg"
      ],
      "execution_count": null,
      "outputs": []
    },
    {
      "cell_type": "code",
      "metadata": {
        "id": "dxLCucxFS4ZI"
      },
      "source": [
        "nlp = spacy.load('en_core_web_lg', disable=['ner', 'parser'])"
      ],
      "execution_count": null,
      "outputs": []
    },
    {
      "cell_type": "code",
      "metadata": {
        "id": "I875e891BJ61"
      },
      "source": [
        "df00 = df_small[df_small['year'] == 2000]"
      ],
      "execution_count": null,
      "outputs": []
    },
    {
      "cell_type": "code",
      "metadata": {
        "id": "pEol2899BVuu",
        "outputId": "72ad2b92-d6f4-4895-c546-c48253136ad1",
        "colab": {
          "base_uri": "https://localhost:8080/",
          "height": 35
        }
      },
      "source": [
        "len(df00)"
      ],
      "execution_count": null,
      "outputs": [
        {
          "output_type": "execute_result",
          "data": {
            "text/plain": [
              "7247"
            ]
          },
          "metadata": {
            "tags": []
          },
          "execution_count": 246
        }
      ]
    },
    {
      "cell_type": "code",
      "metadata": {
        "id": "75fPolpWVbYU"
      },
      "source": [
        "lower_casing = (row.lower() for row in df00['text'])"
      ],
      "execution_count": null,
      "outputs": []
    },
    {
      "cell_type": "code",
      "metadata": {
        "id": "MP-DvIRtS63I"
      },
      "source": [
        "def cleaning_lem(doc):\n",
        "    txt = [token.lemma_ for token in doc if not token.is_stop and not token.is_punct and not token.like_num]\n",
        "    if len(txt) > 2:\n",
        "        return ' '.join(txt)"
      ],
      "execution_count": null,
      "outputs": []
    },
    {
      "cell_type": "code",
      "metadata": {
        "id": "PuOk9MHH_ZaQ",
        "outputId": "39a9b442-8c08-4fcb-c957-d4743c83fb6b",
        "colab": {
          "base_uri": "https://localhost:8080/",
          "height": 35
        }
      },
      "source": [
        "t = time()\n",
        "txt = [cleaning_lem(doc) for doc in nlp.pipe(lower_casing, batch_size=100, n_threads=-1)]\n",
        "print('Time to clean up everything: {} mins'.format(round((time() - t) / 60, 2)))"
      ],
      "execution_count": null,
      "outputs": [
        {
          "output_type": "stream",
          "text": [
            "Time to clean up everything: 4.5 mins\n"
          ],
          "name": "stdout"
        }
      ]
    },
    {
      "cell_type": "code",
      "metadata": {
        "id": "7jSs5MykUmcq",
        "outputId": "89dfabb5-bee8-4484-cc0a-3058bdbd0044",
        "colab": {
          "base_uri": "https://localhost:8080/",
          "height": 146
        }
      },
      "source": [
        "df00['text'].iloc[0]"
      ],
      "execution_count": null,
      "outputs": [
        {
          "output_type": "execute_result",
          "data": {
            "application/vnd.google.colaboratory.intrinsic+json": {
              "type": "string"
            },
            "text/plain": [
              "'SPECIAL SECTION. Employment Outlook.\\r\\n\\r\\nAfter more than a decade of flying, Anne Carter\\'s enthusiasm for\\r\\nclimbing into those Delta Air Lines jets was beginning to lag.\\r\\n\\r\\nA mother of two children, Carter liked her work as a flight attendant,\\r\\nbut she wanted more time with her kids. She wanted more control over her\\r\\nschedule. \"I got real tired of never having a choice of when I flew or\\r\\nwhere,\" Carter recalls.\\r\\n\\r\\nSo, four years ago, Carter started something new: She began learning French.\\r\\n\\r\\n\"I loved international (flights), and I knew that if I wanted to have a\\r\\nchoice and have weekends and holidays off, I needed a language,\" she said.\\r\\n\\r\\nUpon passing the airline\\'s French test, Carter leaped ahead of her\\r\\nmonolingual peers. \"Everything is done by seniority,\" the 21-year Delta\\r\\nveteran said. \"It gives me about a 10-year advantage.\"\\r\\n\\r\\nCarter says she has spent at least $6,000 for French lessons and an\\r\\nimmersion program in which she took off from work to spend a month in Nice.\\r\\n\\r\\nIt was worth every franc, she says, because she can virtually pick and\\r\\nchoose the schedule she wants and spend more time with her children.\\r\\nPlus, \"depending on how many hours I fly, I do make more money,\" she\\r\\nsays of her international excursions.\\r\\n\\r\\nParlez -vous francais?\\r\\n\\r\\nMore and more workers are saying yes, not only to French, but also to\\r\\nGerman, Spanish, Mandarin Chinese and other languages, said Evelyne\\r\\nFeltz. She is the director of the Atlanta office of In Lingua, an\\r\\ninternational language training organization where Carter and many other\\r\\nworkers practice their accents--and enhance their career prospects.\\r\\n\\r\\nTo be sure, many students go to In Lingua for their own personal\\r\\ninterests, but \"about 90 percent of what we do here is provide language\\r\\ntraining to employees of companies who do international business,\" Feltz\\r\\nsaid. \"Those employees could be anywhere from middle management to\\r\\nexecutives.\"\\r\\n\\r\\nSome are employed by Fortune 500 companies, while others are with small\\r\\ncompanies that \"are just starting to do business outside of the United\\r\\nStates,\" she added.\\r\\n\\r\\nWhile firm figures on the number of Americans studying foreign languages\\r\\nare illusive, In Lingua\\'s enrollment seems to reflect a national trend\\r\\namong private language schools. At International Center for Language\\r\\nStudies, a school in Washington that teaches more than 80 languages,\\r\\nabout 90 percent of the student body attends for work-related reasons.\\r\\nThe percentage is even higher at Language Plus in El Paso, Texas, where\\r\\nthe number is closer to 98 percent.\\r\\n\\r\\nIt is not executives who are leading the trend, either. More rank-\\r\\nand-file workers at banks, telephone companies and other service\\r\\nbusinesses are speaking foreign languages to better serve their growing\\r\\nnumbers of foreign-born customers. Demand is highest for proficiency in\\r\\nSpanish, but also is growing for Mandarin Chinese, Cantonese, Korean,\\r\\nVietnamese, Russian and Hindi.\\r\\n\\r\\nAnd then there are the students who don\\'t formally enroll in a class but\\r\\nstudy a foreign language just the same.\\r\\n\\r\\nRichard M. Crain, like Delta\\'s Carter, wanted to get ahead at work. The\\r\\nLarchmont, N.Y., dentist studied Japanese. \"I looked around, and I said\\r\\nto myself, `Who has money?\\'\" Crain said.\\r\\n\\r\\nAfter hiring a Japanese dental assistant, Crain, with her help, began\\r\\nlearning basic phrases. Next, he set up a dedicated phone line with an\\r\\nanswering message in Japanese, had his dental forms translated into\\r\\nJapanese and posted notices about his practice in convenience stores\\r\\nfrequented by the growing number of Japanese residents in his community.\\r\\n\\r\\nThe plan worked. So far, he has treated some 500 Japanese patients with\\r\\na few language gaffes along the way. Once, Crain meant to say, \"Please\\r\\nspit\" but used the word for sushi. The patient just stared at him.\\r\\n\\r\\nCarter and Crain are just the two examples of a trend that has steadily\\r\\ninfiltrated the American workplace. As more immigrants make their homes\\r\\nin the United States and as more American corporations and entrepreneurs\\r\\nexpand their business dealings with foreign companies and the U.S.-based\\r\\nimmigrant communities, learning a foreign language has become a career\\r\\nplus and sometimes a career must.\\r\\n\\r\\nCase in point: The number of language-proficiency exams administered by\\r\\ncompanies to employees has increased by nearly 1,000 percent during the\\r\\npast 12 years, according to Language Testing International of White\\r\\nPlains, N.Y., an arm of the American Council on the Teaching of Foreign\\r\\nLanguages.\\r\\n\\r\\nSometimes, the goal is more to familiarize people with a foreign culture\\r\\nthan to make them fluent in a foreign tongue.\\r\\n\\r\\n\"For 10 years now, I have seen big changes, and the interest here is\\r\\ngreater and greater,\" In Lingua\\'s Feltz said. \"Culture is not to be\\r\\nignored. . . . You could make a mistake and offend someone and make them\\r\\nnot want to do business with you.\"\\r\\n\\r\\nEnglish, of course, is the language of the global economy, so American\\r\\nexecutives can travel abroad without knowing the native language. But\\r\\nthat can put them at a disadvantage, while just a little effort can pay\\r\\nbig dividends, educators say.\\r\\n\\r\\n\"Even though they hold the meetings in English, you miss the asides,\"\\r\\nsaid Harriet Barnett, a consultant at the American Council on the\\r\\nTeaching of Foreign Languages in Yonkers, N.Y.\\r\\n\\r\\nJust making an effort to say a few words in the native tongue can make a\\r\\ngood impression, she said, and \"it sends a subliminal message that we\\r\\nare equal.\"\\r\\n\\r\\nThe movement has spread to blue-collar work, especially construction,\\r\\nwhere failure to communicate can result in accidents. John Dusch, the\\r\\n54-year-old safety director of MKB Construction Inc. in Phoenix, said\\r\\nits safety record improved since English-speaking workers took Spanish\\r\\nlessons this summer so they could converse with Spanish-speaking\\r\\nworkers. For the first time, \"the entire crew eats lunch together,\" he said.'"
            ]
          },
          "metadata": {
            "tags": []
          },
          "execution_count": 250
        }
      ]
    },
    {
      "cell_type": "code",
      "metadata": {
        "id": "OiMOou0b_dL0",
        "outputId": "069685d6-9a0d-4bb6-c6ef-4613cbffc23e",
        "colab": {
          "base_uri": "https://localhost:8080/",
          "height": 182
        }
      },
      "source": [
        "df_clean = pd.DataFrame({'clean': txt})\n",
        "df_clean = df_clean.dropna().drop_duplicates()\n",
        "print(df_clean.shape)\n",
        "print('\\n')\n",
        "print(df_clean.head())"
      ],
      "execution_count": null,
      "outputs": [
        {
          "output_type": "stream",
          "text": [
            "(7210, 1)\n",
            "\n",
            "\n",
            "                                               clean\n",
            "0  special section employment outlook \\r\\n\\r\\n de...\n",
            "1  cluster high rise know frankfurter manhattan \\...\n",
            "2  favorite holiday memory \\r\\n\\r\\n hesitate writ...\n",
            "3  gallop growth south west drive u.s population ...\n",
            "4  cuba wednesday dismiss new report panel \\r\\n a...\n"
          ],
          "name": "stdout"
        }
      ]
    },
    {
      "cell_type": "code",
      "metadata": {
        "id": "BOM274QCWMNu",
        "outputId": "c8927a84-d38f-421d-d098-5cb093a4e395",
        "colab": {
          "base_uri": "https://localhost:8080/",
          "height": 146
        }
      },
      "source": [
        "df_clean['clean'].iloc[0]"
      ],
      "execution_count": null,
      "outputs": [
        {
          "output_type": "execute_result",
          "data": {
            "application/vnd.google.colaboratory.intrinsic+json": {
              "type": "string"
            },
            "text/plain": [
              "'special section employment outlook \\r\\n\\r\\n decade flying anne carter enthusiasm \\r\\n climb delta air line jet begin lag \\r\\n\\r\\n mother child carter like work flight attendant \\r\\n want time kid want control \\r\\n schedule get real tired have choice fly \\r\\n carter recall \\r\\n\\r\\n year ago carter start new begin learn french \\r\\n\\r\\n love international flight know want \\r\\n choice weekend holiday need language say \\r\\n\\r\\n pass airline french test carter leap ahead \\r\\n monolingual peer seniority 21-year delta \\r\\n veteran say give 10-year advantage \\r\\n\\r\\n carter say spend $ french lesson \\r\\n immersion program take work spend month nice \\r\\n\\r\\n worth franc say virtually pick \\r\\n choose schedule want spend time child \\r\\n plus depend hour fly money \\r\\n say international excursion \\r\\n\\r\\n parlez -vous francais \\r\\n\\r\\n worker say yes french \\r\\n german spanish mandarin chinese language say evelyne \\r\\n feltz director atlanta office lingua \\r\\n international language training organization carter \\r\\n worker practice accent enhance career prospect \\r\\n\\r\\n sure student lingua personal \\r\\n interest percent provide language \\r\\n training employee company international business feltz \\r\\n say employee middle management \\r\\n executive \\r\\n\\r\\n employ fortune company small \\r\\n company start business outside united \\r\\n state add \\r\\n\\r\\n firm figure number americans study foreign language \\r\\n illusive lingua enrollment reflect national trend \\r\\n private language school international center language \\r\\n study school washington teach language \\r\\n percent student body attend work relate reason \\r\\n percentage high language plus el paso texas \\r\\n number close percent \\r\\n\\r\\n executive lead trend rank- \\r\\n file worker bank telephone company service \\r\\n business speak foreign language better serve grow \\r\\n number foreign bear customer demand high proficiency \\r\\n spanish grow mandarin chinese cantonese korean \\r\\n vietnamese russian hindi \\r\\n\\r\\n student formally enroll class \\r\\n study foreign language \\r\\n\\r\\n richard m. crain like delta carter want ahead work \\r\\n larchmont n.y dentist study japanese look say \\r\\n ` money crain say \\r\\n\\r\\n hire japanese dental assistant crain help begin \\r\\n learn basic phrase set dedicated phone line \\r\\n answer message japanese dental form translate \\r\\n japanese post notice practice convenience store \\r\\n frequent grow number japanese resident community \\r\\n\\r\\n plan work far treat japanese patient \\r\\n language gaffe way crain mean \\r\\n spit word sushi patient stare \\r\\n\\r\\n carter crain example trend steadily \\r\\n infiltrate american workplace immigrant home \\r\\n united states american corporation entrepreneur \\r\\n expand business dealing foreign company u.s.-based \\r\\n immigrant community learn foreign language career \\r\\n plus career \\r\\n\\r\\n case point number language proficiency exam administer \\r\\n company employee increase nearly percent \\r\\n past year accord language test international white \\r\\n plain n.y arm american council teaching foreign \\r\\n language \\r\\n\\r\\n goal familiarize people foreign culture \\r\\n fluent foreign tongue \\r\\n\\r\\n year see big change interest \\r\\n great great lingua feltz say culture \\r\\n ignore mistake offend \\r\\n want business \\r\\n\\r\\n english course language global economy american \\r\\n executive travel abroad know native language \\r\\n disadvantage little effort pay \\r\\n big dividend educator \\r\\n\\r\\n hold meeting english miss aside \\r\\n say harriet barnett consultant american council \\r\\n teaching foreign language yonkers n.y \\r\\n\\r\\n make effort word native tongue \\r\\n good impression say send subliminal message \\r\\n equal \\r\\n\\r\\n movement spread blue collar work especially construction \\r\\n failure communicate result accident john dusch \\r\\n 54-year old safety director mkb construction inc phoenix say \\r\\n safety record improve english speak worker take spanish \\r\\n lesson summer converse spanish speak \\r\\n worker time entire crew eat lunch say'"
            ]
          },
          "metadata": {
            "tags": []
          },
          "execution_count": 252
        }
      ]
    },
    {
      "cell_type": "code",
      "metadata": {
        "id": "ewDla4R-_6d6"
      },
      "source": [
        "from gensim.models import Phrases\n",
        "from gensim.models.phrases import Phraser"
      ],
      "execution_count": null,
      "outputs": []
    },
    {
      "cell_type": "code",
      "metadata": {
        "id": "lQPaZLxD_8rO"
      },
      "source": [
        "sent = [row.split() for row in df_clean['clean']]"
      ],
      "execution_count": null,
      "outputs": []
    },
    {
      "cell_type": "code",
      "metadata": {
        "id": "Dk61ZEAZADAG"
      },
      "source": [
        "phrases = Phrases(sent, min_count=30, progress_per=100)"
      ],
      "execution_count": null,
      "outputs": []
    },
    {
      "cell_type": "code",
      "metadata": {
        "id": "WFbBsZXVAFPd",
        "outputId": "569e1741-18dd-417c-a5bd-8794a9c94046",
        "colab": {
          "base_uri": "https://localhost:8080/",
          "height": 54
        }
      },
      "source": [
        "bigram = Phraser(phrases)"
      ],
      "execution_count": null,
      "outputs": [
        {
          "output_type": "stream",
          "text": [
            "INFO - 22:54:24: source_vocab length 1914982\n",
            "INFO - 22:54:44: Phraser built with 2381 phrasegrams\n"
          ],
          "name": "stderr"
        }
      ]
    },
    {
      "cell_type": "code",
      "metadata": {
        "id": "TwLMI4PvAFsw"
      },
      "source": [
        "sentences = bigram[sent]"
      ],
      "execution_count": null,
      "outputs": []
    },
    {
      "cell_type": "code",
      "metadata": {
        "id": "Uq8wXgU2AHwo",
        "outputId": "764abb15-41fc-4157-ad79-4547047f433f",
        "colab": {
          "base_uri": "https://localhost:8080/",
          "height": 35
        }
      },
      "source": [
        "word_freq = defaultdict(int)\n",
        "for sent in sentences:\n",
        "    for i in sent:\n",
        "        word_freq[i] += 1\n",
        "len(word_freq)"
      ],
      "execution_count": null,
      "outputs": [
        {
          "output_type": "execute_result",
          "data": {
            "text/plain": [
              "79629"
            ]
          },
          "metadata": {
            "tags": []
          },
          "execution_count": 258
        }
      ]
    },
    {
      "cell_type": "code",
      "metadata": {
        "id": "ySHl5dIAAKhR",
        "outputId": "c4038ab4-0c02-4785-c4de-0f3e19a1e83d",
        "colab": {
          "base_uri": "https://localhost:8080/",
          "height": 35
        }
      },
      "source": [
        "sorted(word_freq, key=word_freq.get, reverse=True)[:10]"
      ],
      "execution_count": null,
      "outputs": [
        {
          "output_type": "execute_result",
          "data": {
            "text/plain": [
              "['say', 'year', 'people', 'mr', '$', 'state', 'time', 'work', 'new', 'child']"
            ]
          },
          "metadata": {
            "tags": []
          },
          "execution_count": 259
        }
      ]
    },
    {
      "cell_type": "code",
      "metadata": {
        "id": "PSiLnImcASDL"
      },
      "source": [
        "import multiprocessing\n",
        "from gensim.models import Word2Vec"
      ],
      "execution_count": null,
      "outputs": []
    },
    {
      "cell_type": "code",
      "metadata": {
        "id": "2r0otPL6BhNT",
        "outputId": "30c89f93-f02d-48b4-d871-d644d49ff8b0",
        "colab": {
          "base_uri": "https://localhost:8080/",
          "height": 35
        }
      },
      "source": [
        "cores = multiprocessing.cpu_count()\n",
        "cores"
      ],
      "execution_count": null,
      "outputs": [
        {
          "output_type": "execute_result",
          "data": {
            "text/plain": [
              "2"
            ]
          },
          "metadata": {
            "tags": []
          },
          "execution_count": 261
        }
      ]
    },
    {
      "cell_type": "code",
      "metadata": {
        "id": "QJqTlSTZCt9O"
      },
      "source": [
        "w2v_model00 = Word2Vec(min_count=5,\n",
        "                      window=20,\n",
        "                      size=100,  \n",
        "                      negative=10,\n",
        "                      workers=cores)"
      ],
      "execution_count": null,
      "outputs": []
    },
    {
      "cell_type": "code",
      "metadata": {
        "id": "VEbU4ufmHvL3"
      },
      "source": [
        "t = time()\n",
        "\n",
        "w2v_model00.build_vocab(sentences, progress_per=1000)\n",
        "\n",
        "print('Time to build vocab: {} mins'.format(round((time() - t) / 60, 2)))"
      ],
      "execution_count": null,
      "outputs": []
    },
    {
      "cell_type": "code",
      "metadata": {
        "id": "y7MVlUcNH49-"
      },
      "source": [
        "t = time()\n",
        "\n",
        "w2v_model00.train(sentences, total_examples=w2v_model00.corpus_count, epochs=30, report_delay=1)\n",
        "\n",
        "print('Time to train the model: {} mins'.format(round((time() - t) / 60, 2)))"
      ],
      "execution_count": null,
      "outputs": []
    },
    {
      "cell_type": "code",
      "metadata": {
        "id": "t0geUo6RIPU0",
        "outputId": "7c929962-f672-46bc-b51d-b6166675d952",
        "colab": {
          "base_uri": "https://localhost:8080/",
          "height": 35
        }
      },
      "source": [
        "w2v_model00.init_sims(replace=True)"
      ],
      "execution_count": null,
      "outputs": [
        {
          "output_type": "stream",
          "text": [
            "INFO - 23:06:20: precomputing L2-norms of word weight vectors\n"
          ],
          "name": "stderr"
        }
      ]
    },
    {
      "cell_type": "code",
      "metadata": {
        "id": "lngEU-76I80R",
        "outputId": "844ea382-6018-4f3d-e251-6761944788df",
        "colab": {
          "base_uri": "https://localhost:8080/",
          "height": 74
        }
      },
      "source": [
        "similar_words00 = {search_term: [item for item in w2v_model00.wv.most_similar([search_term], topn=5)]\n",
        "                  for search_term in ['immigrant', 'refugee', 'united_states','law','america','muslim','mexico','latino','border']}"
      ],
      "execution_count": null,
      "outputs": [
        {
          "output_type": "stream",
          "text": [
            "/usr/local/lib/python3.6/dist-packages/gensim/matutils.py:737: FutureWarning: Conversion of the second argument of issubdtype from `int` to `np.signedinteger` is deprecated. In future, it will be treated as `np.int64 == np.dtype(int).type`.\n",
            "  if np.issubdtype(vec.dtype, np.int):\n"
          ],
          "name": "stderr"
        }
      ]
    },
    {
      "cell_type": "code",
      "metadata": {
        "id": "S661MHc9JFjH",
        "outputId": "b7796ab7-a53a-4d48-f520-db2582aa899f",
        "colab": {
          "base_uri": "https://localhost:8080/",
          "height": 844
        }
      },
      "source": [
        "similar_words00"
      ],
      "execution_count": null,
      "outputs": [
        {
          "output_type": "execute_result",
          "data": {
            "text/plain": [
              "{'america': [('americans', 0.5524606108665466),\n",
              "  ('american', 0.5144453644752502),\n",
              "  ('american_dream', 0.5125854015350342),\n",
              "  ('god_bless', 0.49586111307144165),\n",
              "  ('21st_century', 0.4953190088272095)],\n",
              " 'border': [('border_crossing', 0.6973053216934204),\n",
              "  ('u.s.-mexico_border', 0.6941225528717041),\n",
              "  ('crosser', 0.6464669704437256),\n",
              "  ('border_patrol', 0.6299538016319275),\n",
              "  ('crossing', 0.6264858245849609)],\n",
              " 'immigrant': [('latino_immigrant', 0.6209702491760254),\n",
              "  ('new_arrival', 0.5939366221427917),\n",
              "  ('newcomer', 0.5905730128288269),\n",
              "  ('illegal_immigrant', 0.5786904096603394),\n",
              "  ('bosnians', 0.5285717248916626)],\n",
              " 'latino': [('latinos', 0.797261118888855),\n",
              "  ('hispanic', 0.7646895051002502),\n",
              "  ('latino_community', 0.6749190092086792),\n",
              "  ('hispanics', 0.6226878762245178),\n",
              "  ('latino_voter', 0.6173049211502075)],\n",
              " 'law': [('immigration_law', 0.6482850909233093),\n",
              "  ('statute', 0.6295552253723145),\n",
              "  ('rule', 0.5800313353538513),\n",
              "  ('law_require', 0.5720314383506775),\n",
              "  ('federal_law', 0.568639874458313)],\n",
              " 'mexico': [('mexican', 0.7762179374694824),\n",
              "  ('mexicans', 0.6579406261444092),\n",
              "  ('mr_fox', 0.6551897525787354),\n",
              "  ('fox', 0.6108071804046631),\n",
              "  ('guadalajara', 0.5957913994789124)],\n",
              " 'muslim': [('muslims', 0.7959645986557007),\n",
              "  ('islamic', 0.7391312122344971),\n",
              "  ('islam', 0.6897661685943604),\n",
              "  ('mosque', 0.6702099442481995),\n",
              "  ('saeed', 0.6196926236152649)],\n",
              " 'refugee': [('asylum_seeker', 0.7206614017486572),\n",
              "  ('unhcr', 0.6395756006240845),\n",
              "  ('refugees', 0.6162595748901367),\n",
              "  ('asylum', 0.5984674096107483),\n",
              "  ('iraqis', 0.596623420715332)],\n",
              " 'united_states': [('united_state', 0.853642463684082),\n",
              "  ('u.s', 0.7508399486541748),\n",
              "  ('country', 0.6597697734832764),\n",
              "  ('usa', 0.5457584857940674),\n",
              "  ('homeland', 0.48055243492126465)]}"
            ]
          },
          "metadata": {
            "tags": []
          },
          "execution_count": 267
        }
      ]
    },
    {
      "cell_type": "code",
      "metadata": {
        "id": "-oU29_1luezy",
        "outputId": "d26e7648-fbc5-455a-c533-17f43eca9754",
        "colab": {
          "base_uri": "https://localhost:8080/",
          "height": 92
        }
      },
      "source": [
        "w2v_model00.wv.similarity(\"immigrant\", 'undocumented')"
      ],
      "execution_count": null,
      "outputs": [
        {
          "output_type": "stream",
          "text": [
            "/usr/local/lib/python3.6/dist-packages/gensim/matutils.py:737: FutureWarning: Conversion of the second argument of issubdtype from `int` to `np.signedinteger` is deprecated. In future, it will be treated as `np.int64 == np.dtype(int).type`.\n",
            "  if np.issubdtype(vec.dtype, np.int):\n"
          ],
          "name": "stderr"
        },
        {
          "output_type": "execute_result",
          "data": {
            "text/plain": [
              "0.42859426"
            ]
          },
          "metadata": {
            "tags": []
          },
          "execution_count": 268
        }
      ]
    },
    {
      "cell_type": "code",
      "metadata": {
        "id": "A8cwASGbPoZB",
        "outputId": "baf8e597-1a85-4054-91f9-a0dbe6b8c6d9",
        "colab": {
          "base_uri": "https://localhost:8080/",
          "height": 313
        }
      },
      "source": [
        "pd.DataFrame(similar_words00)"
      ],
      "execution_count": null,
      "outputs": [
        {
          "output_type": "execute_result",
          "data": {
            "text/html": [
              "<div>\n",
              "<style scoped>\n",
              "    .dataframe tbody tr th:only-of-type {\n",
              "        vertical-align: middle;\n",
              "    }\n",
              "\n",
              "    .dataframe tbody tr th {\n",
              "        vertical-align: top;\n",
              "    }\n",
              "\n",
              "    .dataframe thead th {\n",
              "        text-align: right;\n",
              "    }\n",
              "</style>\n",
              "<table border=\"1\" class=\"dataframe\">\n",
              "  <thead>\n",
              "    <tr style=\"text-align: right;\">\n",
              "      <th></th>\n",
              "      <th>immigrant</th>\n",
              "      <th>refugee</th>\n",
              "      <th>united_states</th>\n",
              "      <th>law</th>\n",
              "      <th>america</th>\n",
              "      <th>muslim</th>\n",
              "      <th>mexico</th>\n",
              "      <th>latino</th>\n",
              "      <th>border</th>\n",
              "    </tr>\n",
              "  </thead>\n",
              "  <tbody>\n",
              "    <tr>\n",
              "      <th>0</th>\n",
              "      <td>(latino_immigrant, 0.6209702491760254)</td>\n",
              "      <td>(asylum_seeker, 0.7206614017486572)</td>\n",
              "      <td>(united_state, 0.853642463684082)</td>\n",
              "      <td>(immigration_law, 0.6482850909233093)</td>\n",
              "      <td>(americans, 0.5524606108665466)</td>\n",
              "      <td>(muslims, 0.7959645986557007)</td>\n",
              "      <td>(mexican, 0.7762179374694824)</td>\n",
              "      <td>(latinos, 0.797261118888855)</td>\n",
              "      <td>(border_crossing, 0.6973053216934204)</td>\n",
              "    </tr>\n",
              "    <tr>\n",
              "      <th>1</th>\n",
              "      <td>(new_arrival, 0.5939366221427917)</td>\n",
              "      <td>(unhcr, 0.6395756006240845)</td>\n",
              "      <td>(u.s, 0.7508399486541748)</td>\n",
              "      <td>(statute, 0.6295552253723145)</td>\n",
              "      <td>(american, 0.5144453644752502)</td>\n",
              "      <td>(islamic, 0.7391312122344971)</td>\n",
              "      <td>(mexicans, 0.6579406261444092)</td>\n",
              "      <td>(hispanic, 0.7646895051002502)</td>\n",
              "      <td>(u.s.-mexico_border, 0.6941225528717041)</td>\n",
              "    </tr>\n",
              "    <tr>\n",
              "      <th>2</th>\n",
              "      <td>(newcomer, 0.5905730128288269)</td>\n",
              "      <td>(refugees, 0.6162595748901367)</td>\n",
              "      <td>(country, 0.6597697734832764)</td>\n",
              "      <td>(rule, 0.5800313353538513)</td>\n",
              "      <td>(american_dream, 0.5125854015350342)</td>\n",
              "      <td>(islam, 0.6897661685943604)</td>\n",
              "      <td>(mr_fox, 0.6551897525787354)</td>\n",
              "      <td>(latino_community, 0.6749190092086792)</td>\n",
              "      <td>(crosser, 0.6464669704437256)</td>\n",
              "    </tr>\n",
              "    <tr>\n",
              "      <th>3</th>\n",
              "      <td>(illegal_immigrant, 0.5786904096603394)</td>\n",
              "      <td>(asylum, 0.5984674096107483)</td>\n",
              "      <td>(usa, 0.5457584857940674)</td>\n",
              "      <td>(law_require, 0.5720314383506775)</td>\n",
              "      <td>(god_bless, 0.49586111307144165)</td>\n",
              "      <td>(mosque, 0.6702099442481995)</td>\n",
              "      <td>(fox, 0.6108071804046631)</td>\n",
              "      <td>(hispanics, 0.6226878762245178)</td>\n",
              "      <td>(border_patrol, 0.6299538016319275)</td>\n",
              "    </tr>\n",
              "    <tr>\n",
              "      <th>4</th>\n",
              "      <td>(bosnians, 0.5285717248916626)</td>\n",
              "      <td>(iraqis, 0.596623420715332)</td>\n",
              "      <td>(homeland, 0.48055243492126465)</td>\n",
              "      <td>(federal_law, 0.568639874458313)</td>\n",
              "      <td>(21st_century, 0.4953190088272095)</td>\n",
              "      <td>(saeed, 0.6196926236152649)</td>\n",
              "      <td>(guadalajara, 0.5957913994789124)</td>\n",
              "      <td>(latino_voter, 0.6173049211502075)</td>\n",
              "      <td>(crossing, 0.6264858245849609)</td>\n",
              "    </tr>\n",
              "  </tbody>\n",
              "</table>\n",
              "</div>"
            ],
            "text/plain": [
              "                                 immigrant  ...                                    border\n",
              "0   (latino_immigrant, 0.6209702491760254)  ...     (border_crossing, 0.6973053216934204)\n",
              "1        (new_arrival, 0.5939366221427917)  ...  (u.s.-mexico_border, 0.6941225528717041)\n",
              "2           (newcomer, 0.5905730128288269)  ...             (crosser, 0.6464669704437256)\n",
              "3  (illegal_immigrant, 0.5786904096603394)  ...       (border_patrol, 0.6299538016319275)\n",
              "4           (bosnians, 0.5285717248916626)  ...            (crossing, 0.6264858245849609)\n",
              "\n",
              "[5 rows x 9 columns]"
            ]
          },
          "metadata": {
            "tags": []
          },
          "execution_count": 269
        }
      ]
    },
    {
      "cell_type": "code",
      "metadata": {
        "id": "95WSLARFP_W1"
      },
      "source": [
        "df04 = df_small[df_small['year'] == 2004]"
      ],
      "execution_count": null,
      "outputs": []
    },
    {
      "cell_type": "code",
      "metadata": {
        "id": "xOos5R6OP_az",
        "outputId": "11a27cb3-62e9-48ef-dbac-036dd7021311",
        "colab": {
          "base_uri": "https://localhost:8080/",
          "height": 35
        }
      },
      "source": [
        "len(df04)"
      ],
      "execution_count": null,
      "outputs": [
        {
          "output_type": "execute_result",
          "data": {
            "text/plain": [
              "6281"
            ]
          },
          "metadata": {
            "tags": []
          },
          "execution_count": 271
        }
      ]
    },
    {
      "cell_type": "code",
      "metadata": {
        "id": "BIDEOdtsP_fv",
        "outputId": "e0a06c17-1228-4c4b-9845-f96f97e9048b",
        "colab": {
          "base_uri": "https://localhost:8080/",
          "height": 35
        }
      },
      "source": [
        "nlp = spacy.load('en_core_web_lg', disable=['ner', 'parser'])\n",
        "lower_casing = (row.lower() for row in df04['text'])\n",
        "t = time()\n",
        "txt = [cleaning_lem(doc) for doc in nlp.pipe(lower_casing, batch_size=100, n_threads=-1)]\n",
        "print('Time to clean up everything: {} mins'.format(round((time() - t) / 60, 2)))"
      ],
      "execution_count": null,
      "outputs": [
        {
          "output_type": "stream",
          "text": [
            "Time to clean up everything: 3.68 mins\n"
          ],
          "name": "stdout"
        }
      ]
    },
    {
      "cell_type": "code",
      "metadata": {
        "id": "6jCqqrrvP_si",
        "outputId": "ba3178b3-ef30-48ed-b3a1-5613a7a35693",
        "colab": {
          "base_uri": "https://localhost:8080/",
          "height": 182
        }
      },
      "source": [
        "df_clean = pd.DataFrame({'clean': txt})\n",
        "df_clean = df_clean.dropna().drop_duplicates()\n",
        "print(df_clean.shape)\n",
        "print('\\n')\n",
        "print(df_clean.head())"
      ],
      "execution_count": null,
      "outputs": [
        {
          "output_type": "stream",
          "text": [
            "(6224, 1)\n",
            "\n",
            "\n",
            "                                               clean\n",
            "0  immigration judge wednesday order deportation ...\n",
            "1  far walk vote november presidential \\r\\n elect...\n",
            "2  foreign consulate hindu buddhist temple tsunam...\n",
            "3  john b. rackos proud hellene proud family man ...\n",
            "4  chris takaishi devour food court sushi mall be...\n"
          ],
          "name": "stdout"
        }
      ]
    },
    {
      "cell_type": "code",
      "metadata": {
        "id": "LOI24ipJP_x6"
      },
      "source": [
        "sent = [row.split() for row in df_clean['clean']]\n",
        "phrases = Phrases(sent, min_count=30, progress_per=100)\n",
        "bigram = Phraser(phrases)\n",
        "sentences = bigram[sent]"
      ],
      "execution_count": null,
      "outputs": []
    },
    {
      "cell_type": "code",
      "metadata": {
        "id": "SZZYB912P_4d",
        "outputId": "4dfc4fe8-1a50-4383-aa57-a41dee6114ac",
        "colab": {
          "base_uri": "https://localhost:8080/",
          "height": 201
        }
      },
      "source": [
        "word_freq = defaultdict(int)\n",
        "for sent in sentences:\n",
        "    for i in sent:\n",
        "        word_freq[i] += 1\n",
        "len(word_freq)\n",
        "\n",
        "sorted(word_freq, key=word_freq.get, reverse=True)[:10]"
      ],
      "execution_count": null,
      "outputs": [
        {
          "output_type": "execute_result",
          "data": {
            "text/plain": [
              "['say',\n",
              " 'year',\n",
              " '$',\n",
              " 'mr',\n",
              " 'people',\n",
              " 'work',\n",
              " 'immigrant',\n",
              " 'time',\n",
              " 'new',\n",
              " 'state']"
            ]
          },
          "metadata": {
            "tags": []
          },
          "execution_count": 275
        }
      ]
    },
    {
      "cell_type": "code",
      "metadata": {
        "id": "RjdBT02HP_kw"
      },
      "source": [
        "w2v_model04 = Word2Vec(min_count=5,\n",
        "                      window=20,\n",
        "                      size=100,  \n",
        "                      negative=10,\n",
        "                      workers=cores)"
      ],
      "execution_count": null,
      "outputs": []
    },
    {
      "cell_type": "code",
      "metadata": {
        "id": "tUl6O2ymQVCe"
      },
      "source": [
        "t = time()\n",
        "\n",
        "w2v_model04.build_vocab(sentences, progress_per=1000)\n",
        "\n",
        "print('Time to build vocab: {} mins'.format(round((time() - t) / 60, 2)))"
      ],
      "execution_count": null,
      "outputs": []
    },
    {
      "cell_type": "code",
      "metadata": {
        "id": "77TQf7wdQVHV"
      },
      "source": [
        "t = time()\n",
        "\n",
        "w2v_model04.train(sentences, total_examples=w2v_model04.corpus_count, epochs=30, report_delay=1)\n",
        "\n",
        "print('Time to train the model: {} mins'.format(round((time() - t) / 60, 2)))"
      ],
      "execution_count": null,
      "outputs": []
    },
    {
      "cell_type": "code",
      "metadata": {
        "id": "5eoqix7RQVOQ",
        "outputId": "08320a61-4c68-4831-933e-1923d20cf9a3",
        "colab": {
          "base_uri": "https://localhost:8080/",
          "height": 35
        }
      },
      "source": [
        "w2v_model04.init_sims(replace=True)"
      ],
      "execution_count": null,
      "outputs": [
        {
          "output_type": "stream",
          "text": [
            "INFO - 23:19:55: precomputing L2-norms of word weight vectors\n"
          ],
          "name": "stderr"
        }
      ]
    },
    {
      "cell_type": "code",
      "metadata": {
        "id": "IaKxhpYnQVVT",
        "outputId": "addf94e4-0e54-4d35-e401-a28d37b5a039",
        "colab": {
          "base_uri": "https://localhost:8080/",
          "height": 74
        }
      },
      "source": [
        "similar_words04 = {search_term: [item for item in w2v_model04.wv.most_similar([search_term], topn=5)]\n",
        "                  for search_term in ['immigrant', 'refugee', 'united_states','law', 'america','muslim','mexico','latino','border']}"
      ],
      "execution_count": null,
      "outputs": [
        {
          "output_type": "stream",
          "text": [
            "/usr/local/lib/python3.6/dist-packages/gensim/matutils.py:737: FutureWarning: Conversion of the second argument of issubdtype from `int` to `np.signedinteger` is deprecated. In future, it will be treated as `np.int64 == np.dtype(int).type`.\n",
            "  if np.issubdtype(vec.dtype, np.int):\n"
          ],
          "name": "stderr"
        }
      ]
    },
    {
      "cell_type": "code",
      "metadata": {
        "id": "tKI66e8AQVTu",
        "outputId": "5d0d3c8a-e5f9-4ad5-e9a8-5e347ccfbd7a",
        "colab": {
          "base_uri": "https://localhost:8080/",
          "height": 844
        }
      },
      "source": [
        "similar_words04"
      ],
      "execution_count": null,
      "outputs": [
        {
          "output_type": "execute_result",
          "data": {
            "text/plain": [
              "{'america': [('americans', 0.5359286069869995),\n",
              "  ('patriotism', 0.5121691226959229),\n",
              "  ('american_dream', 0.501049816608429),\n",
              "  ('freedom', 0.500280499458313),\n",
              "  ('john_kerry', 0.4937852919101715)],\n",
              " 'border': [('u.s.-mexico_border', 0.7483950257301331),\n",
              "  ('border_crossing', 0.69188392162323),\n",
              "  ('crossing', 0.6564171314239502),\n",
              "  ('cross_border', 0.6261504292488098),\n",
              "  ('port_entry', 0.5862184166908264)],\n",
              " 'immigrant': [('newcomer', 0.5591698884963989),\n",
              "  ('illegal_immigrant', 0.5527785420417786),\n",
              "  ('undocumented_immigrant', 0.5240035057067871),\n",
              "  ('mexican_immigrant', 0.4938681423664093),\n",
              "  ('grow_number', 0.48774608969688416)],\n",
              " 'latino': [('hispanic', 0.7705554962158203),\n",
              "  ('latinos', 0.7177085876464844),\n",
              "  ('latino_community', 0.6551494002342224),\n",
              "  ('mexican_american', 0.6054165363311768),\n",
              "  ('hispanics', 0.5905544757843018)],\n",
              " 'law': [('statute', 0.6671440601348877),\n",
              "  ('law_require', 0.6307257413864136),\n",
              "  ('rule', 0.6252115964889526),\n",
              "  ('immigration_law', 0.5932391881942749),\n",
              "  ('constitutional', 0.5851207971572876)],\n",
              " 'mexico': [('mexican', 0.7397723197937012),\n",
              "  ('mexico_city', 0.6838058233261108),\n",
              "  ('mexicans', 0.6539533138275146),\n",
              "  ('puebla', 0.570092499256134),\n",
              "  ('central_america', 0.5648458003997803)],\n",
              " 'muslim': [('muslims', 0.7841423153877258),\n",
              "  ('islamic', 0.7439464926719666),\n",
              "  ('muslim_community', 0.6849849820137024),\n",
              "  ('islam', 0.6742896437644958),\n",
              "  ('muslim_cleric', 0.6196419596672058)],\n",
              " 'refugee': [('resettlement', 0.7001038193702698),\n",
              "  ('asylum_seeker', 0.6530070304870605),\n",
              "  ('asylum', 0.6035252809524536),\n",
              "  ('humanitarian', 0.5884792804718018),\n",
              "  ('persecution', 0.561942458152771)],\n",
              " 'united_states': [('united_state', 0.8307098150253296),\n",
              "  ('u.s', 0.7177536487579346),\n",
              "  ('country', 0.7072908878326416),\n",
              "  ('usa', 0.5302191972732544),\n",
              "  ('enter_u.s', 0.5010650157928467)]}"
            ]
          },
          "metadata": {
            "tags": []
          },
          "execution_count": 281
        }
      ]
    },
    {
      "cell_type": "code",
      "metadata": {
        "id": "Y1ShhREkQsoF",
        "outputId": "07473e9e-941d-4a42-b89f-a1ae21cdd14d",
        "colab": {
          "base_uri": "https://localhost:8080/",
          "height": 313
        }
      },
      "source": [
        "pd.DataFrame(similar_words04)"
      ],
      "execution_count": null,
      "outputs": [
        {
          "output_type": "execute_result",
          "data": {
            "text/html": [
              "<div>\n",
              "<style scoped>\n",
              "    .dataframe tbody tr th:only-of-type {\n",
              "        vertical-align: middle;\n",
              "    }\n",
              "\n",
              "    .dataframe tbody tr th {\n",
              "        vertical-align: top;\n",
              "    }\n",
              "\n",
              "    .dataframe thead th {\n",
              "        text-align: right;\n",
              "    }\n",
              "</style>\n",
              "<table border=\"1\" class=\"dataframe\">\n",
              "  <thead>\n",
              "    <tr style=\"text-align: right;\">\n",
              "      <th></th>\n",
              "      <th>immigrant</th>\n",
              "      <th>refugee</th>\n",
              "      <th>united_states</th>\n",
              "      <th>law</th>\n",
              "      <th>america</th>\n",
              "      <th>muslim</th>\n",
              "      <th>mexico</th>\n",
              "      <th>latino</th>\n",
              "      <th>border</th>\n",
              "    </tr>\n",
              "  </thead>\n",
              "  <tbody>\n",
              "    <tr>\n",
              "      <th>0</th>\n",
              "      <td>(newcomer, 0.5591698884963989)</td>\n",
              "      <td>(resettlement, 0.7001038193702698)</td>\n",
              "      <td>(united_state, 0.8307098150253296)</td>\n",
              "      <td>(statute, 0.6671440601348877)</td>\n",
              "      <td>(americans, 0.5359286069869995)</td>\n",
              "      <td>(muslims, 0.7841423153877258)</td>\n",
              "      <td>(mexican, 0.7397723197937012)</td>\n",
              "      <td>(hispanic, 0.7705554962158203)</td>\n",
              "      <td>(u.s.-mexico_border, 0.7483950257301331)</td>\n",
              "    </tr>\n",
              "    <tr>\n",
              "      <th>1</th>\n",
              "      <td>(illegal_immigrant, 0.5527785420417786)</td>\n",
              "      <td>(asylum_seeker, 0.6530070304870605)</td>\n",
              "      <td>(u.s, 0.7177536487579346)</td>\n",
              "      <td>(law_require, 0.6307257413864136)</td>\n",
              "      <td>(patriotism, 0.5121691226959229)</td>\n",
              "      <td>(islamic, 0.7439464926719666)</td>\n",
              "      <td>(mexico_city, 0.6838058233261108)</td>\n",
              "      <td>(latinos, 0.7177085876464844)</td>\n",
              "      <td>(border_crossing, 0.69188392162323)</td>\n",
              "    </tr>\n",
              "    <tr>\n",
              "      <th>2</th>\n",
              "      <td>(undocumented_immigrant, 0.5240035057067871)</td>\n",
              "      <td>(asylum, 0.6035252809524536)</td>\n",
              "      <td>(country, 0.7072908878326416)</td>\n",
              "      <td>(rule, 0.6252115964889526)</td>\n",
              "      <td>(american_dream, 0.501049816608429)</td>\n",
              "      <td>(muslim_community, 0.6849849820137024)</td>\n",
              "      <td>(mexicans, 0.6539533138275146)</td>\n",
              "      <td>(latino_community, 0.6551494002342224)</td>\n",
              "      <td>(crossing, 0.6564171314239502)</td>\n",
              "    </tr>\n",
              "    <tr>\n",
              "      <th>3</th>\n",
              "      <td>(mexican_immigrant, 0.4938681423664093)</td>\n",
              "      <td>(humanitarian, 0.5884792804718018)</td>\n",
              "      <td>(usa, 0.5302191972732544)</td>\n",
              "      <td>(immigration_law, 0.5932391881942749)</td>\n",
              "      <td>(freedom, 0.500280499458313)</td>\n",
              "      <td>(islam, 0.6742896437644958)</td>\n",
              "      <td>(puebla, 0.570092499256134)</td>\n",
              "      <td>(mexican_american, 0.6054165363311768)</td>\n",
              "      <td>(cross_border, 0.6261504292488098)</td>\n",
              "    </tr>\n",
              "    <tr>\n",
              "      <th>4</th>\n",
              "      <td>(grow_number, 0.48774608969688416)</td>\n",
              "      <td>(persecution, 0.561942458152771)</td>\n",
              "      <td>(enter_u.s, 0.5010650157928467)</td>\n",
              "      <td>(constitutional, 0.5851207971572876)</td>\n",
              "      <td>(john_kerry, 0.4937852919101715)</td>\n",
              "      <td>(muslim_cleric, 0.6196419596672058)</td>\n",
              "      <td>(central_america, 0.5648458003997803)</td>\n",
              "      <td>(hispanics, 0.5905544757843018)</td>\n",
              "      <td>(port_entry, 0.5862184166908264)</td>\n",
              "    </tr>\n",
              "  </tbody>\n",
              "</table>\n",
              "</div>"
            ],
            "text/plain": [
              "                                      immigrant  ...                                    border\n",
              "0                (newcomer, 0.5591698884963989)  ...  (u.s.-mexico_border, 0.7483950257301331)\n",
              "1       (illegal_immigrant, 0.5527785420417786)  ...       (border_crossing, 0.69188392162323)\n",
              "2  (undocumented_immigrant, 0.5240035057067871)  ...            (crossing, 0.6564171314239502)\n",
              "3       (mexican_immigrant, 0.4938681423664093)  ...        (cross_border, 0.6261504292488098)\n",
              "4            (grow_number, 0.48774608969688416)  ...          (port_entry, 0.5862184166908264)\n",
              "\n",
              "[5 rows x 9 columns]"
            ]
          },
          "metadata": {
            "tags": []
          },
          "execution_count": 282
        }
      ]
    },
    {
      "cell_type": "code",
      "metadata": {
        "id": "L-8Qf8vU7OsU",
        "outputId": "3f2947a5-676c-4287-d5e7-affe9191bf43",
        "colab": {
          "base_uri": "https://localhost:8080/",
          "height": 92
        }
      },
      "source": [
        "w2v_model04.wv.similarity(\"immigrant\", 'undocumented')"
      ],
      "execution_count": null,
      "outputs": [
        {
          "output_type": "stream",
          "text": [
            "/usr/local/lib/python3.6/dist-packages/gensim/matutils.py:737: FutureWarning: Conversion of the second argument of issubdtype from `int` to `np.signedinteger` is deprecated. In future, it will be treated as `np.int64 == np.dtype(int).type`.\n",
            "  if np.issubdtype(vec.dtype, np.int):\n"
          ],
          "name": "stderr"
        },
        {
          "output_type": "execute_result",
          "data": {
            "text/plain": [
              "0.41409898"
            ]
          },
          "metadata": {
            "tags": []
          },
          "execution_count": 283
        }
      ]
    },
    {
      "cell_type": "code",
      "metadata": {
        "id": "WWYi4Z3lJjQF"
      },
      "source": [
        "df05 = df_small[df_small['year'] == 2005]"
      ],
      "execution_count": null,
      "outputs": []
    },
    {
      "cell_type": "code",
      "metadata": {
        "id": "Xv4jaYt7L48f",
        "outputId": "9851c90f-0958-47fd-d8ed-e649f447afb4",
        "colab": {
          "base_uri": "https://localhost:8080/",
          "height": 35
        }
      },
      "source": [
        "len(df05)"
      ],
      "execution_count": null,
      "outputs": [
        {
          "output_type": "execute_result",
          "data": {
            "text/plain": [
              "2940"
            ]
          },
          "metadata": {
            "tags": []
          },
          "execution_count": 285
        }
      ]
    },
    {
      "cell_type": "code",
      "metadata": {
        "id": "L3w2ryYLJsVQ",
        "outputId": "2a91edd3-938a-43a4-94ba-24ae2006cd49",
        "colab": {
          "base_uri": "https://localhost:8080/",
          "height": 35
        }
      },
      "source": [
        "nlp = spacy.load('en_core_web_lg', disable=['ner', 'parser'])\n",
        "lower_casing = (row.lower() for row in df05['text'])\n",
        "t = time()\n",
        "txt = [cleaning_lem(doc) for doc in nlp.pipe(lower_casing, batch_size=100, n_threads=-1)]\n",
        "print('Time to clean up everything: {} mins'.format(round((time() - t) / 60, 2)))"
      ],
      "execution_count": null,
      "outputs": [
        {
          "output_type": "stream",
          "text": [
            "Time to clean up everything: 1.77 mins\n"
          ],
          "name": "stdout"
        }
      ]
    },
    {
      "cell_type": "code",
      "metadata": {
        "id": "paHi27lUKKC_",
        "outputId": "5eb1d7bc-353c-48cb-9cb3-e6083ad2d904",
        "colab": {
          "base_uri": "https://localhost:8080/",
          "height": 182
        }
      },
      "source": [
        "df_clean = pd.DataFrame({'clean': txt})\n",
        "df_clean = df_clean.dropna().drop_duplicates()\n",
        "print(df_clean.shape)\n",
        "print('\\n')\n",
        "print(df_clean.head())"
      ],
      "execution_count": null,
      "outputs": [
        {
          "output_type": "stream",
          "text": [
            "(2902, 1)\n",
            "\n",
            "\n",
            "                                               clean\n",
            "0  \\r\\n\\r\\n gov arnold schwarzenegger plan specia...\n",
            "1  \\r\\n\\r\\n case spotlight horrific condition dis...\n",
            "2  \\r\\n\\r\\n riverside activist wednesday announce...\n",
            "3  \\r\\n\\r\\n special order editorial april wrong r...\n",
            "4  \\r\\n\\r\\n need manicure pico boulevard west dow...\n"
          ],
          "name": "stdout"
        }
      ]
    },
    {
      "cell_type": "code",
      "metadata": {
        "id": "oKs-mw4lKNfu"
      },
      "source": [
        "sent = [row.split() for row in df_clean['clean']]\n",
        "phrases = Phrases(sent, min_count=30, progress_per=100)\n",
        "bigram = Phraser(phrases)\n",
        "sentences = bigram[sent]"
      ],
      "execution_count": null,
      "outputs": []
    },
    {
      "cell_type": "code",
      "metadata": {
        "id": "jCXcwCGqKeNm",
        "outputId": "87c3463a-949a-4497-f6e1-0ea5cf371ab2",
        "colab": {
          "base_uri": "https://localhost:8080/",
          "height": 201
        }
      },
      "source": [
        "word_freq = defaultdict(int)\n",
        "for sent in sentences:\n",
        "    for i in sent:\n",
        "        word_freq[i] += 1\n",
        "len(word_freq)\n",
        "\n",
        "sorted(word_freq, key=word_freq.get, reverse=True)[:10]"
      ],
      "execution_count": null,
      "outputs": [
        {
          "output_type": "execute_result",
          "data": {
            "text/plain": [
              "['say',\n",
              " 'year',\n",
              " 'people',\n",
              " 'work',\n",
              " 'u.s',\n",
              " 'mr',\n",
              " 'immigration',\n",
              " 'official',\n",
              " '$',\n",
              " 'state']"
            ]
          },
          "metadata": {
            "tags": []
          },
          "execution_count": 289
        }
      ]
    },
    {
      "cell_type": "code",
      "metadata": {
        "id": "LVIunAyvKkR9"
      },
      "source": [
        "w2v_model05 = Word2Vec(min_count=5,\n",
        "                      window=20,\n",
        "                      size=100,  \n",
        "                      negative=10,\n",
        "                      workers=cores)"
      ],
      "execution_count": null,
      "outputs": []
    },
    {
      "cell_type": "code",
      "metadata": {
        "id": "9AyNr3FAKnCw"
      },
      "source": [
        "t = time()\n",
        "\n",
        "w2v_model05.build_vocab(sentences, progress_per=1000)\n",
        "\n",
        "print('Time to build vocab: {} mins'.format(round((time() - t) / 60, 2)))"
      ],
      "execution_count": null,
      "outputs": []
    },
    {
      "cell_type": "code",
      "metadata": {
        "id": "32F6v4DsKspu"
      },
      "source": [
        "t = time()\n",
        "\n",
        "w2v_model05.train(sentences, total_examples=w2v_model05.corpus_count, epochs=30, report_delay=1)\n",
        "\n",
        "print('Time to train the model: {} mins'.format(round((time() - t) / 60, 2)))"
      ],
      "execution_count": null,
      "outputs": []
    },
    {
      "cell_type": "code",
      "metadata": {
        "id": "c-YtSSaOKxGW",
        "outputId": "77c78062-7731-44d8-f88d-f475dd1e6447",
        "colab": {
          "base_uri": "https://localhost:8080/",
          "height": 35
        }
      },
      "source": [
        "w2v_model05.init_sims(replace=True)"
      ],
      "execution_count": null,
      "outputs": [
        {
          "output_type": "stream",
          "text": [
            "INFO - 23:26:45: precomputing L2-norms of word weight vectors\n"
          ],
          "name": "stderr"
        }
      ]
    },
    {
      "cell_type": "code",
      "metadata": {
        "id": "i9eohrB5KEx0",
        "outputId": "ebdff6ba-98ee-4093-8549-f124ee7b7162",
        "colab": {
          "base_uri": "https://localhost:8080/",
          "height": 257
        }
      },
      "source": [
        "w2v_model05.wv.most_similar(positive=[\"immigrant\"])"
      ],
      "execution_count": null,
      "outputs": [
        {
          "output_type": "stream",
          "text": [
            "/usr/local/lib/python3.6/dist-packages/gensim/matutils.py:737: FutureWarning: Conversion of the second argument of issubdtype from `int` to `np.signedinteger` is deprecated. In future, it will be treated as `np.int64 == np.dtype(int).type`.\n",
            "  if np.issubdtype(vec.dtype, np.int):\n"
          ],
          "name": "stderr"
        },
        {
          "output_type": "execute_result",
          "data": {
            "text/plain": [
              "[('newcomer', 0.6168614625930786),\n",
              " ('undocumented_immigrant', 0.5921840667724609),\n",
              " ('illegal_immigrant', 0.55466628074646),\n",
              " ('undocumented', 0.5158336162567139),\n",
              " ('foreign_bear', 0.4888349771499634),\n",
              " ('haitians', 0.47398266196250916),\n",
              " ('migrant', 0.4716896414756775),\n",
              " ('arrival', 0.47048601508140564),\n",
              " ('resident', 0.46549877524375916),\n",
              " ('latinos', 0.4626820683479309)]"
            ]
          },
          "metadata": {
            "tags": []
          },
          "execution_count": 294
        }
      ]
    },
    {
      "cell_type": "code",
      "metadata": {
        "id": "xkpuWl9dK7SY",
        "outputId": "4d0855a2-4377-4e98-a3b9-c760133e44d4",
        "colab": {
          "base_uri": "https://localhost:8080/",
          "height": 74
        }
      },
      "source": [
        "similar_words05 = {search_term: [item for item in w2v_model05.wv.most_similar([search_term], topn=5)]\n",
        "                  for search_term in ['immigrant', 'refugee', 'united_states','law','america','muslim','mexico','latino','border']}"
      ],
      "execution_count": null,
      "outputs": [
        {
          "output_type": "stream",
          "text": [
            "/usr/local/lib/python3.6/dist-packages/gensim/matutils.py:737: FutureWarning: Conversion of the second argument of issubdtype from `int` to `np.signedinteger` is deprecated. In future, it will be treated as `np.int64 == np.dtype(int).type`.\n",
            "  if np.issubdtype(vec.dtype, np.int):\n"
          ],
          "name": "stderr"
        }
      ]
    },
    {
      "cell_type": "code",
      "metadata": {
        "id": "PbbrmFEBK_BZ",
        "outputId": "22457af9-e4cc-4c5c-f79b-33f3ab556742",
        "colab": {
          "base_uri": "https://localhost:8080/",
          "height": 844
        }
      },
      "source": [
        "similar_words05"
      ],
      "execution_count": null,
      "outputs": [
        {
          "output_type": "execute_result",
          "data": {
            "text/plain": [
              "{'america': [('americans', 0.4085319936275482),\n",
              "  ('american', 0.4070231318473816),\n",
              "  ('delhi', 0.39383888244628906),\n",
              "  ('world', 0.38653525710105896),\n",
              "  ('latin_america', 0.38124287128448486)],\n",
              " 'border': [('mexican_border', 0.7233519554138184),\n",
              "  ('border_crossing', 0.6035482287406921),\n",
              "  ('border_patrol', 0.6019190549850464),\n",
              "  ('secure_border', 0.59304279088974),\n",
              "  ('arizona', 0.5908503532409668)],\n",
              " 'immigrant': [('newcomer', 0.6168614625930786),\n",
              "  ('undocumented_immigrant', 0.5921840667724609),\n",
              "  ('illegal_immigrant', 0.55466628074646),\n",
              "  ('undocumented', 0.5158336162567139),\n",
              "  ('foreign_bear', 0.4888349771499634)],\n",
              " 'latino': [('hispanic', 0.7080506086349487),\n",
              "  ('latinos', 0.6604240536689758),\n",
              "  ('hispanics', 0.6119866371154785),\n",
              "  ('latino_community', 0.5550426244735718),\n",
              "  ('munoz', 0.5233376622200012)],\n",
              " 'law': [('immigration_law', 0.5966293215751648),\n",
              "  ('statute', 0.5441206693649292),\n",
              "  ('precedent', 0.5080759525299072),\n",
              "  ('busing', 0.5015708208084106),\n",
              "  ('guideline', 0.4622150957584381)],\n",
              " 'mexico': [('mexican', 0.6919969320297241),\n",
              "  ('mexicans', 0.6499365568161011),\n",
              "  ('mexico_city', 0.6127292513847351),\n",
              "  ('mexican_government', 0.5606302618980408),\n",
              "  ('fox', 0.5435117483139038)],\n",
              " 'muslim': [('muslims', 0.6865794658660889),\n",
              "  ('muslim_community', 0.6652344465255737),\n",
              "  ('islamic', 0.6563736796379089),\n",
              "  ('islam', 0.636600136756897),\n",
              "  ('extremism', 0.576684296131134)],\n",
              " 'refugee': [('resettlement', 0.7034099698066711),\n",
              "  ('resettle', 0.6795063018798828),\n",
              "  ('persecution', 0.5562364459037781),\n",
              "  ('grant_asylum', 0.5392768383026123),\n",
              "  ('united_nations', 0.5303472280502319)],\n",
              " 'united_states': [('united_state', 0.7575693130493164),\n",
              "  ('u.s', 0.57827228307724),\n",
              "  ('country', 0.5535442233085632),\n",
              "  ('abroad', 0.5360440015792847),\n",
              "  ('enter_country', 0.5271936058998108)]}"
            ]
          },
          "metadata": {
            "tags": []
          },
          "execution_count": 296
        }
      ]
    },
    {
      "cell_type": "code",
      "metadata": {
        "id": "PHonGXogPfR-",
        "outputId": "a5e22f21-9671-4c5c-905e-6e781e1d0e5f",
        "colab": {
          "base_uri": "https://localhost:8080/",
          "height": 313
        }
      },
      "source": [
        "pd.DataFrame(similar_words05)"
      ],
      "execution_count": null,
      "outputs": [
        {
          "output_type": "execute_result",
          "data": {
            "text/html": [
              "<div>\n",
              "<style scoped>\n",
              "    .dataframe tbody tr th:only-of-type {\n",
              "        vertical-align: middle;\n",
              "    }\n",
              "\n",
              "    .dataframe tbody tr th {\n",
              "        vertical-align: top;\n",
              "    }\n",
              "\n",
              "    .dataframe thead th {\n",
              "        text-align: right;\n",
              "    }\n",
              "</style>\n",
              "<table border=\"1\" class=\"dataframe\">\n",
              "  <thead>\n",
              "    <tr style=\"text-align: right;\">\n",
              "      <th></th>\n",
              "      <th>immigrant</th>\n",
              "      <th>refugee</th>\n",
              "      <th>united_states</th>\n",
              "      <th>law</th>\n",
              "      <th>america</th>\n",
              "      <th>muslim</th>\n",
              "      <th>mexico</th>\n",
              "      <th>latino</th>\n",
              "      <th>border</th>\n",
              "    </tr>\n",
              "  </thead>\n",
              "  <tbody>\n",
              "    <tr>\n",
              "      <th>0</th>\n",
              "      <td>(newcomer, 0.6168614625930786)</td>\n",
              "      <td>(resettlement, 0.7034099698066711)</td>\n",
              "      <td>(united_state, 0.7575693130493164)</td>\n",
              "      <td>(immigration_law, 0.5966293215751648)</td>\n",
              "      <td>(americans, 0.4085319936275482)</td>\n",
              "      <td>(muslims, 0.6865794658660889)</td>\n",
              "      <td>(mexican, 0.6919969320297241)</td>\n",
              "      <td>(hispanic, 0.7080506086349487)</td>\n",
              "      <td>(mexican_border, 0.7233519554138184)</td>\n",
              "    </tr>\n",
              "    <tr>\n",
              "      <th>1</th>\n",
              "      <td>(undocumented_immigrant, 0.5921840667724609)</td>\n",
              "      <td>(resettle, 0.6795063018798828)</td>\n",
              "      <td>(u.s, 0.57827228307724)</td>\n",
              "      <td>(statute, 0.5441206693649292)</td>\n",
              "      <td>(american, 0.4070231318473816)</td>\n",
              "      <td>(muslim_community, 0.6652344465255737)</td>\n",
              "      <td>(mexicans, 0.6499365568161011)</td>\n",
              "      <td>(latinos, 0.6604240536689758)</td>\n",
              "      <td>(border_crossing, 0.6035482287406921)</td>\n",
              "    </tr>\n",
              "    <tr>\n",
              "      <th>2</th>\n",
              "      <td>(illegal_immigrant, 0.55466628074646)</td>\n",
              "      <td>(persecution, 0.5562364459037781)</td>\n",
              "      <td>(country, 0.5535442233085632)</td>\n",
              "      <td>(precedent, 0.5080759525299072)</td>\n",
              "      <td>(delhi, 0.39383888244628906)</td>\n",
              "      <td>(islamic, 0.6563736796379089)</td>\n",
              "      <td>(mexico_city, 0.6127292513847351)</td>\n",
              "      <td>(hispanics, 0.6119866371154785)</td>\n",
              "      <td>(border_patrol, 0.6019190549850464)</td>\n",
              "    </tr>\n",
              "    <tr>\n",
              "      <th>3</th>\n",
              "      <td>(undocumented, 0.5158336162567139)</td>\n",
              "      <td>(grant_asylum, 0.5392768383026123)</td>\n",
              "      <td>(abroad, 0.5360440015792847)</td>\n",
              "      <td>(busing, 0.5015708208084106)</td>\n",
              "      <td>(world, 0.38653525710105896)</td>\n",
              "      <td>(islam, 0.636600136756897)</td>\n",
              "      <td>(mexican_government, 0.5606302618980408)</td>\n",
              "      <td>(latino_community, 0.5550426244735718)</td>\n",
              "      <td>(secure_border, 0.59304279088974)</td>\n",
              "    </tr>\n",
              "    <tr>\n",
              "      <th>4</th>\n",
              "      <td>(foreign_bear, 0.4888349771499634)</td>\n",
              "      <td>(united_nations, 0.5303472280502319)</td>\n",
              "      <td>(enter_country, 0.5271936058998108)</td>\n",
              "      <td>(guideline, 0.4622150957584381)</td>\n",
              "      <td>(latin_america, 0.38124287128448486)</td>\n",
              "      <td>(extremism, 0.576684296131134)</td>\n",
              "      <td>(fox, 0.5435117483139038)</td>\n",
              "      <td>(munoz, 0.5233376622200012)</td>\n",
              "      <td>(arizona, 0.5908503532409668)</td>\n",
              "    </tr>\n",
              "  </tbody>\n",
              "</table>\n",
              "</div>"
            ],
            "text/plain": [
              "                                      immigrant  ...                                 border\n",
              "0                (newcomer, 0.6168614625930786)  ...   (mexican_border, 0.7233519554138184)\n",
              "1  (undocumented_immigrant, 0.5921840667724609)  ...  (border_crossing, 0.6035482287406921)\n",
              "2         (illegal_immigrant, 0.55466628074646)  ...    (border_patrol, 0.6019190549850464)\n",
              "3            (undocumented, 0.5158336162567139)  ...      (secure_border, 0.59304279088974)\n",
              "4            (foreign_bear, 0.4888349771499634)  ...          (arizona, 0.5908503532409668)\n",
              "\n",
              "[5 rows x 9 columns]"
            ]
          },
          "metadata": {
            "tags": []
          },
          "execution_count": 297
        }
      ]
    },
    {
      "cell_type": "code",
      "metadata": {
        "id": "khEt-K5g9GMl",
        "outputId": "4ecb02a4-4130-426b-949f-6ca593d8c54c",
        "colab": {
          "base_uri": "https://localhost:8080/",
          "height": 35
        }
      },
      "source": [
        "df06 = df_small[df_small['year'] == 2006]\n",
        "len(df06)"
      ],
      "execution_count": null,
      "outputs": [
        {
          "output_type": "execute_result",
          "data": {
            "text/plain": [
              "4441"
            ]
          },
          "metadata": {
            "tags": []
          },
          "execution_count": 298
        }
      ]
    },
    {
      "cell_type": "code",
      "metadata": {
        "id": "7ElHk62N9GYh",
        "outputId": "2926d6dd-38ba-4cd3-b8f3-19188ad2a399",
        "colab": {
          "base_uri": "https://localhost:8080/",
          "height": 35
        }
      },
      "source": [
        "nlp = spacy.load('en_core_web_lg', disable=['ner', 'parser'])\n",
        "lower_casing = (row.lower() for row in df06['text'])\n",
        "t = time()\n",
        "txt = [cleaning_lem(doc) for doc in nlp.pipe(lower_casing, batch_size=100, n_threads=-1)]\n",
        "print('Time to clean up everything: {} mins'.format(round((time() - t) / 60, 2)))"
      ],
      "execution_count": null,
      "outputs": [
        {
          "output_type": "stream",
          "text": [
            "Time to clean up everything: 2.4 mins\n"
          ],
          "name": "stdout"
        }
      ]
    },
    {
      "cell_type": "code",
      "metadata": {
        "id": "sq5cOTOY9Gih",
        "outputId": "a892d1af-e75f-4859-9313-e19b37853e19",
        "colab": {
          "base_uri": "https://localhost:8080/",
          "height": 182
        }
      },
      "source": [
        "df_clean = pd.DataFrame({'clean': txt})\n",
        "df_clean = df_clean.dropna().drop_duplicates()\n",
        "print(df_clean.shape)\n",
        "print('\\n')\n",
        "print(df_clean.head())"
      ],
      "execution_count": null,
      "outputs": [
        {
          "output_type": "stream",
          "text": [
            "(4398, 1)\n",
            "\n",
            "\n",
            "                                               clean\n",
            "0  \\r\\n\\r\\n tribune staff reporter susan kuczka j...\n",
            "1  \\r\\n\\r\\n screen \\r\\n\\r\\n richard linklater fas...\n",
            "2  \\r\\n\\r\\n money weekly guide personal finance \\...\n",
            "3  \\r\\n\\r\\n talk business \\r\\n\\r\\n hundred thousa...\n",
            "4  \\r\\n\\r\\n nationalism rise russia appear \\r\\n p...\n"
          ],
          "name": "stdout"
        }
      ]
    },
    {
      "cell_type": "code",
      "metadata": {
        "id": "h_RbkDXT9GnB"
      },
      "source": [
        "sent = [row.split() for row in df_clean['clean']]\n",
        "phrases = Phrases(sent, min_count=30, progress_per=100)\n",
        "bigram = Phraser(phrases)\n",
        "sentences = bigram[sent]"
      ],
      "execution_count": null,
      "outputs": []
    },
    {
      "cell_type": "code",
      "metadata": {
        "id": "zvtsPbWs9Gq2"
      },
      "source": [
        "w2v_model06 = Word2Vec(min_count=5,\n",
        "                      window=20,\n",
        "                      size=100,  \n",
        "                      negative=10,\n",
        "                      workers=cores)"
      ],
      "execution_count": null,
      "outputs": []
    },
    {
      "cell_type": "code",
      "metadata": {
        "id": "a9BO9wkA9Gvs"
      },
      "source": [
        "t = time()\n",
        "\n",
        "w2v_model06.build_vocab(sentences, progress_per=1000)\n",
        "\n",
        "print('Time to build vocab: {} mins'.format(round((time() - t) / 60, 2)))"
      ],
      "execution_count": null,
      "outputs": []
    },
    {
      "cell_type": "code",
      "metadata": {
        "id": "7QbmO-rR9G1U"
      },
      "source": [
        "t = time()\n",
        "\n",
        "w2v_model06.train(sentences, total_examples=w2v_model06.corpus_count, epochs=30, report_delay=1)\n",
        "\n",
        "print('Time to train the model: {} mins'.format(round((time() - t) / 60, 2)))"
      ],
      "execution_count": null,
      "outputs": []
    },
    {
      "cell_type": "code",
      "metadata": {
        "id": "RiKmC07y9G6D",
        "outputId": "3e924fe2-60c6-468e-f979-654cc7b78cd5",
        "colab": {
          "base_uri": "https://localhost:8080/",
          "height": 35
        }
      },
      "source": [
        "w2v_model06.init_sims(replace=True)"
      ],
      "execution_count": null,
      "outputs": [
        {
          "output_type": "stream",
          "text": [
            "INFO - 23:35:49: precomputing L2-norms of word weight vectors\n"
          ],
          "name": "stderr"
        }
      ]
    },
    {
      "cell_type": "code",
      "metadata": {
        "id": "evjdgrbL9G-G",
        "outputId": "82d8ad48-d69d-4a5c-845f-ab8f4b483d77",
        "colab": {
          "base_uri": "https://localhost:8080/",
          "height": 74
        }
      },
      "source": [
        "similar_words06 = {search_term: [item for item in w2v_model06.wv.most_similar([search_term], topn=5)]\n",
        "                  for search_term in ['immigrant', 'refugee', 'united_states','law','america','muslim','mexico','latino','border']}"
      ],
      "execution_count": null,
      "outputs": [
        {
          "output_type": "stream",
          "text": [
            "/usr/local/lib/python3.6/dist-packages/gensim/matutils.py:737: FutureWarning: Conversion of the second argument of issubdtype from `int` to `np.signedinteger` is deprecated. In future, it will be treated as `np.int64 == np.dtype(int).type`.\n",
            "  if np.issubdtype(vec.dtype, np.int):\n"
          ],
          "name": "stderr"
        }
      ]
    },
    {
      "cell_type": "code",
      "metadata": {
        "id": "gORTylrX9HCc",
        "outputId": "da5b7bf0-ed91-4265-fb6b-f86446f7b58f",
        "colab": {
          "base_uri": "https://localhost:8080/",
          "height": 313
        }
      },
      "source": [
        "pd.DataFrame(similar_words06)"
      ],
      "execution_count": null,
      "outputs": [
        {
          "output_type": "execute_result",
          "data": {
            "text/html": [
              "<div>\n",
              "<style scoped>\n",
              "    .dataframe tbody tr th:only-of-type {\n",
              "        vertical-align: middle;\n",
              "    }\n",
              "\n",
              "    .dataframe tbody tr th {\n",
              "        vertical-align: top;\n",
              "    }\n",
              "\n",
              "    .dataframe thead th {\n",
              "        text-align: right;\n",
              "    }\n",
              "</style>\n",
              "<table border=\"1\" class=\"dataframe\">\n",
              "  <thead>\n",
              "    <tr style=\"text-align: right;\">\n",
              "      <th></th>\n",
              "      <th>immigrant</th>\n",
              "      <th>refugee</th>\n",
              "      <th>united_states</th>\n",
              "      <th>law</th>\n",
              "      <th>america</th>\n",
              "      <th>muslim</th>\n",
              "      <th>mexico</th>\n",
              "      <th>latino</th>\n",
              "      <th>border</th>\n",
              "    </tr>\n",
              "  </thead>\n",
              "  <tbody>\n",
              "    <tr>\n",
              "      <th>0</th>\n",
              "      <td>(undocumented_immigrant, 0.6192390322685242)</td>\n",
              "      <td>(resettlement, 0.7356830835342407)</td>\n",
              "      <td>(united_state, 0.7957003712654114)</td>\n",
              "      <td>(rule, 0.6412621736526489)</td>\n",
              "      <td>(assimilate, 0.565172553062439)</td>\n",
              "      <td>(muslims, 0.8101866245269775)</td>\n",
              "      <td>(mexicans, 0.6707909107208252)</td>\n",
              "      <td>(latinos, 0.785356342792511)</td>\n",
              "      <td>(southern_border, 0.7789376974105835)</td>\n",
              "    </tr>\n",
              "    <tr>\n",
              "      <th>1</th>\n",
              "      <td>(illegal_immigrant, 0.5921577215194702)</td>\n",
              "      <td>(resettle, 0.6634875535964966)</td>\n",
              "      <td>(u.s, 0.6588611602783203)</td>\n",
              "      <td>(immigration_law, 0.6085965633392334)</td>\n",
              "      <td>(nation, 0.5200099945068359)</td>\n",
              "      <td>(islamic, 0.6987923383712769)</td>\n",
              "      <td>(mexican, 0.5887833833694458)</td>\n",
              "      <td>(hispanic, 0.7433797717094421)</td>\n",
              "      <td>(mexican_border, 0.7255388498306274)</td>\n",
              "    </tr>\n",
              "    <tr>\n",
              "      <th>2</th>\n",
              "      <td>(undocumented, 0.5878487825393677)</td>\n",
              "      <td>(burmese, 0.6623342633247375)</td>\n",
              "      <td>(country, 0.5476547479629517)</td>\n",
              "      <td>(regulation, 0.566287636756897)</td>\n",
              "      <td>(isolationism, 0.505120038986206)</td>\n",
              "      <td>(islam, 0.6318005323410034)</td>\n",
              "      <td>(mr_fox, 0.5489879846572876)</td>\n",
              "      <td>(latino_community, 0.6948388814926147)</td>\n",
              "      <td>(u.s.-mexico_border, 0.6809314489364624)</td>\n",
              "    </tr>\n",
              "    <tr>\n",
              "      <th>3</th>\n",
              "      <td>(latinos, 0.5358006954193115)</td>\n",
              "      <td>(hmong, 0.6501950621604919)</td>\n",
              "      <td>(usa, 0.5318757891654968)</td>\n",
              "      <td>(guideline, 0.5591002106666565)</td>\n",
              "      <td>(ideal, 0.48196613788604736)</td>\n",
              "      <td>(extremist, 0.6218851208686829)</td>\n",
              "      <td>(zacatecas, 0.5267625451087952)</td>\n",
              "      <td>(hispanics, 0.665122389793396)</td>\n",
              "      <td>(frontier, 0.6372125744819641)</td>\n",
              "    </tr>\n",
              "    <tr>\n",
              "      <th>4</th>\n",
              "      <td>(undocumented_worker, 0.49330341815948486)</td>\n",
              "      <td>(myanmar, 0.6007257699966431)</td>\n",
              "      <td>(enter_country, 0.5066897869110107)</td>\n",
              "      <td>(law-, 0.527107298374176)</td>\n",
              "      <td>(american_dream, 0.4807897210121155)</td>\n",
              "      <td>(islamophobia, 0.6161925792694092)</td>\n",
              "      <td>(create_job, 0.5190111994743347)</td>\n",
              "      <td>(spanish_speak, 0.5739312171936035)</td>\n",
              "      <td>(u.s.-mexican_border, 0.5927503108978271)</td>\n",
              "    </tr>\n",
              "  </tbody>\n",
              "</table>\n",
              "</div>"
            ],
            "text/plain": [
              "                                      immigrant  ...                                     border\n",
              "0  (undocumented_immigrant, 0.6192390322685242)  ...      (southern_border, 0.7789376974105835)\n",
              "1       (illegal_immigrant, 0.5921577215194702)  ...       (mexican_border, 0.7255388498306274)\n",
              "2            (undocumented, 0.5878487825393677)  ...   (u.s.-mexico_border, 0.6809314489364624)\n",
              "3                 (latinos, 0.5358006954193115)  ...             (frontier, 0.6372125744819641)\n",
              "4    (undocumented_worker, 0.49330341815948486)  ...  (u.s.-mexican_border, 0.5927503108978271)\n",
              "\n",
              "[5 rows x 9 columns]"
            ]
          },
          "metadata": {
            "tags": []
          },
          "execution_count": 307
        }
      ]
    },
    {
      "cell_type": "code",
      "metadata": {
        "id": "RuvbwFae9G0G",
        "outputId": "eaa80b60-2980-44ee-aec2-1e6faac2cced",
        "colab": {
          "base_uri": "https://localhost:8080/",
          "height": 35
        }
      },
      "source": [
        "df08 = df_small[df_small['year'] == 2008]\n",
        "len(df08)"
      ],
      "execution_count": null,
      "outputs": [
        {
          "output_type": "execute_result",
          "data": {
            "text/plain": [
              "6369"
            ]
          },
          "metadata": {
            "tags": []
          },
          "execution_count": 308
        }
      ]
    },
    {
      "cell_type": "code",
      "metadata": {
        "id": "P7X_WOSfAfzF",
        "outputId": "a388375e-f7c8-469c-e205-57bb2e30dbcf",
        "colab": {
          "base_uri": "https://localhost:8080/",
          "height": 35
        }
      },
      "source": [
        "nlp = spacy.load('en_core_web_lg', disable=['ner', 'parser'])\n",
        "lower_casing = (row.lower() for row in df08['text'])\n",
        "t = time()\n",
        "txt = [cleaning_lem(doc) for doc in nlp.pipe(lower_casing, batch_size=100, n_threads=-1)]\n",
        "print('Time to clean up everything: {} mins'.format(round((time() - t) / 60, 2)))"
      ],
      "execution_count": null,
      "outputs": [
        {
          "output_type": "stream",
          "text": [
            "Time to clean up everything: 3.74 mins\n"
          ],
          "name": "stdout"
        }
      ]
    },
    {
      "cell_type": "code",
      "metadata": {
        "id": "vEY7kC74Ankb",
        "outputId": "465cd861-8edb-411e-cc1d-4d730dbad427",
        "colab": {
          "base_uri": "https://localhost:8080/",
          "height": 182
        }
      },
      "source": [
        "df_clean = pd.DataFrame({'clean': txt})\n",
        "df_clean = df_clean.dropna().drop_duplicates()\n",
        "print(df_clean.shape)\n",
        "print('\\n')\n",
        "print(df_clean.head())"
      ],
      "execution_count": null,
      "outputs": [
        {
          "output_type": "stream",
          "text": [
            "(6204, 1)\n",
            "\n",
            "\n",
            "                                               clean\n",
            "0  samuel huntington influential harvard politica...\n",
            "1  rep rahm emanuel d ill incoming chief staff pr...\n",
            "2  theresa coghlan sit west church sunday \\r\\n gr...\n",
            "3  fire dead mourn \\r\\n\\r\\n dozen liberian immigr...\n",
            "4  pennsylvania \\r\\n\\r\\n movie theater rage lead ...\n"
          ],
          "name": "stdout"
        }
      ]
    },
    {
      "cell_type": "code",
      "metadata": {
        "id": "AghVJJ9T8-eN"
      },
      "source": [
        "sent = [row.split() for row in df_clean['clean']]\n",
        "phrases = Phrases(sent, min_count=30, progress_per=100)\n",
        "bigram = Phraser(phrases)\n",
        "sentences = bigram[sent]"
      ],
      "execution_count": null,
      "outputs": []
    },
    {
      "cell_type": "code",
      "metadata": {
        "id": "iNhaYRo-Ap1M"
      },
      "source": [
        "w2v_model08 = Word2Vec(min_count=5,\n",
        "                      window=20,\n",
        "                      size=100,  \n",
        "                      negative=10,\n",
        "                      workers=cores)"
      ],
      "execution_count": null,
      "outputs": []
    },
    {
      "cell_type": "code",
      "metadata": {
        "id": "o2W2fZOlAp8A"
      },
      "source": [
        "t = time()\n",
        "\n",
        "w2v_model08.build_vocab(sentences, progress_per=1000)\n",
        "\n",
        "print('Time to build vocab: {} mins'.format(round((time() - t) / 60, 2)))"
      ],
      "execution_count": null,
      "outputs": []
    },
    {
      "cell_type": "code",
      "metadata": {
        "id": "ntHZEnGJAvAr"
      },
      "source": [
        "t = time()\n",
        "\n",
        "w2v_model08.train(sentences, total_examples=w2v_model08.corpus_count, epochs=30, report_delay=1)\n",
        "\n",
        "print('Time to train the model: {} mins'.format(round((time() - t) / 60, 2)))"
      ],
      "execution_count": null,
      "outputs": []
    },
    {
      "cell_type": "code",
      "metadata": {
        "id": "NPBp-uVAAvJB",
        "outputId": "aa60f05d-242c-4f95-930b-75afd321019b",
        "colab": {
          "base_uri": "https://localhost:8080/",
          "height": 35
        }
      },
      "source": [
        "w2v_model08.init_sims(replace=True)"
      ],
      "execution_count": null,
      "outputs": [
        {
          "output_type": "stream",
          "text": [
            "INFO - 23:49:38: precomputing L2-norms of word weight vectors\n"
          ],
          "name": "stderr"
        }
      ]
    },
    {
      "cell_type": "code",
      "metadata": {
        "id": "3YbADQhsAvQQ"
      },
      "source": [
        "similar_words08 = {search_term: [item for item in w2v_model08.wv.most_similar([search_term], topn=5)]\n",
        "                  for search_term in ['immigrant', 'refugee', 'united_states','law','america','muslim','mexico','latino','border']}"
      ],
      "execution_count": null,
      "outputs": []
    },
    {
      "cell_type": "code",
      "metadata": {
        "id": "E_NACAHLA2_m",
        "outputId": "50962742-43f6-42cf-e1b2-a4b7dbe8cb93",
        "colab": {
          "base_uri": "https://localhost:8080/",
          "height": 313
        }
      },
      "source": [
        "pd.DataFrame(similar_words08)"
      ],
      "execution_count": null,
      "outputs": [
        {
          "output_type": "execute_result",
          "data": {
            "text/html": [
              "<div>\n",
              "<style scoped>\n",
              "    .dataframe tbody tr th:only-of-type {\n",
              "        vertical-align: middle;\n",
              "    }\n",
              "\n",
              "    .dataframe tbody tr th {\n",
              "        vertical-align: top;\n",
              "    }\n",
              "\n",
              "    .dataframe thead th {\n",
              "        text-align: right;\n",
              "    }\n",
              "</style>\n",
              "<table border=\"1\" class=\"dataframe\">\n",
              "  <thead>\n",
              "    <tr style=\"text-align: right;\">\n",
              "      <th></th>\n",
              "      <th>immigrant</th>\n",
              "      <th>refugee</th>\n",
              "      <th>united_states</th>\n",
              "      <th>law</th>\n",
              "      <th>america</th>\n",
              "      <th>muslim</th>\n",
              "      <th>mexico</th>\n",
              "      <th>latino</th>\n",
              "      <th>border</th>\n",
              "    </tr>\n",
              "  </thead>\n",
              "  <tbody>\n",
              "    <tr>\n",
              "      <th>0</th>\n",
              "      <td>(illegal_immigrant, 0.577490508556366)</td>\n",
              "      <td>(resettlement, 0.7240615487098694)</td>\n",
              "      <td>(united_state, 0.7903025150299072)</td>\n",
              "      <td>(statute, 0.6683027744293213)</td>\n",
              "      <td>(american_dream, 0.5603734254837036)</td>\n",
              "      <td>(muslims, 0.8024026155471802)</td>\n",
              "      <td>(mexican, 0.7358221411705017)</td>\n",
              "      <td>(hispanic, 0.785427451133728)</td>\n",
              "      <td>(mexican_border, 0.7133705019950867)</td>\n",
              "    </tr>\n",
              "    <tr>\n",
              "      <th>1</th>\n",
              "      <td>(foreign_bear, 0.5265228748321533)</td>\n",
              "      <td>(resettle, 0.7026286125183105)</td>\n",
              "      <td>(u.s, 0.7232416868209839)</td>\n",
              "      <td>(rule, 0.6171911954879761)</td>\n",
              "      <td>(world, 0.48652806878089905)</td>\n",
              "      <td>(islam, 0.7097618579864502)</td>\n",
              "      <td>(mexico_city, 0.6953983306884766)</td>\n",
              "      <td>(latinos, 0.7728993892669678)</td>\n",
              "      <td>(u.s.-mexico_border, 0.6909787654876709)</td>\n",
              "    </tr>\n",
              "    <tr>\n",
              "      <th>2</th>\n",
              "      <td>(undocumented_immigrant, 0.5044801235198975)</td>\n",
              "      <td>(iraqi_refugee, 0.6776788234710693)</td>\n",
              "      <td>(abroad, 0.598203182220459)</td>\n",
              "      <td>(federal_law, 0.590126633644104)</td>\n",
              "      <td>(sacrifice, 0.48573875427246094)</td>\n",
              "      <td>(islamic, 0.6610182523727417)</td>\n",
              "      <td>(cross_border, 0.6447737812995911)</td>\n",
              "      <td>(latino_community, 0.6797577142715454)</td>\n",
              "      <td>(crosser, 0.6898342370986938)</td>\n",
              "    </tr>\n",
              "    <tr>\n",
              "      <th>3</th>\n",
              "      <td>(immigration, 0.4786641001701355)</td>\n",
              "      <td>(iraqis, 0.6431382894515991)</td>\n",
              "      <td>(country, 0.5842535495758057)</td>\n",
              "      <td>(law_require, 0.5747992992401123)</td>\n",
              "      <td>(ideal, 0.484653115272522)</td>\n",
              "      <td>(imam, 0.5896465182304382)</td>\n",
              "      <td>(mexicans, 0.6135100722312927)</td>\n",
              "      <td>(hispanics, 0.642423152923584)</td>\n",
              "      <td>(border_crossing, 0.6884098649024963)</td>\n",
              "    </tr>\n",
              "    <tr>\n",
              "      <th>4</th>\n",
              "      <td>(assimilate, 0.46938246488571167)</td>\n",
              "      <td>(refugee_camp, 0.5879248976707458)</td>\n",
              "      <td>(canada, 0.562698245048523)</td>\n",
              "      <td>(immigration_law, 0.5743813514709473)</td>\n",
              "      <td>(strive, 0.47797611355781555)</td>\n",
              "      <td>(head_scarf, 0.5768369436264038)</td>\n",
              "      <td>(juarez, 0.5730704069137573)</td>\n",
              "      <td>(latino_vote, 0.6059002876281738)</td>\n",
              "      <td>(crossing, 0.6874347925186157)</td>\n",
              "    </tr>\n",
              "  </tbody>\n",
              "</table>\n",
              "</div>"
            ],
            "text/plain": [
              "                                      immigrant  ...                                    border\n",
              "0        (illegal_immigrant, 0.577490508556366)  ...      (mexican_border, 0.7133705019950867)\n",
              "1            (foreign_bear, 0.5265228748321533)  ...  (u.s.-mexico_border, 0.6909787654876709)\n",
              "2  (undocumented_immigrant, 0.5044801235198975)  ...             (crosser, 0.6898342370986938)\n",
              "3             (immigration, 0.4786641001701355)  ...     (border_crossing, 0.6884098649024963)\n",
              "4             (assimilate, 0.46938246488571167)  ...            (crossing, 0.6874347925186157)\n",
              "\n",
              "[5 rows x 9 columns]"
            ]
          },
          "metadata": {
            "tags": []
          },
          "execution_count": 317
        }
      ]
    },
    {
      "cell_type": "code",
      "metadata": {
        "id": "ChF8nHxSFSKP",
        "outputId": "cc02b3f2-2968-46ad-f984-05516762b9cd",
        "colab": {
          "base_uri": "https://localhost:8080/",
          "height": 35
        }
      },
      "source": [
        "df12 = df_small[df_small['year'] == 2012]\n",
        "len(df12)"
      ],
      "execution_count": null,
      "outputs": [
        {
          "output_type": "execute_result",
          "data": {
            "text/plain": [
              "4748"
            ]
          },
          "metadata": {
            "tags": []
          },
          "execution_count": 318
        }
      ]
    },
    {
      "cell_type": "code",
      "metadata": {
        "id": "Jds8OdKkFSUE",
        "outputId": "68212f0f-73ce-4a50-c6da-384cae539a3f",
        "colab": {
          "base_uri": "https://localhost:8080/",
          "height": 35
        }
      },
      "source": [
        "nlp = spacy.load('en_core_web_lg', disable=['ner', 'parser'])\n",
        "lower_casing = (row.lower() for row in df12['text'])\n",
        "t = time()\n",
        "txt = [cleaning_lem(doc) for doc in nlp.pipe(lower_casing, batch_size=100, n_threads=-1)]\n",
        "print('Time to clean up everything: {} mins'.format(round((time() - t) / 60, 2)))"
      ],
      "execution_count": null,
      "outputs": [
        {
          "output_type": "stream",
          "text": [
            "Time to clean up everything: 3.27 mins\n"
          ],
          "name": "stdout"
        }
      ]
    },
    {
      "cell_type": "code",
      "metadata": {
        "id": "nqwqs_B1FShr",
        "outputId": "41afd4e3-b0a9-4900-ef38-0d3d553b5920",
        "colab": {
          "base_uri": "https://localhost:8080/",
          "height": 182
        }
      },
      "source": [
        "df_clean = pd.DataFrame({'clean': txt})\n",
        "df_clean = df_clean.dropna().drop_duplicates()\n",
        "print(df_clean.shape)\n",
        "print('\\n')\n",
        "print(df_clean.head())"
      ],
      "execution_count": null,
      "outputs": [
        {
          "output_type": "stream",
          "text": [
            "(4646, 1)\n",
            "\n",
            "\n",
            "                                               clean\n",
            "0  text \\r\\n\\r\\n turn search term navigation < > ...\n",
            "1  text \\r\\n\\r\\n turn search term navigation < > ...\n",
            "2  text \\r\\n\\r\\n turn search term navigation < > ...\n",
            "3  text \\r\\n\\r\\n turn search term navigation < > ...\n",
            "4  text \\r\\n\\r\\n turn search term navigation < > ...\n"
          ],
          "name": "stdout"
        }
      ]
    },
    {
      "cell_type": "code",
      "metadata": {
        "id": "OXkeTOVH9AeW"
      },
      "source": [
        "sent = [row.split() for row in df_clean['clean']]\n",
        "phrases = Phrases(sent, min_count=30, progress_per=100)\n",
        "bigram = Phraser(phrases)\n",
        "sentences = bigram[sent]"
      ],
      "execution_count": null,
      "outputs": []
    },
    {
      "cell_type": "code",
      "metadata": {
        "id": "fRP9uRAIFSpA"
      },
      "source": [
        "w2v_model12 = Word2Vec(min_count=5,\n",
        "                      window=20,\n",
        "                      size=100,  \n",
        "                      negative=10,\n",
        "                      workers=cores)"
      ],
      "execution_count": null,
      "outputs": []
    },
    {
      "cell_type": "code",
      "metadata": {
        "id": "OD6N3jRAFS_H"
      },
      "source": [
        "t = time()\n",
        "\n",
        "w2v_model12.build_vocab(sentences, progress_per=1000)\n",
        "\n",
        "print('Time to build vocab: {} mins'.format(round((time() - t) / 60, 2)))"
      ],
      "execution_count": null,
      "outputs": []
    },
    {
      "cell_type": "code",
      "metadata": {
        "id": "k86vcBg7FTHQ"
      },
      "source": [
        "t = time()\n",
        "\n",
        "w2v_model12.train(sentences, total_examples=w2v_model12.corpus_count, epochs=30, report_delay=1)\n",
        "\n",
        "print('Time to train the model: {} mins'.format(round((time() - t) / 60, 2)))"
      ],
      "execution_count": null,
      "outputs": []
    },
    {
      "cell_type": "code",
      "metadata": {
        "id": "KQl5-l8JFqLs",
        "outputId": "db5ea43d-b0f9-46c3-bcf3-5d69b44905aa",
        "colab": {
          "base_uri": "https://localhost:8080/",
          "height": 35
        }
      },
      "source": [
        "w2v_model12.init_sims(replace=True)"
      ],
      "execution_count": null,
      "outputs": [
        {
          "output_type": "stream",
          "text": [
            "INFO - 00:01:42: precomputing L2-norms of word weight vectors\n"
          ],
          "name": "stderr"
        }
      ]
    },
    {
      "cell_type": "code",
      "metadata": {
        "id": "pewwygvdFqRe",
        "outputId": "4388fd05-7a91-409b-bf0d-c05486cc30bd",
        "colab": {
          "base_uri": "https://localhost:8080/",
          "height": 74
        }
      },
      "source": [
        "similar_words12 = {search_term: [item for item in w2v_model12.wv.most_similar([search_term], topn=5)]\n",
        "                  for search_term in ['immigrant', 'refugee', 'united_states','law','america','muslim','mexico','latino','border']}"
      ],
      "execution_count": null,
      "outputs": [
        {
          "output_type": "stream",
          "text": [
            "/usr/local/lib/python3.6/dist-packages/gensim/matutils.py:737: FutureWarning: Conversion of the second argument of issubdtype from `int` to `np.signedinteger` is deprecated. In future, it will be treated as `np.int64 == np.dtype(int).type`.\n",
            "  if np.issubdtype(vec.dtype, np.int):\n"
          ],
          "name": "stderr"
        }
      ]
    },
    {
      "cell_type": "code",
      "metadata": {
        "id": "IvH-kRqAFqcA",
        "outputId": "8944af6b-6880-49ef-c992-4a7a985fa3b2",
        "colab": {
          "base_uri": "https://localhost:8080/",
          "height": 313
        }
      },
      "source": [
        "pd.DataFrame(similar_words12)"
      ],
      "execution_count": null,
      "outputs": [
        {
          "output_type": "execute_result",
          "data": {
            "text/html": [
              "<div>\n",
              "<style scoped>\n",
              "    .dataframe tbody tr th:only-of-type {\n",
              "        vertical-align: middle;\n",
              "    }\n",
              "\n",
              "    .dataframe tbody tr th {\n",
              "        vertical-align: top;\n",
              "    }\n",
              "\n",
              "    .dataframe thead th {\n",
              "        text-align: right;\n",
              "    }\n",
              "</style>\n",
              "<table border=\"1\" class=\"dataframe\">\n",
              "  <thead>\n",
              "    <tr style=\"text-align: right;\">\n",
              "      <th></th>\n",
              "      <th>immigrant</th>\n",
              "      <th>refugee</th>\n",
              "      <th>united_states</th>\n",
              "      <th>law</th>\n",
              "      <th>america</th>\n",
              "      <th>muslim</th>\n",
              "      <th>mexico</th>\n",
              "      <th>latino</th>\n",
              "      <th>border</th>\n",
              "    </tr>\n",
              "  </thead>\n",
              "  <tbody>\n",
              "    <tr>\n",
              "      <th>0</th>\n",
              "      <td>(undocumented_immigrant, 0.5414565205574036)</td>\n",
              "      <td>(asylum_seeker, 0.7122350931167603)</td>\n",
              "      <td>(u.s, 0.751900315284729)</td>\n",
              "      <td>(statute, 0.6697404384613037)</td>\n",
              "      <td>(nation, 0.46809691190719604)</td>\n",
              "      <td>(muslims, 0.7943289279937744)</td>\n",
              "      <td>(mexicans, 0.681937575340271)</td>\n",
              "      <td>(hispanic, 0.7622208595275879)</td>\n",
              "      <td>(smuggler, 0.648835301399231)</td>\n",
              "    </tr>\n",
              "    <tr>\n",
              "      <th>1</th>\n",
              "      <td>(immigrate, 0.4948538541793823)</td>\n",
              "      <td>(malta, 0.679252028465271)</td>\n",
              "      <td>(united_state, 0.6950580477714539)</td>\n",
              "      <td>(immigration_law, 0.6462769508361816)</td>\n",
              "      <td>(www.nationalaquarium.com_$, 0.4133937358856201)</td>\n",
              "      <td>(islamic, 0.7459085583686829)</td>\n",
              "      <td>(mexican, 0.6273317337036133)</td>\n",
              "      <td>(latinos, 0.7063268423080444)</td>\n",
              "      <td>(u.s.-mexico, 0.6096197962760925)</td>\n",
              "    </tr>\n",
              "    <tr>\n",
              "      <th>2</th>\n",
              "      <td>(illegal_immigrant, 0.46637362241744995)</td>\n",
              "      <td>(asylum, 0.6531516313552856)</td>\n",
              "      <td>(country, 0.6633831858634949)</td>\n",
              "      <td>(federal_law, 0.6098920702934265)</td>\n",
              "      <td>(american_dream, 0.4048142433166504)</td>\n",
              "      <td>(islam, 0.6862426400184631)</td>\n",
              "      <td>(mexico_city, 0.6254486441612244)</td>\n",
              "      <td>(hispanics, 0.6224079728126526)</td>\n",
              "      <td>(border_fence, 0.5817800760269165)</td>\n",
              "    </tr>\n",
              "    <tr>\n",
              "      <th>3</th>\n",
              "      <td>(emigrate, 0.46481725573539734)</td>\n",
              "      <td>(resettlement, 0.6103629469871521)</td>\n",
              "      <td>(abroad, 0.5505903959274292)</td>\n",
              "      <td>(arizona_law, 0.5877383947372437)</td>\n",
              "      <td>(dream, 0.40359726548194885)</td>\n",
              "      <td>(mosque, 0.6687431335449219)</td>\n",
              "      <td>(drug_cartel, 0.5913432240486145)</td>\n",
              "      <td>(latino_community, 0.6057338714599609)</td>\n",
              "      <td>(border_patrol, 0.5812987685203552)</td>\n",
              "    </tr>\n",
              "    <tr>\n",
              "      <th>4</th>\n",
              "      <td>(young_people, 0.4510555565357208)</td>\n",
              "      <td>(sudanese, 0.60438472032547)</td>\n",
              "      <td>(foreign, 0.5376976728439331)</td>\n",
              "      <td>(provision, 0.5593227744102478)</td>\n",
              "      <td>(someplace, 0.3944936692714691)</td>\n",
              "      <td>(cleric, 0.6150472164154053)</td>\n",
              "      <td>(el_paso, 0.5813609957695007)</td>\n",
              "      <td>(fast_grow, 0.582568883895874)</td>\n",
              "      <td>(calexico, 0.5744211077690125)</td>\n",
              "    </tr>\n",
              "  </tbody>\n",
              "</table>\n",
              "</div>"
            ],
            "text/plain": [
              "                                      immigrant  ...                               border\n",
              "0  (undocumented_immigrant, 0.5414565205574036)  ...        (smuggler, 0.648835301399231)\n",
              "1               (immigrate, 0.4948538541793823)  ...    (u.s.-mexico, 0.6096197962760925)\n",
              "2      (illegal_immigrant, 0.46637362241744995)  ...   (border_fence, 0.5817800760269165)\n",
              "3               (emigrate, 0.46481725573539734)  ...  (border_patrol, 0.5812987685203552)\n",
              "4            (young_people, 0.4510555565357208)  ...       (calexico, 0.5744211077690125)\n",
              "\n",
              "[5 rows x 9 columns]"
            ]
          },
          "metadata": {
            "tags": []
          },
          "execution_count": 327
        }
      ]
    },
    {
      "cell_type": "code",
      "metadata": {
        "id": "S3d3ulLHIHJ-",
        "outputId": "5ea50035-1ff0-403d-f714-d365bfb1b79f",
        "colab": {
          "base_uri": "https://localhost:8080/",
          "height": 35
        }
      },
      "source": [
        "df13 = df_small[df_small['year'] == 2013]\n",
        "len(df13)"
      ],
      "execution_count": null,
      "outputs": [
        {
          "output_type": "execute_result",
          "data": {
            "text/plain": [
              "2297"
            ]
          },
          "metadata": {
            "tags": []
          },
          "execution_count": 328
        }
      ]
    },
    {
      "cell_type": "code",
      "metadata": {
        "id": "xT9LtCvWIHPw",
        "outputId": "3ce28ea9-e54b-4466-a448-edd38be8a4ca",
        "colab": {
          "base_uri": "https://localhost:8080/",
          "height": 35
        }
      },
      "source": [
        "nlp = spacy.load('en_core_web_lg', disable=['ner', 'parser'])\n",
        "lower_casing = (row.lower() for row in df13['text'])\n",
        "t = time()\n",
        "txt = [cleaning_lem(doc) for doc in nlp.pipe(lower_casing, batch_size=100, n_threads=-1)]\n",
        "print('Time to clean up everything: {} mins'.format(round((time() - t) / 60, 2)))"
      ],
      "execution_count": null,
      "outputs": [
        {
          "output_type": "stream",
          "text": [
            "Time to clean up everything: 1.73 mins\n"
          ],
          "name": "stdout"
        }
      ]
    },
    {
      "cell_type": "code",
      "metadata": {
        "id": "qx5T5OpuIHbf",
        "outputId": "375e3408-b036-4acd-8d85-022fa638bda8",
        "colab": {
          "base_uri": "https://localhost:8080/",
          "height": 182
        }
      },
      "source": [
        "df_clean = pd.DataFrame({'clean': txt})\n",
        "df_clean = df_clean.dropna().drop_duplicates()\n",
        "print(df_clean.shape)\n",
        "print('\\n')\n",
        "print(df_clean.head())"
      ],
      "execution_count": null,
      "outputs": [
        {
          "output_type": "stream",
          "text": [
            "(1704, 1)\n",
            "\n",
            "\n",
            "                                               clean\n",
            "0  \\r\\n\\r\\n \\r\\n\\r\\n rev jim good- \\r\\n\\r\\n roe d...\n",
            "1  \\r\\n\\r\\n \\r\\n\\r\\n number congress track infamo...\n",
            "2  \\r\\n\\r\\n \\r\\n\\r\\n workday year democratic cont...\n",
            "3  \\r\\n\\r\\n \\r\\n\\r\\n instead bask holiday cheer t...\n",
            "4  \\r\\n\\r\\n \\r\\n\\r\\n president obama despite year...\n"
          ],
          "name": "stdout"
        }
      ]
    },
    {
      "cell_type": "code",
      "metadata": {
        "id": "UofeT5oH9CMn"
      },
      "source": [
        "sent = [row.split() for row in df_clean['clean']]\n",
        "phrases = Phrases(sent, min_count=30, progress_per=100)\n",
        "bigram = Phraser(phrases)\n",
        "sentences = bigram[sent]"
      ],
      "execution_count": null,
      "outputs": []
    },
    {
      "cell_type": "code",
      "metadata": {
        "id": "IObLUlGmIHih"
      },
      "source": [
        "w2v_model13 = Word2Vec(min_count=5,\n",
        "                      window=20,\n",
        "                      size=100,  \n",
        "                      negative=10,\n",
        "                      workers=cores)"
      ],
      "execution_count": null,
      "outputs": []
    },
    {
      "cell_type": "code",
      "metadata": {
        "id": "cITTsv_dIHn4"
      },
      "source": [
        "t = time()\n",
        "\n",
        "w2v_model13.build_vocab(sentences, progress_per=1000)\n",
        "\n",
        "print('Time to build vocab: {} mins'.format(round((time() - t) / 60, 2)))"
      ],
      "execution_count": null,
      "outputs": []
    },
    {
      "cell_type": "code",
      "metadata": {
        "id": "aDoX27G3IHud"
      },
      "source": [
        "t = time()\n",
        "\n",
        "w2v_model13.train(sentences, total_examples=w2v_model13.corpus_count, epochs=30, report_delay=1)\n",
        "\n",
        "print('Time to train the model: {} mins'.format(round((time() - t) / 60, 2)))"
      ],
      "execution_count": null,
      "outputs": []
    },
    {
      "cell_type": "code",
      "metadata": {
        "id": "H8DD_K6WIdM_",
        "outputId": "79e9a054-179b-4be1-8495-6121827c9fe8",
        "colab": {
          "base_uri": "https://localhost:8080/",
          "height": 92
        }
      },
      "source": [
        "w2v_model13.init_sims(replace=True)\n",
        "similar_words13 = {search_term: [item for item in w2v_model13.wv.most_similar([search_term], topn=5)]\n",
        "                  for search_term in ['immigrant', 'refugee', 'united_states','law','america','muslim','mexico','latino','border']}"
      ],
      "execution_count": null,
      "outputs": [
        {
          "output_type": "stream",
          "text": [
            "INFO - 00:06:41: precomputing L2-norms of word weight vectors\n",
            "/usr/local/lib/python3.6/dist-packages/gensim/matutils.py:737: FutureWarning: Conversion of the second argument of issubdtype from `int` to `np.signedinteger` is deprecated. In future, it will be treated as `np.int64 == np.dtype(int).type`.\n",
            "  if np.issubdtype(vec.dtype, np.int):\n"
          ],
          "name": "stderr"
        }
      ]
    },
    {
      "cell_type": "code",
      "metadata": {
        "id": "NtEawz47IdTc",
        "outputId": "f35b598f-4f7d-44d6-b005-a28f6de53dd4",
        "colab": {
          "base_uri": "https://localhost:8080/",
          "height": 313
        }
      },
      "source": [
        "pd.DataFrame(similar_words13)"
      ],
      "execution_count": null,
      "outputs": [
        {
          "output_type": "execute_result",
          "data": {
            "text/html": [
              "<div>\n",
              "<style scoped>\n",
              "    .dataframe tbody tr th:only-of-type {\n",
              "        vertical-align: middle;\n",
              "    }\n",
              "\n",
              "    .dataframe tbody tr th {\n",
              "        vertical-align: top;\n",
              "    }\n",
              "\n",
              "    .dataframe thead th {\n",
              "        text-align: right;\n",
              "    }\n",
              "</style>\n",
              "<table border=\"1\" class=\"dataframe\">\n",
              "  <thead>\n",
              "    <tr style=\"text-align: right;\">\n",
              "      <th></th>\n",
              "      <th>immigrant</th>\n",
              "      <th>refugee</th>\n",
              "      <th>united_states</th>\n",
              "      <th>law</th>\n",
              "      <th>america</th>\n",
              "      <th>muslim</th>\n",
              "      <th>mexico</th>\n",
              "      <th>latino</th>\n",
              "      <th>border</th>\n",
              "    </tr>\n",
              "  </thead>\n",
              "  <tbody>\n",
              "    <tr>\n",
              "      <th>0</th>\n",
              "      <td>(unauthorized_immigrant, 0.6262995004653931)</td>\n",
              "      <td>(resettle, 0.5942944288253784)</td>\n",
              "      <td>(united_state, 0.6806440353393555)</td>\n",
              "      <td>(inhumane, 0.4033341407775879)</td>\n",
              "      <td>(tonight, 0.48002758622169495)</td>\n",
              "      <td>(muslims, 0.733029842376709)</td>\n",
              "      <td>(mexican, 0.6898680925369263)</td>\n",
              "      <td>(latinos, 0.7500944137573242)</td>\n",
              "      <td>(u.s.-mexico_border, 0.69095379114151)</td>\n",
              "    </tr>\n",
              "    <tr>\n",
              "      <th>1</th>\n",
              "      <td>(illegal_immigrant, 0.5978952050209045)</td>\n",
              "      <td>(afghans, 0.5742825269699097)</td>\n",
              "      <td>(u.s, 0.5146509408950806)</td>\n",
              "      <td>(statute, 0.3948759436607361)</td>\n",
              "      <td>(joffe, 0.4401819109916687)</td>\n",
              "      <td>(islam, 0.7250356674194336)</td>\n",
              "      <td>(mexicans, 0.6059044599533081)</td>\n",
              "      <td>(latino_voter, 0.6061273217201233)</td>\n",
              "      <td>(southern_border, 0.6465277671813965)</td>\n",
              "    </tr>\n",
              "    <tr>\n",
              "      <th>2</th>\n",
              "      <td>(undocumented_immigrant, 0.5197950601577759)</td>\n",
              "      <td>(resettlement, 0.5435274839401245)</td>\n",
              "      <td>(germany, 0.44814759492874146)</td>\n",
              "      <td>(procedure, 0.3940899968147278)</td>\n",
              "      <td>(strength, 0.4207828640937805)</td>\n",
              "      <td>(radical, 0.7141692638397217)</td>\n",
              "      <td>(central_america, 0.589849591255188)</td>\n",
              "      <td>(nclr, 0.5724431276321411)</td>\n",
              "      <td>(southwest_border, 0.632537305355072)</td>\n",
              "    </tr>\n",
              "    <tr>\n",
              "      <th>3</th>\n",
              "      <td>(undocumented, 0.49769505858421326)</td>\n",
              "      <td>(capsize, 0.5403071641921997)</td>\n",
              "      <td>(country, 0.4316696524620056)</td>\n",
              "      <td>(obamacare, 0.3489546477794647)</td>\n",
              "      <td>(collective, 0.4110715687274933)</td>\n",
              "      <td>(islamic, 0.6441150903701782)</td>\n",
              "      <td>(mexico_city, 0.5854231119155884)</td>\n",
              "      <td>(overwhelmingly, 0.5479577779769897)</td>\n",
              "      <td>(border_patrol, 0.5674416422843933)</td>\n",
              "    </tr>\n",
              "    <tr>\n",
              "      <th>4</th>\n",
              "      <td>(estimate_people, 0.46293121576309204)</td>\n",
              "      <td>(refu, 0.5245603322982788)</td>\n",
              "      <td>(enter_united, 0.4209604263305664)</td>\n",
              "      <td>(punishment, 0.343824565410614)</td>\n",
              "      <td>(lifeblood, 0.40789154171943665)</td>\n",
              "      <td>(imam, 0.6432932615280151)</td>\n",
              "      <td>(drug_cartel, 0.5298675298690796)</td>\n",
              "      <td>(hispanic, 0.5379515886306763)</td>\n",
              "      <td>(illegal_crossing, 0.5597443580627441)</td>\n",
              "    </tr>\n",
              "  </tbody>\n",
              "</table>\n",
              "</div>"
            ],
            "text/plain": [
              "                                      immigrant  ...                                  border\n",
              "0  (unauthorized_immigrant, 0.6262995004653931)  ...  (u.s.-mexico_border, 0.69095379114151)\n",
              "1       (illegal_immigrant, 0.5978952050209045)  ...   (southern_border, 0.6465277671813965)\n",
              "2  (undocumented_immigrant, 0.5197950601577759)  ...   (southwest_border, 0.632537305355072)\n",
              "3           (undocumented, 0.49769505858421326)  ...     (border_patrol, 0.5674416422843933)\n",
              "4        (estimate_people, 0.46293121576309204)  ...  (illegal_crossing, 0.5597443580627441)\n",
              "\n",
              "[5 rows x 9 columns]"
            ]
          },
          "metadata": {
            "tags": []
          },
          "execution_count": 336
        }
      ]
    },
    {
      "cell_type": "code",
      "metadata": {
        "id": "kln_mInuIm0J",
        "outputId": "3d025d7e-4fd1-426a-d13b-7426e069c776",
        "colab": {
          "base_uri": "https://localhost:8080/",
          "height": 35
        }
      },
      "source": [
        "df16 = df_small[df_small['year'] == 2016]\n",
        "len(df16)"
      ],
      "execution_count": null,
      "outputs": [
        {
          "output_type": "execute_result",
          "data": {
            "text/plain": [
              "8360"
            ]
          },
          "metadata": {
            "tags": []
          },
          "execution_count": 337
        }
      ]
    },
    {
      "cell_type": "code",
      "metadata": {
        "id": "bpyepzZuIm8G",
        "outputId": "a7c05d8e-7070-4aaf-8a66-32cfb42e33e8",
        "colab": {
          "base_uri": "https://localhost:8080/",
          "height": 35
        }
      },
      "source": [
        "nlp = spacy.load('en_core_web_lg', disable=['ner', 'parser'])\n",
        "lower_casing = (row.lower() for row in df16['text'])\n",
        "t = time()\n",
        "txt = [cleaning_lem(doc) for doc in nlp.pipe(lower_casing, batch_size=100, n_threads=-1)]\n",
        "print('Time to clean up everything: {} mins'.format(round((time() - t) / 60, 2)))"
      ],
      "execution_count": null,
      "outputs": [
        {
          "output_type": "stream",
          "text": [
            "Time to clean up everything: 5.98 mins\n"
          ],
          "name": "stdout"
        }
      ]
    },
    {
      "cell_type": "code",
      "metadata": {
        "id": "ekT1dH_KInER",
        "outputId": "6538de81-f044-49ee-ff4f-3e9bd0f3e1bb",
        "colab": {
          "base_uri": "https://localhost:8080/",
          "height": 182
        }
      },
      "source": [
        "df_clean = pd.DataFrame({'clean': txt})\n",
        "df_clean = df_clean.dropna().drop_duplicates()\n",
        "print(df_clean.shape)\n",
        "print('\\n')\n",
        "print(df_clean.head())"
      ],
      "execution_count": null,
      "outputs": [
        {
          "output_type": "stream",
          "text": [
            "(8213, 1)\n",
            "\n",
            "\n",
            "                                               clean\n",
            "0  text \\r\\n\\r\\n turn search term navigation < > ...\n",
            "1  text \\r\\n\\r\\n turn search term navigation < > ...\n",
            "2  text \\r\\n\\r\\n turn search term navigation < > ...\n",
            "3  text \\r\\n\\r\\n turn search term navigation < > ...\n",
            "4  text \\r\\n\\r\\n turn search term navigation < > ...\n"
          ],
          "name": "stdout"
        }
      ]
    },
    {
      "cell_type": "code",
      "metadata": {
        "id": "i1kB2V6v9EUg"
      },
      "source": [
        "sent = [row.split() for row in df_clean['clean']]\n",
        "phrases = Phrases(sent, min_count=30, progress_per=100)\n",
        "bigram = Phraser(phrases)\n",
        "sentences = bigram[sent]"
      ],
      "execution_count": null,
      "outputs": []
    },
    {
      "cell_type": "code",
      "metadata": {
        "id": "npumpqSzInKT"
      },
      "source": [
        "w2v_model16 = Word2Vec(min_count=5,\n",
        "                      window=20,\n",
        "                      size=100,  \n",
        "                      negative=10,\n",
        "                      workers=cores)"
      ],
      "execution_count": null,
      "outputs": []
    },
    {
      "cell_type": "code",
      "metadata": {
        "id": "P8K_idzoInQH"
      },
      "source": [
        "t = time()\n",
        "\n",
        "w2v_model16.build_vocab(sentences, progress_per=1000)\n",
        "\n",
        "print('Time to build vocab: {} mins'.format(round((time() - t) / 60, 2)))"
      ],
      "execution_count": null,
      "outputs": []
    },
    {
      "cell_type": "code",
      "metadata": {
        "id": "DMY6FI4rI3Qx"
      },
      "source": [
        "t = time()\n",
        "\n",
        "w2v_model16.train(sentences, total_examples=w2v_model16.corpus_count, epochs=30, report_delay=1)\n",
        "\n",
        "print('Time to train the model: {} mins'.format(round((time() - t) / 60, 2)))"
      ],
      "execution_count": null,
      "outputs": []
    },
    {
      "cell_type": "code",
      "metadata": {
        "id": "AndfdfcgI3ZS",
        "outputId": "13ecd20e-1e90-4410-e82f-5206f07c56c5",
        "colab": {
          "base_uri": "https://localhost:8080/",
          "height": 92
        }
      },
      "source": [
        "w2v_model16.init_sims(replace=True)\n",
        "similar_words16 = {search_term: [item for item in w2v_model16.wv.most_similar([search_term], topn=5)]\n",
        "                  for search_term in ['immigrant', 'refugee', 'united_states','law','america','muslim','mexico','latino','border']}"
      ],
      "execution_count": null,
      "outputs": [
        {
          "output_type": "stream",
          "text": [
            "INFO - 00:28:35: precomputing L2-norms of word weight vectors\n",
            "/usr/local/lib/python3.6/dist-packages/gensim/matutils.py:737: FutureWarning: Conversion of the second argument of issubdtype from `int` to `np.signedinteger` is deprecated. In future, it will be treated as `np.int64 == np.dtype(int).type`.\n",
            "  if np.issubdtype(vec.dtype, np.int):\n"
          ],
          "name": "stderr"
        }
      ]
    },
    {
      "cell_type": "code",
      "metadata": {
        "id": "yYv2YGLCI3hi",
        "outputId": "56db8554-9af3-4e3c-e9e2-52fb81ef818b",
        "colab": {
          "base_uri": "https://localhost:8080/",
          "height": 313
        }
      },
      "source": [
        "pd.DataFrame(similar_words16)"
      ],
      "execution_count": null,
      "outputs": [
        {
          "output_type": "execute_result",
          "data": {
            "text/html": [
              "<div>\n",
              "<style scoped>\n",
              "    .dataframe tbody tr th:only-of-type {\n",
              "        vertical-align: middle;\n",
              "    }\n",
              "\n",
              "    .dataframe tbody tr th {\n",
              "        vertical-align: top;\n",
              "    }\n",
              "\n",
              "    .dataframe thead th {\n",
              "        text-align: right;\n",
              "    }\n",
              "</style>\n",
              "<table border=\"1\" class=\"dataframe\">\n",
              "  <thead>\n",
              "    <tr style=\"text-align: right;\">\n",
              "      <th></th>\n",
              "      <th>immigrant</th>\n",
              "      <th>refugee</th>\n",
              "      <th>united_states</th>\n",
              "      <th>law</th>\n",
              "      <th>america</th>\n",
              "      <th>muslim</th>\n",
              "      <th>mexico</th>\n",
              "      <th>latino</th>\n",
              "      <th>border</th>\n",
              "    </tr>\n",
              "  </thead>\n",
              "  <tbody>\n",
              "    <tr>\n",
              "      <th>0</th>\n",
              "      <td>(undocumented_immigrant, 0.6417429447174072)</td>\n",
              "      <td>(syrians, 0.7109084129333496)</td>\n",
              "      <td>(u.s, 0.8356978297233582)</td>\n",
              "      <td>(law_require, 0.6943410634994507)</td>\n",
              "      <td>(country, 0.6170051693916321)</td>\n",
              "      <td>(muslims, 0.7971587777137756)</td>\n",
              "      <td>(mexican, 0.76549232006073)</td>\n",
              "      <td>(latinos, 0.7853233814239502)</td>\n",
              "      <td>(southern_border, 0.772234320640564)</td>\n",
              "    </tr>\n",
              "    <tr>\n",
              "      <th>1</th>\n",
              "      <td>(illegal_immigrant, 0.6096533536911011)</td>\n",
              "      <td>(syrian_refugee, 0.7054349780082703)</td>\n",
              "      <td>(country, 0.688010573387146)</td>\n",
              "      <td>(federal_law, 0.6278576850891113)</td>\n",
              "      <td>(nation, 0.6162297129631042)</td>\n",
              "      <td>(islam, 0.6699878573417664)</td>\n",
              "      <td>(mexican_government, 0.7654075622558594)</td>\n",
              "      <td>(hispanic, 0.7789082527160645)</td>\n",
              "      <td>(border_mexico, 0.6730154752731323)</td>\n",
              "    </tr>\n",
              "    <tr>\n",
              "      <th>2</th>\n",
              "      <td>(unauthorized_immigrant, 0.5289058685302734)</td>\n",
              "      <td>(resettlement, 0.7033607959747314)</td>\n",
              "      <td>(nation, 0.5362820029258728)</td>\n",
              "      <td>(rule, 0.6042347550392151)</td>\n",
              "      <td>(world, 0.6106467247009277)</td>\n",
              "      <td>(islamic, 0.6208157539367676)</td>\n",
              "      <td>(mexicans, 0.6764615178108215)</td>\n",
              "      <td>(latino_community, 0.6871026158332825)</td>\n",
              "      <td>(southwest_border, 0.669887900352478)</td>\n",
              "    </tr>\n",
              "    <tr>\n",
              "      <th>3</th>\n",
              "      <td>(million_immigrant, 0.5064891576766968)</td>\n",
              "      <td>(asylum_seeker, 0.6892663240432739)</td>\n",
              "      <td>(abroad, 0.5176899433135986)</td>\n",
              "      <td>(statute, 0.5868006348609924)</td>\n",
              "      <td>(american, 0.600559651851654)</td>\n",
              "      <td>(muslim_immigrant, 0.613282322883606)</td>\n",
              "      <td>(mexico_city, 0.6598028540611267)</td>\n",
              "      <td>(hispanics, 0.6857072114944458)</td>\n",
              "      <td>(border_fence, 0.6285579204559326)</td>\n",
              "    </tr>\n",
              "    <tr>\n",
              "      <th>4</th>\n",
              "      <td>(citizen, 0.5059194564819336)</td>\n",
              "      <td>(refugee_syria, 0.685168445110321)</td>\n",
              "      <td>(american, 0.5147371292114258)</td>\n",
              "      <td>(regulation, 0.5797304511070251)</td>\n",
              "      <td>(americans, 0.5640447735786438)</td>\n",
              "      <td>(mosque, 0.569373607635498)</td>\n",
              "      <td>(pena_nieto, 0.6192049384117126)</td>\n",
              "      <td>(latino_voter, 0.6540341377258301)</td>\n",
              "      <td>(border_patrol, 0.6067677736282349)</td>\n",
              "    </tr>\n",
              "  </tbody>\n",
              "</table>\n",
              "</div>"
            ],
            "text/plain": [
              "                                      immigrant  ...                                 border\n",
              "0  (undocumented_immigrant, 0.6417429447174072)  ...   (southern_border, 0.772234320640564)\n",
              "1       (illegal_immigrant, 0.6096533536911011)  ...    (border_mexico, 0.6730154752731323)\n",
              "2  (unauthorized_immigrant, 0.5289058685302734)  ...  (southwest_border, 0.669887900352478)\n",
              "3       (million_immigrant, 0.5064891576766968)  ...     (border_fence, 0.6285579204559326)\n",
              "4                 (citizen, 0.5059194564819336)  ...    (border_patrol, 0.6067677736282349)\n",
              "\n",
              "[5 rows x 9 columns]"
            ]
          },
          "metadata": {
            "tags": []
          },
          "execution_count": 345
        }
      ]
    },
    {
      "cell_type": "code",
      "metadata": {
        "id": "QPQE5o30M1PJ"
      },
      "source": [
        "import joblib"
      ],
      "execution_count": null,
      "outputs": []
    },
    {
      "cell_type": "markdown",
      "metadata": {
        "id": "DAveZeA4nfaf"
      },
      "source": [
        "Save with joblib"
      ]
    },
    {
      "cell_type": "code",
      "metadata": {
        "id": "NJWGdOCQNOJO",
        "outputId": "d252b45c-2ac6-44d0-8f6d-48e1a0da2467",
        "colab": {
          "base_uri": "https://localhost:8080/",
          "height": 35
        }
      },
      "source": [
        "joblib.dump(w2v_model16, 'w2v_model16.jl')\n",
        "joblib.dump(w2v_model13, 'w2v_model13.jl')\n",
        "joblib.dump(w2v_model12, 'w2v_model12.jl')\n",
        "joblib.dump(w2v_model08, 'w2v_model08.jl')\n",
        "joblib.dump(w2v_model06, 'w2v_model06.jl')\n",
        "joblib.dump(w2v_model05, 'w2v_model05.jl')\n",
        "joblib.dump(w2v_model04, 'w2v_model04.jl')\n",
        "joblib.dump(w2v_model00, 'w2v_model00.jl')"
      ],
      "execution_count": null,
      "outputs": [
        {
          "output_type": "execute_result",
          "data": {
            "text/plain": [
              "['w2v_model00.jl']"
            ]
          },
          "metadata": {
            "tags": []
          },
          "execution_count": 347
        }
      ]
    },
    {
      "cell_type": "markdown",
      "metadata": {
        "id": "rPAtbuRfnYqb"
      },
      "source": [
        "Save from gensim"
      ]
    },
    {
      "cell_type": "code",
      "metadata": {
        "id": "3qxZ5sjddZeq",
        "outputId": "dcf236cd-f4ae-4b2e-bfdd-eeebb48e1bb3",
        "colab": {
          "base_uri": "https://localhost:8080/",
          "height": 661
        }
      },
      "source": [
        "model_16 = \"w2v_model16\"\n",
        "w2v_model16.save(model_16)\n",
        "model_13 = \"w2v_model13\"\n",
        "w2v_model13.save(model_13)\n",
        "model_12 = \"w2v_model12\"\n",
        "w2v_model12.save(model_12)\n",
        "model_08 = \"w2v_model08\"\n",
        "w2v_model08.save(model_08)\n",
        "model_06 = \"w2v_model06\"\n",
        "w2v_model06.save(model_06)\n",
        "model_05 = \"w2v_model05\"\n",
        "w2v_model05.save(model_05)\n",
        "model_04 = \"w2v_model04\"\n",
        "w2v_model04.save(model_04)\n",
        "model_00 = \"w2v_model00\"\n",
        "w2v_model00.save(model_00)"
      ],
      "execution_count": null,
      "outputs": [
        {
          "output_type": "stream",
          "text": [
            "INFO - 00:28:45: saving Word2Vec object under w2v_model16, separately None\n",
            "INFO - 00:28:45: not storing attribute vectors_norm\n",
            "INFO - 00:28:45: not storing attribute cum_table\n",
            "/usr/local/lib/python3.6/dist-packages/smart_open/smart_open_lib.py:254: UserWarning: This function is deprecated, use smart_open.open instead. See the migration notes for details: https://github.com/RaRe-Technologies/smart_open/blob/master/README.rst#migrating-to-the-new-open-function\n",
            "  'See the migration notes for details: %s' % _MIGRATION_NOTES_URL\n",
            "INFO - 00:28:46: saved w2v_model16\n",
            "INFO - 00:28:46: saving Word2Vec object under w2v_model13, separately None\n",
            "INFO - 00:28:46: not storing attribute vectors_norm\n",
            "INFO - 00:28:46: not storing attribute cum_table\n",
            "INFO - 00:28:46: saved w2v_model13\n",
            "INFO - 00:28:46: saving Word2Vec object under w2v_model12, separately None\n",
            "INFO - 00:28:46: not storing attribute vectors_norm\n",
            "INFO - 00:28:46: not storing attribute cum_table\n",
            "INFO - 00:28:46: saved w2v_model12\n",
            "INFO - 00:28:46: saving Word2Vec object under w2v_model08, separately None\n",
            "INFO - 00:28:46: not storing attribute vectors_norm\n",
            "INFO - 00:28:46: not storing attribute cum_table\n",
            "INFO - 00:28:47: saved w2v_model08\n",
            "INFO - 00:28:47: saving Word2Vec object under w2v_model06, separately None\n",
            "INFO - 00:28:47: not storing attribute vectors_norm\n",
            "INFO - 00:28:47: not storing attribute cum_table\n",
            "INFO - 00:28:47: saved w2v_model06\n",
            "INFO - 00:28:47: saving Word2Vec object under w2v_model05, separately None\n",
            "INFO - 00:28:47: not storing attribute vectors_norm\n",
            "INFO - 00:28:47: not storing attribute cum_table\n",
            "INFO - 00:28:47: saved w2v_model05\n",
            "INFO - 00:28:47: saving Word2Vec object under w2v_model04, separately None\n",
            "INFO - 00:28:47: not storing attribute vectors_norm\n",
            "INFO - 00:28:47: not storing attribute cum_table\n",
            "INFO - 00:28:47: saved w2v_model04\n",
            "INFO - 00:28:47: saving Word2Vec object under w2v_model00, separately None\n",
            "INFO - 00:28:47: not storing attribute vectors_norm\n",
            "INFO - 00:28:47: not storing attribute cum_table\n",
            "INFO - 00:28:48: saved w2v_model00\n"
          ],
          "name": "stderr"
        }
      ]
    },
    {
      "cell_type": "code",
      "metadata": {
        "id": "fRw2-gM1ejcw",
        "outputId": "620c4c42-0134-4587-f375-202939b78bab",
        "colab": {
          "base_uri": "https://localhost:8080/",
          "height": 202
        }
      },
      "source": [
        "model_16 = \"w2v_model16\"\n",
        "model_16 = Word2Vec.load(model_16)"
      ],
      "execution_count": null,
      "outputs": [
        {
          "output_type": "stream",
          "text": [
            "INFO - 00:28:48: loading Word2Vec object from w2v_model16\n",
            "/usr/local/lib/python3.6/dist-packages/smart_open/smart_open_lib.py:254: UserWarning: This function is deprecated, use smart_open.open instead. See the migration notes for details: https://github.com/RaRe-Technologies/smart_open/blob/master/README.rst#migrating-to-the-new-open-function\n",
            "  'See the migration notes for details: %s' % _MIGRATION_NOTES_URL\n",
            "INFO - 00:28:48: loading wv recursively from w2v_model16.wv.* with mmap=None\n",
            "INFO - 00:28:48: setting ignored attribute vectors_norm to None\n",
            "INFO - 00:28:48: loading vocabulary recursively from w2v_model16.vocabulary.* with mmap=None\n",
            "INFO - 00:28:48: loading trainables recursively from w2v_model16.trainables.* with mmap=None\n",
            "INFO - 00:28:48: setting ignored attribute cum_table to None\n",
            "INFO - 00:28:48: loaded w2v_model16\n"
          ],
          "name": "stderr"
        }
      ]
    },
    {
      "cell_type": "code",
      "metadata": {
        "id": "77-zhise8JOa",
        "outputId": "6922af63-636c-40d2-97fd-18ffab1e1d08",
        "colab": {
          "base_uri": "https://localhost:8080/",
          "height": 202
        }
      },
      "source": [
        "model_00 = \"w2v_model00\"\n",
        "model_00 = Word2Vec.load(model_00)"
      ],
      "execution_count": null,
      "outputs": [
        {
          "output_type": "stream",
          "text": [
            "INFO - 00:28:48: loading Word2Vec object from w2v_model00\n",
            "/usr/local/lib/python3.6/dist-packages/smart_open/smart_open_lib.py:254: UserWarning: This function is deprecated, use smart_open.open instead. See the migration notes for details: https://github.com/RaRe-Technologies/smart_open/blob/master/README.rst#migrating-to-the-new-open-function\n",
            "  'See the migration notes for details: %s' % _MIGRATION_NOTES_URL\n",
            "INFO - 00:28:49: loading wv recursively from w2v_model00.wv.* with mmap=None\n",
            "INFO - 00:28:49: setting ignored attribute vectors_norm to None\n",
            "INFO - 00:28:49: loading vocabulary recursively from w2v_model00.vocabulary.* with mmap=None\n",
            "INFO - 00:28:49: loading trainables recursively from w2v_model00.trainables.* with mmap=None\n",
            "INFO - 00:28:49: setting ignored attribute cum_table to None\n",
            "INFO - 00:28:49: loaded w2v_model00\n"
          ],
          "name": "stderr"
        }
      ]
    },
    {
      "cell_type": "code",
      "metadata": {
        "id": "WAd29poIewe_",
        "outputId": "b6d5f0de-3e06-42d6-933e-4ceaec465bd9",
        "colab": {
          "base_uri": "https://localhost:8080/",
          "height": 625
        }
      },
      "source": [
        "model_00.wv.most_similar('america',topn=30)"
      ],
      "execution_count": null,
      "outputs": [
        {
          "output_type": "stream",
          "text": [
            "/usr/local/lib/python3.6/dist-packages/gensim/matutils.py:737: FutureWarning: Conversion of the second argument of issubdtype from `int` to `np.signedinteger` is deprecated. In future, it will be treated as `np.int64 == np.dtype(int).type`.\n",
            "  if np.issubdtype(vec.dtype, np.int):\n"
          ],
          "name": "stderr"
        },
        {
          "output_type": "execute_result",
          "data": {
            "text/plain": [
              "[('americans', 0.5524606108665466),\n",
              " ('american', 0.514445424079895),\n",
              " ('american_dream', 0.5125854015350342),\n",
              " ('god_bless', 0.49586111307144165),\n",
              " ('21st_century', 0.4953190088272095),\n",
              " ('nation', 0.49410122632980347),\n",
              " ('freedom', 0.48693373799324036),\n",
              " ('great', 0.4796038568019867),\n",
              " ('legacy', 0.4676460027694702),\n",
              " ('prosperity', 0.46576792001724243),\n",
              " ('greatness', 0.46418464183807373),\n",
              " ('oppression', 0.4635313153266907),\n",
              " ('world', 0.46101048588752747),\n",
              " ('opportunity', 0.45165160298347473),\n",
              " ('proud', 0.44795918464660645),\n",
              " ('motherland', 0.4427175223827362),\n",
              " ('appreciation', 0.441974401473999),\n",
              " ('forget', 0.4384353458881378),\n",
              " ('multiculturalism', 0.43831703066825867),\n",
              " ('embodiment', 0.43380361795425415),\n",
              " ('fdr', 0.4294421076774597),\n",
              " ('longing', 0.42920371890068054),\n",
              " ('isolationist', 0.42799797654151917),\n",
              " ('nexus', 0.427565336227417),\n",
              " ('idealism', 0.4246244430541992),\n",
              " ('strive', 0.42401498556137085),\n",
              " ('divided', 0.42350858449935913),\n",
              " ('underclass', 0.4199598729610443),\n",
              " ('tolerant', 0.41881877183914185),\n",
              " ('encapsulate', 0.4179917573928833)]"
            ]
          },
          "metadata": {
            "tags": []
          },
          "execution_count": 191
        }
      ]
    },
    {
      "cell_type": "code",
      "metadata": {
        "id": "oXVYhcRg8djK",
        "outputId": "67dac07b-1a1b-439e-c0fb-6471eede3888",
        "colab": {
          "base_uri": "https://localhost:8080/",
          "height": 92
        }
      },
      "source": [
        "w2v_model16.wv.similarity(\"immigrant\", 'undocumented_immigrant')"
      ],
      "execution_count": null,
      "outputs": [
        {
          "output_type": "stream",
          "text": [
            "/usr/local/lib/python3.6/dist-packages/gensim/matutils.py:737: FutureWarning: Conversion of the second argument of issubdtype from `int` to `np.signedinteger` is deprecated. In future, it will be treated as `np.int64 == np.dtype(int).type`.\n",
            "  if np.issubdtype(vec.dtype, np.int):\n"
          ],
          "name": "stderr"
        },
        {
          "output_type": "execute_result",
          "data": {
            "text/plain": [
              "0.64174294"
            ]
          },
          "metadata": {
            "tags": []
          },
          "execution_count": 360
        }
      ]
    },
    {
      "cell_type": "code",
      "metadata": {
        "id": "y4aFx8-O8O9p",
        "outputId": "3f29afdd-00ad-4688-f93b-3e7c99f018b2",
        "colab": {
          "base_uri": "https://localhost:8080/",
          "height": 257
        }
      },
      "source": [
        "model_00.wv.most_similar('immigrant',topn=10)"
      ],
      "execution_count": null,
      "outputs": [
        {
          "output_type": "stream",
          "text": [
            "/usr/local/lib/python3.6/dist-packages/gensim/matutils.py:737: FutureWarning: Conversion of the second argument of issubdtype from `int` to `np.signedinteger` is deprecated. In future, it will be treated as `np.int64 == np.dtype(int).type`.\n",
            "  if np.issubdtype(vec.dtype, np.int):\n"
          ],
          "name": "stderr"
        },
        {
          "output_type": "execute_result",
          "data": {
            "text/plain": [
              "[('latino_immigrant', 0.6209702491760254),\n",
              " ('new_arrival', 0.5939366221427917),\n",
              " ('newcomer', 0.5905730724334717),\n",
              " ('illegal_immigrant', 0.5786904096603394),\n",
              " ('bosnians', 0.5285718441009521),\n",
              " ('foreign_bear', 0.4807901084423065),\n",
              " ('undocumented_immigrant', 0.47416502237319946),\n",
              " ('puerto_ricans', 0.4625924825668335),\n",
              " ('immigrate', 0.4600706696510315),\n",
              " ('immigrants--', 0.4572852849960327)]"
            ]
          },
          "metadata": {
            "tags": []
          },
          "execution_count": 136
        }
      ]
    },
    {
      "cell_type": "code",
      "metadata": {
        "id": "r_AmWRpP8bll"
      },
      "source": [
        "w2v_model00.wv.similarity(\"immigrant\", 'undocumented_immigrant')"
      ],
      "execution_count": null,
      "outputs": []
    },
    {
      "cell_type": "code",
      "metadata": {
        "id": "f8c7ZIz8QwGS"
      },
      "source": [
        "model_00 = \"w2v_model00(1)\"\n",
        "model_00 = Word2Vec.load(model_00)\n",
        "model_04 = \"w2v_model04(1)\"\n",
        "model_04 = Word2Vec.load(model_04)\n",
        "model_05 = \"w2v_model05(1)\"\n",
        "model_05 = Word2Vec.load(model_05)\n",
        "model_06 = \"w2v_model06(1)\"\n",
        "model_06 = Word2Vec.load(model_06)\n",
        "model_08 = \"w2v_model08(1)\"\n",
        "model_08 = Word2Vec.load(model_08)\n",
        "model_12 = \"w2v_model12(1)\"\n",
        "model_12 = Word2Vec.load(model_12)\n",
        "model_13 = \"w2v_model13(1)\"\n",
        "model_13 = Word2Vec.load(model_13)\n",
        "model_16 = \"w2v_model16(1)\"\n",
        "model_16 = Word2Vec.load(model_16)"
      ],
      "execution_count": null,
      "outputs": []
    },
    {
      "cell_type": "code",
      "metadata": {
        "id": "ht5cTpDpXdHu"
      },
      "source": [
        "years = ['2000', '2004', '2005', '2006', '2008', '2012', '2013', '2016']"
      ],
      "execution_count": null,
      "outputs": []
    },
    {
      "cell_type": "code",
      "metadata": {
        "id": "fDzlFRLgdO0N",
        "outputId": "c162eba2-dbab-480e-ae28-640194169eb7",
        "colab": {
          "base_uri": "https://localhost:8080/",
          "height": 74
        }
      },
      "source": [
        "sim_imm_undocumented = []\n",
        "sim_imm_undocumented.append(model_00.wv.similarity(\"immigrant\", 'undocumented'))\n",
        "sim_imm_undocumented.append(model_04.wv.similarity(\"immigrant\", 'undocumented'))\n",
        "sim_imm_undocumented.append(model_05.wv.similarity(\"immigrant\", 'undocumented'))\n",
        "sim_imm_undocumented.append(model_06.wv.similarity(\"immigrant\", 'undocumented'))\n",
        "sim_imm_undocumented.append(model_08.wv.similarity(\"immigrant\", 'undocumented'))\n",
        "sim_imm_undocumented.append(model_12.wv.similarity(\"immigrant\", 'undocumented'))\n",
        "sim_imm_undocumented.append(model_13.wv.similarity(\"immigrant\", 'undocumented'))\n",
        "sim_imm_undocumented.append(model_16.wv.similarity(\"immigrant\", 'undocumented'))"
      ],
      "execution_count": null,
      "outputs": [
        {
          "output_type": "stream",
          "text": [
            "/usr/local/lib/python3.6/dist-packages/gensim/matutils.py:737: FutureWarning: Conversion of the second argument of issubdtype from `int` to `np.signedinteger` is deprecated. In future, it will be treated as `np.int64 == np.dtype(int).type`.\n",
            "  if np.issubdtype(vec.dtype, np.int):\n"
          ],
          "name": "stderr"
        }
      ]
    },
    {
      "cell_type": "code",
      "metadata": {
        "id": "B8l_u2LZdRf3",
        "outputId": "901c80de-fcab-4f49-a5ef-530867ea9211",
        "colab": {
          "base_uri": "https://localhost:8080/",
          "height": 281
        }
      },
      "source": [
        "sim_imm_undocumented = pd.DataFrame(sim_imm_undocumented)\n",
        "sim_imm_undocumented.index = years\n",
        "\n",
        "pd.DataFrame(sim_imm_undocumented).plot()\n",
        "plt.legend().remove()\n",
        "plt.title('Similarity Immigrant Vs. Undocumented')\n",
        "plt.show()"
      ],
      "execution_count": null,
      "outputs": [
        {
          "output_type": "display_data",
          "data": {
            "image/png": "[encoded data removed]",
            "text/plain": [
              "<Figure size 432x288 with 1 Axes>"
            ]
          },
          "metadata": {
            "tags": [],
            "needs_background": "light"
          }
        }
      ]
    },
    {
      "cell_type": "code",
      "metadata": {
        "id": "BKL3l55uRG3E",
        "outputId": "f349f1f4-bf2a-4b20-e3f6-f5dc1212587d",
        "colab": {
          "base_uri": "https://localhost:8080/",
          "height": 74
        }
      },
      "source": [
        "sim_imm_undocumented = []\n",
        "sim_imm_undocumented.append(model_00.wv.similarity(\"immigrant\", 'undocumented_immigrant'))\n",
        "sim_imm_undocumented.append(model_04.wv.similarity(\"immigrant\", 'undocumented_immigrant'))\n",
        "sim_imm_undocumented.append(model_05.wv.similarity(\"immigrant\", 'undocumented_immigrant'))\n",
        "sim_imm_undocumented.append(model_06.wv.similarity(\"immigrant\", 'undocumented_immigrant'))\n",
        "sim_imm_undocumented.append(model_08.wv.similarity(\"immigrant\", 'undocumented_immigrant'))\n",
        "sim_imm_undocumented.append(model_12.wv.similarity(\"immigrant\", 'undocumented_immigrant'))\n",
        "sim_imm_undocumented.append(model_13.wv.similarity(\"immigrant\", 'undocumented_immigrant'))\n",
        "sim_imm_undocumented.append(model_16.wv.similarity(\"immigrant\", 'undocumented_immigrant'))"
      ],
      "execution_count": null,
      "outputs": [
        {
          "output_type": "stream",
          "text": [
            "/usr/local/lib/python3.6/dist-packages/gensim/matutils.py:737: FutureWarning: Conversion of the second argument of issubdtype from `int` to `np.signedinteger` is deprecated. In future, it will be treated as `np.int64 == np.dtype(int).type`.\n",
            "  if np.issubdtype(vec.dtype, np.int):\n"
          ],
          "name": "stderr"
        }
      ]
    },
    {
      "cell_type": "code",
      "metadata": {
        "id": "fBkzMTGyWpqX",
        "outputId": "b418c225-17e2-4a6b-e1b5-3088801458f4",
        "colab": {
          "base_uri": "https://localhost:8080/",
          "height": 281
        }
      },
      "source": [
        "sim_imm_undocumented = pd.DataFrame(sim_imm_undocumented)\n",
        "sim_imm_undocumented.index = years\n",
        "\n",
        "pd.DataFrame(sim_imm_undocumented).plot()\n",
        "plt.legend().remove()\n",
        "plt.title('Similarity Immigrant Vs. Undocumented Immigrant')\n",
        "plt.show()"
      ],
      "execution_count": null,
      "outputs": [
        {
          "output_type": "display_data",
          "data": {
            "image/png": "[encoded data removed]",
            "text/plain": [
              "<Figure size 432x288 with 1 Axes>"
            ]
          },
          "metadata": {
            "tags": [],
            "needs_background": "light"
          }
        }
      ]
    },
    {
      "cell_type": "code",
      "metadata": {
        "id": "0Stvr1_OdeRd",
        "outputId": "ef8a1ffb-74e8-4bf5-832d-a5099b1b92ba",
        "colab": {
          "base_uri": "https://localhost:8080/",
          "height": 74
        }
      },
      "source": [
        "sim_imm_ill_imm = []\n",
        "sim_imm_ill_imm.append(model_00.wv.similarity(\"immigrant\", 'illegal'))\n",
        "sim_imm_ill_imm.append(model_04.wv.similarity(\"immigrant\", 'illegal'))\n",
        "sim_imm_ill_imm.append(model_05.wv.similarity(\"immigrant\", 'illegal'))\n",
        "sim_imm_ill_imm.append(model_06.wv.similarity(\"immigrant\", 'illegal'))\n",
        "sim_imm_ill_imm.append(model_08.wv.similarity(\"immigrant\", 'illegal'))\n",
        "sim_imm_ill_imm.append(model_12.wv.similarity(\"immigrant\", 'illegal'))\n",
        "sim_imm_ill_imm.append(model_13.wv.similarity(\"immigrant\", 'illegal'))\n",
        "sim_imm_ill_imm.append(model_16.wv.similarity(\"immigrant\", 'illegal'))"
      ],
      "execution_count": null,
      "outputs": [
        {
          "output_type": "stream",
          "text": [
            "/usr/local/lib/python3.6/dist-packages/gensim/matutils.py:737: FutureWarning: Conversion of the second argument of issubdtype from `int` to `np.signedinteger` is deprecated. In future, it will be treated as `np.int64 == np.dtype(int).type`.\n",
            "  if np.issubdtype(vec.dtype, np.int):\n"
          ],
          "name": "stderr"
        }
      ]
    },
    {
      "cell_type": "code",
      "metadata": {
        "id": "G-yApaCcdew-",
        "outputId": "61716637-615c-4434-aea9-e3af3e1afe0c",
        "colab": {
          "base_uri": "https://localhost:8080/",
          "height": 281
        }
      },
      "source": [
        "sim_imm_ill_imm = pd.DataFrame(sim_imm_ill_imm)\n",
        "sim_imm_ill_imm.index = years\n",
        "\n",
        "pd.DataFrame(sim_imm_ill_imm).plot()\n",
        "plt.legend().remove()\n",
        "plt.title('Similarity Immigrant Vs. Illegal')\n",
        "plt.show()"
      ],
      "execution_count": null,
      "outputs": [
        {
          "output_type": "display_data",
          "data": {
            "image/png": "[encoded data removed]",
            "text/plain": [
              "<Figure size 432x288 with 1 Axes>"
            ]
          },
          "metadata": {
            "tags": [],
            "needs_background": "light"
          }
        }
      ]
    },
    {
      "cell_type": "code",
      "metadata": {
        "id": "0uciWPQ1VA_6",
        "outputId": "f24d87d8-7122-4669-b2b2-7432da80724a",
        "colab": {
          "base_uri": "https://localhost:8080/",
          "height": 74
        }
      },
      "source": [
        "sim_imm_ill_imm = []\n",
        "sim_imm_ill_imm.append(model_00.wv.similarity(\"immigrant\", 'illegal_immigrant'))\n",
        "sim_imm_ill_imm.append(model_04.wv.similarity(\"immigrant\", 'illegal_immigrant'))\n",
        "sim_imm_ill_imm.append(model_05.wv.similarity(\"immigrant\", 'illegal_immigrant'))\n",
        "sim_imm_ill_imm.append(model_06.wv.similarity(\"immigrant\", 'illegal_immigrant'))\n",
        "sim_imm_ill_imm.append(model_08.wv.similarity(\"immigrant\", 'illegal_immigrant'))\n",
        "sim_imm_ill_imm.append(model_12.wv.similarity(\"immigrant\", 'illegal_immigrant'))\n",
        "sim_imm_ill_imm.append(model_13.wv.similarity(\"immigrant\", 'illegal_immigrant'))\n",
        "sim_imm_ill_imm.append(model_16.wv.similarity(\"immigrant\", 'illegal_immigrant'))"
      ],
      "execution_count": null,
      "outputs": [
        {
          "output_type": "stream",
          "text": [
            "/usr/local/lib/python3.6/dist-packages/gensim/matutils.py:737: FutureWarning: Conversion of the second argument of issubdtype from `int` to `np.signedinteger` is deprecated. In future, it will be treated as `np.int64 == np.dtype(int).type`.\n",
            "  if np.issubdtype(vec.dtype, np.int):\n"
          ],
          "name": "stderr"
        }
      ]
    },
    {
      "cell_type": "code",
      "metadata": {
        "id": "x9ZtwfYkVLUw",
        "outputId": "8b2b99d9-4327-4adc-d648-5f7c7106ffb2",
        "colab": {
          "base_uri": "https://localhost:8080/",
          "height": 281
        }
      },
      "source": [
        "sim_imm_ill_imm = pd.DataFrame(sim_imm_ill_imm)\n",
        "sim_imm_ill_imm.index = years\n",
        "\n",
        "pd.DataFrame(sim_imm_ill_imm).plot()\n",
        "plt.legend().remove()\n",
        "plt.title('Similarity Immigrant Vs. Illegal Immigrant')\n",
        "plt.show()"
      ],
      "execution_count": null,
      "outputs": [
        {
          "output_type": "display_data",
          "data": {
            "image/png": "[encoded data removed]",
            "text/plain": [
              "<Figure size 432x288 with 1 Axes>"
            ]
          },
          "metadata": {
            "tags": [],
            "needs_background": "light"
          }
        }
      ]
    },
    {
      "cell_type": "code",
      "metadata": {
        "id": "JlDpTWhVZSG5",
        "outputId": "3740b748-7a26-44c0-de08-767d78f67132",
        "colab": {
          "base_uri": "https://localhost:8080/",
          "height": 74
        }
      },
      "source": [
        "sim_imm_newcomer = []\n",
        "sim_imm_newcomer.append(model_00.wv.similarity(\"immigrant\", 'newcomer'))\n",
        "sim_imm_newcomer.append(model_04.wv.similarity(\"immigrant\", 'newcomer'))\n",
        "sim_imm_newcomer.append(model_05.wv.similarity(\"immigrant\", 'newcomer'))\n",
        "sim_imm_newcomer.append(model_06.wv.similarity(\"immigrant\", 'newcomer'))\n",
        "sim_imm_newcomer.append(model_08.wv.similarity(\"immigrant\", 'newcomer'))\n",
        "sim_imm_newcomer.append(model_12.wv.similarity(\"immigrant\", 'newcomer'))\n",
        "sim_imm_newcomer.append(model_13.wv.similarity(\"immigrant\", 'newcomer'))\n",
        "sim_imm_newcomer.append(model_16.wv.similarity(\"immigrant\", 'newcomer'))"
      ],
      "execution_count": null,
      "outputs": [
        {
          "output_type": "stream",
          "text": [
            "/usr/local/lib/python3.6/dist-packages/gensim/matutils.py:737: FutureWarning: Conversion of the second argument of issubdtype from `int` to `np.signedinteger` is deprecated. In future, it will be treated as `np.int64 == np.dtype(int).type`.\n",
            "  if np.issubdtype(vec.dtype, np.int):\n"
          ],
          "name": "stderr"
        }
      ]
    },
    {
      "cell_type": "code",
      "metadata": {
        "id": "V8gTRnu0Zk1H",
        "outputId": "1df696d0-b8fe-4601-9fd7-82253c47b83e",
        "colab": {
          "base_uri": "https://localhost:8080/",
          "height": 281
        }
      },
      "source": [
        "sim_imm_newcomer = pd.DataFrame(sim_imm_newcomer)\n",
        "sim_imm_newcomer.index = years\n",
        "\n",
        "pd.DataFrame(sim_imm_newcomer).plot()\n",
        "plt.legend().remove()\n",
        "plt.title('Similarity Immigrant Vs. Newcomer')\n",
        "plt.show()"
      ],
      "execution_count": null,
      "outputs": [
        {
          "output_type": "display_data",
          "data": {
            "image/png": "[encoded data removed]",
            "text/plain": [
              "<Figure size 432x288 with 1 Axes>"
            ]
          },
          "metadata": {
            "tags": [],
            "needs_background": "light"
          }
        }
      ]
    },
    {
      "cell_type": "code",
      "metadata": {
        "id": "5uZIQQvybL1V",
        "outputId": "a88a4a37-af63-4594-d850-56243134a5b3",
        "colab": {
          "base_uri": "https://localhost:8080/",
          "height": 74
        }
      },
      "source": [
        "sim_imm_crime = []\n",
        "sim_imm_crime.append(model_00.wv.similarity(\"immigrant\", 'crime'))\n",
        "sim_imm_crime.append(model_04.wv.similarity(\"immigrant\", 'crime'))\n",
        "sim_imm_crime.append(model_05.wv.similarity(\"immigrant\", 'crime'))\n",
        "sim_imm_crime.append(model_06.wv.similarity(\"immigrant\", 'crime'))\n",
        "sim_imm_crime.append(model_08.wv.similarity(\"immigrant\", 'crime'))\n",
        "sim_imm_crime.append(model_12.wv.similarity(\"immigrant\", 'crime'))\n",
        "sim_imm_crime.append(model_13.wv.similarity(\"immigrant\", 'crime'))\n",
        "sim_imm_crime.append(model_16.wv.similarity(\"immigrant\", 'crime'))"
      ],
      "execution_count": null,
      "outputs": [
        {
          "output_type": "stream",
          "text": [
            "/usr/local/lib/python3.6/dist-packages/gensim/matutils.py:737: FutureWarning: Conversion of the second argument of issubdtype from `int` to `np.signedinteger` is deprecated. In future, it will be treated as `np.int64 == np.dtype(int).type`.\n",
            "  if np.issubdtype(vec.dtype, np.int):\n"
          ],
          "name": "stderr"
        }
      ]
    },
    {
      "cell_type": "code",
      "metadata": {
        "id": "l5e99tbqbREV",
        "outputId": "dc707894-f7e9-49c8-f09e-a894e166c78c",
        "colab": {
          "base_uri": "https://localhost:8080/",
          "height": 281
        }
      },
      "source": [
        "sim_imm_crime = pd.DataFrame(sim_imm_crime)\n",
        "sim_imm_crime.index = years\n",
        "\n",
        "pd.DataFrame(sim_imm_crime).plot()\n",
        "plt.legend().remove()\n",
        "plt.title('Similarity Immigrant Vs. Crime')\n",
        "plt.show()"
      ],
      "execution_count": null,
      "outputs": [
        {
          "output_type": "display_data",
          "data": {
            "image/png": "[encoded data removed]",
            "text/plain": [
              "<Figure size 432x288 with 1 Axes>"
            ]
          },
          "metadata": {
            "tags": [],
            "needs_background": "light"
          }
        }
      ]
    },
    {
      "cell_type": "code",
      "metadata": {
        "id": "Oa3f-ZdrTuBC",
        "outputId": "143e6c97-4c45-4116-d693-7dc9b8e35037",
        "colab": {
          "base_uri": "https://localhost:8080/",
          "height": 74
        }
      },
      "source": [
        "sim_border_wall = []\n",
        "sim_border_wall.append(model_00.wv.similarity(\"border\", 'wall'))\n",
        "sim_border_wall.append(model_04.wv.similarity(\"border\", 'wall'))\n",
        "sim_border_wall.append(model_05.wv.similarity(\"border\", 'wall'))\n",
        "sim_border_wall.append(model_06.wv.similarity(\"border\", 'wall'))\n",
        "sim_border_wall.append(model_08.wv.similarity(\"border\", 'wall'))\n",
        "sim_border_wall.append(model_12.wv.similarity(\"border\", 'wall'))\n",
        "sim_border_wall.append(model_13.wv.similarity(\"border\", 'wall'))\n",
        "sim_border_wall.append(model_16.wv.similarity(\"border\", 'wall'))"
      ],
      "execution_count": null,
      "outputs": [
        {
          "output_type": "stream",
          "text": [
            "/usr/local/lib/python3.6/dist-packages/gensim/matutils.py:737: FutureWarning: Conversion of the second argument of issubdtype from `int` to `np.signedinteger` is deprecated. In future, it will be treated as `np.int64 == np.dtype(int).type`.\n",
            "  if np.issubdtype(vec.dtype, np.int):\n"
          ],
          "name": "stderr"
        }
      ]
    },
    {
      "cell_type": "code",
      "metadata": {
        "id": "uWrkZcKUT2Wp",
        "outputId": "f0d739a3-7f6b-4c9d-a550-f3fdd9b8c7b9",
        "colab": {
          "base_uri": "https://localhost:8080/",
          "height": 281
        }
      },
      "source": [
        "sim_border_wall = pd.DataFrame(sim_border_wall)\n",
        "sim_border_wall.index = years\n",
        "\n",
        "pd.DataFrame(sim_border_wall).plot()\n",
        "plt.legend().remove()\n",
        "plt.title('Similarity Border Vs. Wall')\n",
        "plt.show()"
      ],
      "execution_count": null,
      "outputs": [
        {
          "output_type": "display_data",
          "data": {
            "image/png": "[encoded data removed]",
            "text/plain": [
              "<Figure size 432x288 with 1 Axes>"
            ]
          },
          "metadata": {
            "tags": [],
            "needs_background": "light"
          }
        }
      ]
    },
    {
      "cell_type": "code",
      "metadata": {
        "id": "nU1UU8Zca6G2",
        "outputId": "62f271ba-f787-4dfa-9450-4e02a9d7d052",
        "colab": {
          "base_uri": "https://localhost:8080/",
          "height": 74
        }
      },
      "source": [
        "sim_border_fence = []\n",
        "sim_border_fence.append(model_00.wv.similarity(\"border\", 'fence'))\n",
        "sim_border_fence.append(model_04.wv.similarity(\"border\", 'fence'))\n",
        "sim_border_fence.append(model_05.wv.similarity(\"border\", 'fence'))\n",
        "sim_border_fence.append(model_06.wv.similarity(\"border\", 'fence'))\n",
        "sim_border_fence.append(model_08.wv.similarity(\"border\", 'fence'))\n",
        "sim_border_fence.append(model_12.wv.similarity(\"border\", 'fence'))\n",
        "sim_border_fence.append(model_13.wv.similarity(\"border\", 'fence'))\n",
        "sim_border_fence.append(model_16.wv.similarity(\"border\", 'fence'))"
      ],
      "execution_count": null,
      "outputs": [
        {
          "output_type": "stream",
          "text": [
            "/usr/local/lib/python3.6/dist-packages/gensim/matutils.py:737: FutureWarning: Conversion of the second argument of issubdtype from `int` to `np.signedinteger` is deprecated. In future, it will be treated as `np.int64 == np.dtype(int).type`.\n",
            "  if np.issubdtype(vec.dtype, np.int):\n"
          ],
          "name": "stderr"
        }
      ]
    },
    {
      "cell_type": "code",
      "metadata": {
        "id": "mA8h_RsQa988",
        "outputId": "a129576a-2f21-4cb9-bb7f-0116e9fda084",
        "colab": {
          "base_uri": "https://localhost:8080/",
          "height": 281
        }
      },
      "source": [
        "sim_border_fence = pd.DataFrame(sim_border_fence)\n",
        "sim_border_fence.index = years\n",
        "\n",
        "pd.DataFrame(sim_border_fence).plot()\n",
        "plt.legend().remove()\n",
        "plt.title('Similarity Border Vs. Fence')\n",
        "plt.show()"
      ],
      "execution_count": null,
      "outputs": [
        {
          "output_type": "display_data",
          "data": {
            "image/png": "[encoded data removed]",
            "text/plain": [
              "<Figure size 432x288 with 1 Axes>"
            ]
          },
          "metadata": {
            "tags": [],
            "needs_background": "light"
          }
        }
      ]
    },
    {
      "cell_type": "code",
      "metadata": {
        "id": "lCFJnnkQbIff",
        "outputId": "524803d8-d3c2-4e55-adb9-be9a9e0a8737",
        "colab": {
          "base_uri": "https://localhost:8080/",
          "height": 74
        }
      },
      "source": [
        "sim_muslim_terrorist = []\n",
        "sim_muslim_terrorist.append(model_00.wv.similarity(\"muslim\", 'terrorist'))\n",
        "sim_muslim_terrorist.append(model_04.wv.similarity(\"muslim\", 'terrorist'))\n",
        "sim_muslim_terrorist.append(model_05.wv.similarity(\"muslim\", 'terrorist'))\n",
        "sim_muslim_terrorist.append(model_06.wv.similarity(\"muslim\", 'terrorist'))\n",
        "sim_muslim_terrorist.append(model_08.wv.similarity(\"muslim\", 'terrorist'))\n",
        "sim_muslim_terrorist.append(model_12.wv.similarity(\"muslim\", 'terrorist'))\n",
        "sim_muslim_terrorist.append(model_13.wv.similarity(\"muslim\", 'terrorist'))\n",
        "sim_muslim_terrorist.append(model_16.wv.similarity(\"muslim\", 'terrorist'))"
      ],
      "execution_count": null,
      "outputs": [
        {
          "output_type": "stream",
          "text": [
            "/usr/local/lib/python3.6/dist-packages/gensim/matutils.py:737: FutureWarning: Conversion of the second argument of issubdtype from `int` to `np.signedinteger` is deprecated. In future, it will be treated as `np.int64 == np.dtype(int).type`.\n",
            "  if np.issubdtype(vec.dtype, np.int):\n"
          ],
          "name": "stderr"
        }
      ]
    },
    {
      "cell_type": "code",
      "metadata": {
        "id": "m-hg3L3WboA3",
        "outputId": "6773242f-08b0-4130-f30d-5e30bdcd2694",
        "colab": {
          "base_uri": "https://localhost:8080/",
          "height": 281
        }
      },
      "source": [
        "sim_muslim_terrorist = pd.DataFrame(sim_muslim_terrorist)\n",
        "sim_muslim_terrorist.index = years\n",
        "\n",
        "pd.DataFrame(sim_muslim_terrorist).plot()\n",
        "plt.legend().remove()\n",
        "plt.title('Similarity Muslim Vs. Terrorists')\n",
        "plt.show()"
      ],
      "execution_count": null,
      "outputs": [
        {
          "output_type": "display_data",
          "data": {
            "image/png": "[encoded data removed]",
            "text/plain": [
              "<Figure size 432x288 with 1 Axes>"
            ]
          },
          "metadata": {
            "tags": [],
            "needs_background": "light"
          }
        }
      ]
    },
    {
      "cell_type": "code",
      "metadata": {
        "id": "RGZBPuWSb0Dv",
        "outputId": "05304bd7-a134-4670-bfa8-fadf28fa39c3",
        "colab": {
          "base_uri": "https://localhost:8080/",
          "height": 74
        }
      },
      "source": [
        "sim_latino_criminal = []\n",
        "sim_latino_criminal.append(model_00.wv.similarity(\"latino\", 'criminal'))\n",
        "sim_latino_criminal.append(model_04.wv.similarity(\"latino\", 'criminal'))\n",
        "sim_latino_criminal.append(model_05.wv.similarity(\"latino\", 'criminal'))\n",
        "sim_latino_criminal.append(model_06.wv.similarity(\"latino\", 'criminal'))\n",
        "sim_latino_criminal.append(model_08.wv.similarity(\"latino\", 'criminal'))\n",
        "sim_latino_criminal.append(model_12.wv.similarity(\"latino\", 'criminal'))\n",
        "sim_latino_criminal.append(model_13.wv.similarity(\"latino\", 'criminal'))\n",
        "sim_latino_criminal.append(model_16.wv.similarity(\"latino\", 'criminal'))"
      ],
      "execution_count": null,
      "outputs": [
        {
          "output_type": "stream",
          "text": [
            "/usr/local/lib/python3.6/dist-packages/gensim/matutils.py:737: FutureWarning: Conversion of the second argument of issubdtype from `int` to `np.signedinteger` is deprecated. In future, it will be treated as `np.int64 == np.dtype(int).type`.\n",
            "  if np.issubdtype(vec.dtype, np.int):\n"
          ],
          "name": "stderr"
        }
      ]
    },
    {
      "cell_type": "code",
      "metadata": {
        "id": "_RuT5NztcAJ0",
        "outputId": "68e36888-0541-40b3-ee06-bb33891284b1",
        "colab": {
          "base_uri": "https://localhost:8080/",
          "height": 281
        }
      },
      "source": [
        "sim_latino_criminal = pd.DataFrame(sim_latino_criminal)\n",
        "sim_latino_criminal.index = years\n",
        "\n",
        "pd.DataFrame(sim_latino_criminal).plot()\n",
        "plt.legend().remove()\n",
        "plt.title('Similarity Latino Vs. Criminal')\n",
        "plt.show()"
      ],
      "execution_count": null,
      "outputs": [
        {
          "output_type": "display_data",
          "data": {
            "image/png": "[encoded data removed]",
            "text/plain": [
              "<Figure size 432x288 with 1 Axes>"
            ]
          },
          "metadata": {
            "tags": [],
            "needs_background": "light"
          }
        }
      ]
    },
    {
      "cell_type": "code",
      "metadata": {
        "id": "CnFbGj3ud0j3",
        "outputId": "2459e582-6ed9-4c0f-9ec0-bda170846232",
        "colab": {
          "base_uri": "https://localhost:8080/",
          "height": 74
        }
      },
      "source": [
        "sim_america_freedom = []\n",
        "sim_america_freedom.append(model_00.wv.similarity(\"america\", 'freedom'))\n",
        "sim_america_freedom.append(model_04.wv.similarity(\"america\", 'freedom'))\n",
        "sim_america_freedom.append(model_05.wv.similarity(\"america\", 'freedom'))\n",
        "sim_america_freedom.append(model_06.wv.similarity(\"america\", 'freedom'))\n",
        "sim_america_freedom.append(model_08.wv.similarity(\"america\", 'freedom'))\n",
        "sim_america_freedom.append(model_12.wv.similarity(\"america\", 'freedom'))\n",
        "sim_america_freedom.append(model_13.wv.similarity(\"america\", 'freedom'))\n",
        "sim_america_freedom.append(model_16.wv.similarity(\"america\", 'freedom'))"
      ],
      "execution_count": null,
      "outputs": [
        {
          "output_type": "stream",
          "text": [
            "/usr/local/lib/python3.6/dist-packages/gensim/matutils.py:737: FutureWarning: Conversion of the second argument of issubdtype from `int` to `np.signedinteger` is deprecated. In future, it will be treated as `np.int64 == np.dtype(int).type`.\n",
            "  if np.issubdtype(vec.dtype, np.int):\n"
          ],
          "name": "stderr"
        }
      ]
    },
    {
      "cell_type": "code",
      "metadata": {
        "id": "2ueSiMfHeFuX",
        "outputId": "d36ef529-9de1-45ce-e36c-936df6d9d61a",
        "colab": {
          "base_uri": "https://localhost:8080/",
          "height": 281
        }
      },
      "source": [
        "sim_america_freedom = pd.DataFrame(sim_america_freedom)\n",
        "sim_america_freedom.index = years\n",
        "\n",
        "pd.DataFrame(sim_america_freedom).plot()\n",
        "plt.legend().remove()\n",
        "plt.title('Similarity America Vs. Freedom')\n",
        "plt.show()"
      ],
      "execution_count": null,
      "outputs": [
        {
          "output_type": "display_data",
          "data": {
            "image/png": "[encoded data removed]",
            "text/plain": [
              "<Figure size 432x288 with 1 Axes>"
            ]
          },
          "metadata": {
            "tags": [],
            "needs_background": "light"
          }
        }
      ]
    },
    {
      "cell_type": "markdown",
      "metadata": {
        "id": "FbrGaiDvT6iu"
      },
      "source": [
        "#Named Entity Recognition"
      ]
    },
    {
      "cell_type": "code",
      "metadata": {
        "id": "zX7bD9kSUDik"
      },
      "source": [
        "from collections import Counter\n",
        "import spacy\n",
        "import spacy\n",
        "from spacy import displacy"
      ],
      "execution_count": null,
      "outputs": []
    },
    {
      "cell_type": "code",
      "metadata": {
        "id": "7XS1wN1oUKs3"
      },
      "source": [
        "!python -m spacy download en_core_web_lg"
      ],
      "execution_count": null,
      "outputs": []
    },
    {
      "cell_type": "code",
      "metadata": {
        "id": "Ga-JFAhZWNbe"
      },
      "source": [
        "nlp = spacy.load('en_core_web_lg', disable=[\"tagger\", \"parser\"])"
      ],
      "execution_count": null,
      "outputs": []
    },
    {
      "cell_type": "code",
      "metadata": {
        "id": "lj_sYjgAhoja",
        "outputId": "2425c1e1-4a37-4e5c-e3ba-8ae0bb62a3fe",
        "colab": {
          "base_uri": "https://localhost:8080/",
          "height": 182
        }
      },
      "source": [
        "df_small['year'].value_counts()"
      ],
      "execution_count": null,
      "outputs": [
        {
          "output_type": "execute_result",
          "data": {
            "text/plain": [
              "2016    8360\n",
              "2000    7247\n",
              "2008    6369\n",
              "2004    6281\n",
              "2012    4748\n",
              "2006    4441\n",
              "2005    2940\n",
              "2013    2297\n",
              "Name: year, dtype: int64"
            ]
          },
          "metadata": {
            "tags": []
          },
          "execution_count": 60
        }
      ]
    },
    {
      "cell_type": "code",
      "metadata": {
        "id": "LO5udZPd7zLP"
      },
      "source": [
        "def cleaning(doc):\n",
        "    txt = [token.text for token in doc if not token.is_punct and not token.like_num]\n",
        "    if len(txt) > 2:\n",
        "        return ' '.join(txt)"
      ],
      "execution_count": null,
      "outputs": []
    },
    {
      "cell_type": "code",
      "metadata": {
        "id": "6-dXeJjK8Afh"
      },
      "source": [
        "t = time()\n",
        "txt = [cleaning(doc) for doc in nlp.pipe(df_small['text'], batch_size=100, n_threads=-1)]\n",
        "print('Time to clean up everything: {} mins'.format(round((time() - t) / 60, 2)))"
      ],
      "execution_count": null,
      "outputs": []
    },
    {
      "cell_type": "code",
      "metadata": {
        "id": "B7QXxhoh8MS_"
      },
      "source": [
        "df_clean = pd.DataFrame({'clean': txt})\n",
        "df_clean = df_clean.dropna().drop_duplicates()\n",
        "print(df_clean.shape)\n",
        "print('\\n')\n",
        "print(df_clean.head())"
      ],
      "execution_count": null,
      "outputs": []
    },
    {
      "cell_type": "code",
      "metadata": {
        "id": "apcbaQqb4QaY"
      },
      "source": [
        "text = []\n",
        "label = []\n",
        "explain = []\n",
        "t = time()\n",
        "for doc in nlp.pipe(df00['text'], disable=[\"tagger\", \"parser\"], batch_size=100, n_threads=-1):\n",
        "    txt = [token.text for token in doc if not token.is_punct and not token.like_num]\n",
        "    tt = [x.text for x in doc.ents]\n",
        "    text.extend(tt)\n",
        "    l = [x.label_ for x in doc.ents]\n",
        "    label.extend(l)\n",
        "    e = [str(spacy.explain(x.label_)) for x in doc.ents]\n",
        "    explain.extend(e)\n",
        "    \n",
        "\n",
        "print('Time to process everything: {} mins'.format(round((time() - t) / 60, 2)))"
      ],
      "execution_count": null,
      "outputs": []
    },
    {
      "cell_type": "code",
      "metadata": {
        "id": "7Cm-51hX4Xpf"
      },
      "source": [
        "print(len(explain))\n",
        "print(len(label))\n",
        "print(len(explain))"
      ],
      "execution_count": null,
      "outputs": []
    },
    {
      "cell_type": "code",
      "metadata": {
        "id": "dasZ9YlA4bZ4"
      },
      "source": [
        "ner_df = pd.DataFrame(\n",
        "    {'Word': text,\n",
        "     'Label': label,\n",
        "     'Description': explain\n",
        "    })\n",
        "Counter(ner_df['Word']).most_common(20)"
      ],
      "execution_count": null,
      "outputs": []
    },
    {
      "cell_type": "code",
      "metadata": {
        "id": "9P1fcJS54a8I"
      },
      "source": [
        "people = ner_df[ner_df['Label'] == 'PERSON']\n",
        "Counter(people['Word']).most_common(20)"
      ],
      "execution_count": null,
      "outputs": []
    },
    {
      "cell_type": "code",
      "metadata": {
        "id": "kToeVHtP4a00"
      },
      "source": [
        "place = ner_df[ner_df['Label']=='GPE']\n",
        "Counter(place['Word']).most_common(20)"
      ],
      "execution_count": null,
      "outputs": []
    },
    {
      "cell_type": "code",
      "metadata": {
        "id": "Zu-ZPeVK4atQ"
      },
      "source": [
        "law = ner_df[ner_df['Label']=='LAW']\n",
        "Counter(law['Word']).most_common(20)"
      ],
      "execution_count": null,
      "outputs": []
    },
    {
      "cell_type": "code",
      "metadata": {
        "id": "6e1NUpQVefot"
      },
      "source": [
        "df00 = df_small[df_small['year'] == 2000]"
      ],
      "execution_count": null,
      "outputs": []
    },
    {
      "cell_type": "code",
      "metadata": {
        "id": "Q9wiMclXej3k",
        "outputId": "225e99de-a70e-4d76-dd9b-82c98c48dd16",
        "colab": {
          "base_uri": "https://localhost:8080/",
          "height": 35
        }
      },
      "source": [
        "len(df00)"
      ],
      "execution_count": null,
      "outputs": [
        {
          "output_type": "execute_result",
          "data": {
            "text/plain": [
              "7247"
            ]
          },
          "metadata": {
            "tags": []
          },
          "execution_count": 156
        }
      ]
    },
    {
      "cell_type": "code",
      "metadata": {
        "id": "YBRMtSts8g4y",
        "outputId": "1e117431-165c-430c-c683-232a0c899c93",
        "colab": {
          "base_uri": "https://localhost:8080/",
          "height": 35
        }
      },
      "source": [
        "t = time()\n",
        "txt = [cleaning(doc) for doc in nlp.pipe(df00['text'], batch_size=100, n_threads=-1)]\n",
        "print('Time to clean up everything: {} mins'.format(round((time() - t) / 60, 2)))"
      ],
      "execution_count": null,
      "outputs": [
        {
          "output_type": "stream",
          "text": [
            "Time to clean up everything: 5.1 mins\n"
          ],
          "name": "stdout"
        }
      ]
    },
    {
      "cell_type": "code",
      "metadata": {
        "id": "UYLrTW3m8kFS",
        "outputId": "8cf1f2c0-004f-41e0-c681-1ec48c2e7398",
        "colab": {
          "base_uri": "https://localhost:8080/",
          "height": 182
        }
      },
      "source": [
        "df_clean = pd.DataFrame({'clean': txt})\n",
        "df_clean = df_clean.dropna().drop_duplicates()\n",
        "print(df_clean.shape)\n",
        "print('\\n')\n",
        "print(df_clean.head())"
      ],
      "execution_count": null,
      "outputs": [
        {
          "output_type": "stream",
          "text": [
            "(7210, 1)\n",
            "\n",
            "\n",
            "                                               clean\n",
            "0  SPECIAL SECTION Employment Outlook \\r\\n\\r\\n Af...\n",
            "1  With its cluster of high rises known as the Fr...\n",
            "2  Favorite holiday memories \\r\\n\\r\\n I have hesi...\n",
            "3  Galloping growth in the South and West drove t...\n",
            "4  Cuba on Wednesday dismissed as nothing new a r...\n"
          ],
          "name": "stdout"
        }
      ]
    },
    {
      "cell_type": "code",
      "metadata": {
        "id": "0mpNjD25Wnqf",
        "outputId": "aa58fb93-919c-4eb3-862a-aa81afeaff69",
        "colab": {
          "base_uri": "https://localhost:8080/",
          "height": 35
        }
      },
      "source": [
        "text = []\n",
        "label = []\n",
        "explain = []\n",
        "t = time()\n",
        "for doc in nlp.pipe(df_clean['clean'], disable=[\"tagger\", \"parser\"], batch_size=100, n_threads=-1):\n",
        "    tt = [x.text for x in doc.ents]\n",
        "    text.extend(tt)\n",
        "    l = [x.label_ for x in doc.ents]\n",
        "    label.extend(l)\n",
        "    e = [str(spacy.explain(x.label_)) for x in doc.ents]\n",
        "    explain.extend(e)\n",
        "    \n",
        "\n",
        "print('Time to process everything: {} mins'.format(round((time() - t) / 60, 2)))"
      ],
      "execution_count": null,
      "outputs": [
        {
          "output_type": "stream",
          "text": [
            "Time to process everything: 4.23 mins\n"
          ],
          "name": "stdout"
        }
      ]
    },
    {
      "cell_type": "code",
      "metadata": {
        "id": "7yW7J56iemYX",
        "outputId": "3687cc60-24ba-41e5-dcd8-6dc83c710281",
        "colab": {
          "base_uri": "https://localhost:8080/",
          "height": 72
        }
      },
      "source": [
        "print(len(explain))\n",
        "print(len(label))\n",
        "print(len(explain))"
      ],
      "execution_count": null,
      "outputs": [
        {
          "output_type": "stream",
          "text": [
            "587782\n",
            "587782\n",
            "587782\n"
          ],
          "name": "stdout"
        }
      ]
    },
    {
      "cell_type": "code",
      "metadata": {
        "id": "wZwNzRW4W48X"
      },
      "source": [
        "ner_df = pd.DataFrame(\n",
        "    {'Word': text,\n",
        "     'Label': label,\n",
        "     'Description': explain\n",
        "    })"
      ],
      "execution_count": null,
      "outputs": []
    },
    {
      "cell_type": "code",
      "metadata": {
        "id": "0XsdyjOhW--U",
        "outputId": "1ef56611-028a-4186-e62a-eed497687d14",
        "colab": {
          "base_uri": "https://localhost:8080/",
          "height": 384
        }
      },
      "source": [
        "Counter(ner_df['Word']).most_common(20)"
      ],
      "execution_count": null,
      "outputs": [
        {
          "output_type": "execute_result",
          "data": {
            "text/plain": [
              "[('U.S.', 6490),\n",
              " ('first', 6100),\n",
              " ('Elian', 5613),\n",
              " ('American', 4520),\n",
              " ('Miami', 4447),\n",
              " ('the United States', 3715),\n",
              " ('Bush', 3594),\n",
              " ('Clinton', 3569),\n",
              " ('Cuba', 3427),\n",
              " ('Cuban', 3248),\n",
              " ('today', 3193),\n",
              " ('New York', 3061),\n",
              " ('California', 2914),\n",
              " ('Washington', 2898),\n",
              " ('years', 2676),\n",
              " ('Gore', 2522),\n",
              " ('Los Angeles', 2458),\n",
              " ('yesterday', 2441),\n",
              " ('Republican', 2410),\n",
              " ('English', 2397)]"
            ]
          },
          "metadata": {
            "tags": []
          },
          "execution_count": 162
        }
      ]
    },
    {
      "cell_type": "code",
      "metadata": {
        "id": "G0jqYHlDXy53",
        "outputId": "370324f8-c04f-4939-ba80-8baf3b249689",
        "colab": {
          "base_uri": "https://localhost:8080/",
          "height": 366
        }
      },
      "source": [
        "ner_df['Label'].value_counts()"
      ],
      "execution_count": null,
      "outputs": [
        {
          "output_type": "execute_result",
          "data": {
            "text/plain": [
              "PERSON         167700\n",
              "GPE            120990\n",
              "ORG             87558\n",
              "DATE            70589\n",
              "NORP            65688\n",
              "FAC             14113\n",
              "TIME            12908\n",
              "ORDINAL         11918\n",
              "LOC             11696\n",
              "MONEY            5949\n",
              "CARDINAL         5412\n",
              "LANGUAGE         3496\n",
              "WORK_OF_ART      3089\n",
              "EVENT            2818\n",
              "PRODUCT          1339\n",
              "QUANTITY          887\n",
              "LAW               819\n",
              "PERCENT           813\n",
              "Name: Label, dtype: int64"
            ]
          },
          "metadata": {
            "tags": []
          },
          "execution_count": 163
        }
      ]
    },
    {
      "cell_type": "code",
      "metadata": {
        "id": "4xlXJSryXfKJ"
      },
      "source": [
        "people = ner_df[ner_df['Label'] == 'PERSON']"
      ],
      "execution_count": null,
      "outputs": []
    },
    {
      "cell_type": "code",
      "metadata": {
        "id": "_2Qcd1fyXgMP",
        "outputId": "e0aa026a-122e-4819-9d67-a1b639013993",
        "colab": {
          "base_uri": "https://localhost:8080/",
          "height": 384
        }
      },
      "source": [
        "Counter(people['Word']).most_common(20)"
      ],
      "execution_count": null,
      "outputs": [
        {
          "output_type": "execute_result",
          "data": {
            "text/plain": [
              "[('Elian', 5612),\n",
              " ('Bush', 3594),\n",
              " ('Clinton', 3551),\n",
              " ('Gore', 2522),\n",
              " ('Haider', 1057),\n",
              " ('Gonzalez', 879),\n",
              " ('Reno', 817),\n",
              " ('Elian Gonzalez', 782),\n",
              " ('Barak', 778),\n",
              " ('Diallo', 761),\n",
              " ('Castro', 714),\n",
              " ('Lazaro Gonzalez', 644),\n",
              " ('George W. Bush', 585),\n",
              " ('Al Gore', 584),\n",
              " ('Fujimori', 573),\n",
              " ('Fox', 538),\n",
              " ('Giuliani', 535),\n",
              " ('Janet Reno', 523),\n",
              " ('Juan Miguel Gonzalez', 515),\n",
              " ('Lieberman', 506)]"
            ]
          },
          "metadata": {
            "tags": []
          },
          "execution_count": 165
        }
      ]
    },
    {
      "cell_type": "code",
      "metadata": {
        "id": "djLZDkfpgwoA"
      },
      "source": [
        "place = ner_df[ner_df['Label']== 'GPE']"
      ],
      "execution_count": null,
      "outputs": []
    },
    {
      "cell_type": "code",
      "metadata": {
        "id": "yhldLGXQg0v8",
        "outputId": "5ab43a3c-7ba5-4bb2-f6c7-ce0c1ee020fb",
        "colab": {
          "base_uri": "https://localhost:8080/",
          "height": 384
        }
      },
      "source": [
        "Counter(place['Word']).most_common(20)"
      ],
      "execution_count": null,
      "outputs": [
        {
          "output_type": "execute_result",
          "data": {
            "text/plain": [
              "[('U.S.', 6488),\n",
              " ('Miami', 4442),\n",
              " ('the United States', 3715),\n",
              " ('Cuba', 3425),\n",
              " ('New York', 3059),\n",
              " ('California', 2913),\n",
              " ('Washington', 2890),\n",
              " ('Los Angeles', 2453),\n",
              " ('Mexico', 2199),\n",
              " ('Florida', 1881),\n",
              " ('America', 1758),\n",
              " ('Texas', 1692),\n",
              " ('Chicago', 1635),\n",
              " ('Israel', 1379),\n",
              " ('China', 1262),\n",
              " ('Germany', 1031),\n",
              " ('Manhattan', 1024),\n",
              " ('Austria', 994),\n",
              " ('Canada', 751),\n",
              " ('Brooklyn', 725)]"
            ]
          },
          "metadata": {
            "tags": []
          },
          "execution_count": 167
        }
      ]
    },
    {
      "cell_type": "code",
      "metadata": {
        "id": "CNB8mDBThJqQ"
      },
      "source": [
        "law = ner_df[ner_df['Label']=='LAW']"
      ],
      "execution_count": null,
      "outputs": []
    },
    {
      "cell_type": "code",
      "metadata": {
        "id": "JdQdkBOkhNkK",
        "outputId": "f4c0a295-b6c0-465b-9f61-312b079e0969",
        "colab": {
          "base_uri": "https://localhost:8080/",
          "height": 384
        }
      },
      "source": [
        "Counter(law[\"Word\"]).most_common(20)"
      ],
      "execution_count": null,
      "outputs": [
        {
          "output_type": "execute_result",
          "data": {
            "text/plain": [
              "[('Constitution', 62),\n",
              " ('The Immigration and Naturalization Service', 21),\n",
              " ('the Cuban Adjustment Act', 17),\n",
              " ('the Civil Rights Act', 15),\n",
              " ('the Fourth Amendment', 14),\n",
              " ('Fourth Amendment', 13),\n",
              " ('First Amendment', 13),\n",
              " ('Superfund', 12),\n",
              " ('the \\r\\n Constitution', 11),\n",
              " ('the Espionage Act', 10),\n",
              " ('the Immigration and Naturalization Service', 8),\n",
              " ('the First Amendment', 8),\n",
              " ('Cuban Adjustment Act', 7),\n",
              " ('the \\r\\n Immigration and Naturalization Service', 7),\n",
              " ('the Immigration and Naturalization \\r\\n Service', 7),\n",
              " ('the Cuban Interests Section', 6),\n",
              " ('the 1st Amendment', 6),\n",
              " ('Roe v. Wade', 6),\n",
              " ('the Human Rights Act', 6),\n",
              " ('Miranda', 5)]"
            ]
          },
          "metadata": {
            "tags": []
          },
          "execution_count": 169
        }
      ]
    },
    {
      "cell_type": "code",
      "metadata": {
        "id": "2hFookyHiDS1",
        "outputId": "b01e5ebc-5608-4e49-e73a-10d58d16a35c",
        "colab": {
          "base_uri": "https://localhost:8080/",
          "height": 35
        }
      },
      "source": [
        "df04 = df_small[df_small['year']== 2004]\n",
        "len(df04)"
      ],
      "execution_count": null,
      "outputs": [
        {
          "output_type": "execute_result",
          "data": {
            "text/plain": [
              "6281"
            ]
          },
          "metadata": {
            "tags": []
          },
          "execution_count": 170
        }
      ]
    },
    {
      "cell_type": "code",
      "metadata": {
        "id": "n-73B4q_G0kF",
        "outputId": "27d869e4-7692-4cf1-e7bc-152161f02520",
        "colab": {
          "base_uri": "https://localhost:8080/",
          "height": 201
        }
      },
      "source": [
        "t = time()\n",
        "txt = [cleaning(doc) for doc in nlp.pipe(df04['text'], batch_size=100, n_threads=-1)]\n",
        "print('Time to clean up everything: {} mins'.format(round((time() - t) / 60, 2)))\n",
        "df_clean = pd.DataFrame({'clean': txt})\n",
        "df_clean = df_clean.dropna().drop_duplicates()\n",
        "print(df_clean.shape)\n",
        "print('\\n')\n",
        "print(df_clean.head())"
      ],
      "execution_count": null,
      "outputs": [
        {
          "output_type": "stream",
          "text": [
            "Time to clean up everything: 4.19 mins\n",
            "(6225, 1)\n",
            "\n",
            "\n",
            "                                               clean\n",
            "0  An immigration judge on Wednesday ordered the ...\n",
            "1  How far would you have walked to vote in Novem...\n",
            "2  From foreign consulates to Hindu and Buddhist ...\n",
            "3  John B. Rackos proud Hellene proud family man ...\n",
            "4  Chris Takaishi devoured food court sushi at a ...\n"
          ],
          "name": "stdout"
        }
      ]
    },
    {
      "cell_type": "code",
      "metadata": {
        "id": "WpxFZ3I0iLW-",
        "outputId": "7dc62a63-2046-4b1c-d54d-0a6559664268",
        "colab": {
          "base_uri": "https://localhost:8080/",
          "height": 35
        }
      },
      "source": [
        "text = []\n",
        "label = []\n",
        "explain = []\n",
        "t = time()\n",
        "for doc in nlp.pipe(df_clean['clean'], disable=[\"tagger\", \"parser\"], batch_size=100, n_threads=-1):\n",
        "    tt = [x.text for x in doc.ents]\n",
        "    text.extend(tt)\n",
        "    l = [x.label_ for x in doc.ents]\n",
        "    label.extend(l)\n",
        "    e = [str(spacy.explain(x.label_)) for x in doc.ents]\n",
        "    explain.extend(e)\n",
        "    \n",
        "\n",
        "print('Time to process everything: {} mins'.format(round((time() - t) / 60, 2)))"
      ],
      "execution_count": null,
      "outputs": [
        {
          "output_type": "stream",
          "text": [
            "Time to process everything: 3.43 mins\n"
          ],
          "name": "stdout"
        }
      ]
    },
    {
      "cell_type": "code",
      "metadata": {
        "id": "I4Gn71JtiRMs",
        "outputId": "5d45a86b-49d7-4a33-80c3-deae73e37813",
        "colab": {
          "base_uri": "https://localhost:8080/",
          "height": 72
        }
      },
      "source": [
        "print(len(explain))\n",
        "print(len(label))\n",
        "print(len(explain))"
      ],
      "execution_count": null,
      "outputs": [
        {
          "output_type": "stream",
          "text": [
            "483103\n",
            "483103\n",
            "483103\n"
          ],
          "name": "stdout"
        }
      ]
    },
    {
      "cell_type": "code",
      "metadata": {
        "id": "U9c0ximXiVNH"
      },
      "source": [
        "ner_df = pd.DataFrame({'Word': text,\n",
        "                       'Label': label,\n",
        "                       'Description': explain})"
      ],
      "execution_count": null,
      "outputs": []
    },
    {
      "cell_type": "code",
      "metadata": {
        "id": "YY1_QvpCillj",
        "outputId": "a71bfedd-6d09-4132-97b0-08febf59736e",
        "colab": {
          "base_uri": "https://localhost:8080/",
          "height": 384
        }
      },
      "source": [
        "Counter(ner_df['Word']).most_common(20)"
      ],
      "execution_count": null,
      "outputs": [
        {
          "output_type": "execute_result",
          "data": {
            "text/plain": [
              "[('Bush', 7232),\n",
              " ('U.S.', 7126),\n",
              " ('first', 5066),\n",
              " ('American', 3887),\n",
              " ('the United States', 3108),\n",
              " ('New York', 2457),\n",
              " ('Iraq', 2297),\n",
              " ('California', 2266),\n",
              " ('Republican', 2219),\n",
              " ('Washington', 2148),\n",
              " ('years', 2114),\n",
              " ('Sept.', 1997),\n",
              " ('yesterday', 1917),\n",
              " ('English', 1861),\n",
              " ('Mexican', 1822),\n",
              " ('America', 1775),\n",
              " ('Chicago', 1728),\n",
              " ('Mexico', 1717),\n",
              " ('Spanish', 1711),\n",
              " ('Kerry', 1684)]"
            ]
          },
          "metadata": {
            "tags": []
          },
          "execution_count": 175
        }
      ]
    },
    {
      "cell_type": "code",
      "metadata": {
        "id": "0Cx8tmQ1isNa"
      },
      "source": [
        "people = ner_df[ner_df['Label']== 'PERSON']"
      ],
      "execution_count": null,
      "outputs": []
    },
    {
      "cell_type": "code",
      "metadata": {
        "id": "9vZJFNJgixbE",
        "outputId": "a984937e-509a-44dd-d2da-eb6bcfc4fc2d",
        "colab": {
          "base_uri": "https://localhost:8080/",
          "height": 384
        }
      },
      "source": [
        "Counter(people['Word']).most_common(20)"
      ],
      "execution_count": null,
      "outputs": [
        {
          "output_type": "execute_result",
          "data": {
            "text/plain": [
              "[('Bush', 7230),\n",
              " ('Kerry', 1600),\n",
              " ('Schwarzenegger', 1010),\n",
              " ('< fulltext_hit0', 479),\n",
              " ('Kerik', 381),\n",
              " ('Ashcroft', 355),\n",
              " ('Clinton', 313),\n",
              " ('Fox', 305),\n",
              " ('John Kerry', 265),\n",
              " ('Johnson', 247),\n",
              " ('Mayfield', 228),\n",
              " ('Vang', 221),\n",
              " ('Reagan', 211),\n",
              " ('Edwards', 209),\n",
              " ('Arnold Schwarzenegger', 206),\n",
              " ('Hunter', 205),\n",
              " ('Smith', 182),\n",
              " ('Jones', 180),\n",
              " ('Padilla', 172),\n",
              " ('Rodriguez', 166)]"
            ]
          },
          "metadata": {
            "tags": []
          },
          "execution_count": 177
        }
      ]
    },
    {
      "cell_type": "code",
      "metadata": {
        "id": "MbpgDYunnzFQ",
        "outputId": "dd724c3f-1208-4489-aa63-fcb17e1a4f30",
        "colab": {
          "base_uri": "https://localhost:8080/",
          "height": 384
        }
      },
      "source": [
        "place = ner_df[ner_df['Label']=='GPE']\n",
        "Counter(place['Word']).most_common(20)"
      ],
      "execution_count": null,
      "outputs": [
        {
          "output_type": "execute_result",
          "data": {
            "text/plain": [
              "[('U.S.', 7125),\n",
              " ('the United States', 3108),\n",
              " ('New York', 2455),\n",
              " ('Iraq', 2294),\n",
              " ('California', 2266),\n",
              " ('Washington', 2142),\n",
              " ('America', 1775),\n",
              " ('Chicago', 1728),\n",
              " ('Mexico', 1714),\n",
              " ('Los Angeles', 1377),\n",
              " ('China', 940),\n",
              " ('Florida', 899),\n",
              " ('Israel', 875),\n",
              " ('Manhattan', 826),\n",
              " ('Texas', 810),\n",
              " ('France', 795),\n",
              " ('Germany', 722),\n",
              " ('Brooklyn', 688),\n",
              " ('Spain', 648),\n",
              " ('Madrid', 596)]"
            ]
          },
          "metadata": {
            "tags": []
          },
          "execution_count": 178
        }
      ]
    },
    {
      "cell_type": "code",
      "metadata": {
        "id": "5cl8sXh4n5wx",
        "outputId": "fbabb244-83b6-4984-8cdc-c5282a55d1bf",
        "colab": {
          "base_uri": "https://localhost:8080/",
          "height": 384
        }
      },
      "source": [
        "law = ner_df[ner_df['Label']=='LAW']\n",
        "Counter(law['Word']).most_common(20)"
      ],
      "execution_count": null,
      "outputs": [
        {
          "output_type": "execute_result",
          "data": {
            "text/plain": [
              "[('the Patriot Act', 92),\n",
              " ('Constitution', 86),\n",
              " ('the USA Patriot Act', 29),\n",
              " ('Roe v. Wade', 20),\n",
              " ('First Amendment', 20),\n",
              " ('the Dream Act', 14),\n",
              " ('the \\r\\n Constitution', 13),\n",
              " ('the U.S. Constitution', 12),\n",
              " ('the Geneva Conventions', 11),\n",
              " ('The Patriot Act', 11),\n",
              " ('the Bill of Rights', 10),\n",
              " ('the 1st Amendment', 10),\n",
              " ('the Freedom of Information Act', 9),\n",
              " ('the Patriot Act \\r\\n ', 8),\n",
              " ('Freedom of Information Act', 8),\n",
              " ('the Civil Rights Act', 8),\n",
              " ('the First Amendment', 6),\n",
              " ('the \\r\\n Patriot Act', 6),\n",
              " ('the Constitution', 6),\n",
              " ('Patriot Act', 5)]"
            ]
          },
          "metadata": {
            "tags": []
          },
          "execution_count": 179
        }
      ]
    },
    {
      "cell_type": "code",
      "metadata": {
        "id": "VFtVJqFYoA3I",
        "outputId": "bb3ea5c6-4622-464b-f94d-616dd5480c63",
        "colab": {
          "base_uri": "https://localhost:8080/",
          "height": 35
        }
      },
      "source": [
        "df05 = df_small[df_small['year']==2005]\n",
        "len(df05)"
      ],
      "execution_count": null,
      "outputs": [
        {
          "output_type": "execute_result",
          "data": {
            "text/plain": [
              "2940"
            ]
          },
          "metadata": {
            "tags": []
          },
          "execution_count": 180
        }
      ]
    },
    {
      "cell_type": "code",
      "metadata": {
        "id": "PeRFxfCHG-7T",
        "outputId": "fd0bccd7-2159-4b95-a0a8-1edf09879f58",
        "colab": {
          "base_uri": "https://localhost:8080/",
          "height": 201
        }
      },
      "source": [
        "t = time()\n",
        "txt = [cleaning(doc) for doc in nlp.pipe(df05['text'], batch_size=100, n_threads=-1)]\n",
        "print('Time to clean up everything: {} mins'.format(round((time() - t) / 60, 2)))\n",
        "df_clean = pd.DataFrame({'clean': txt})\n",
        "df_clean = df_clean.dropna().drop_duplicates()\n",
        "print(df_clean.shape)\n",
        "print('\\n')\n",
        "print(df_clean.head())"
      ],
      "execution_count": null,
      "outputs": [
        {
          "output_type": "stream",
          "text": [
            "Time to clean up everything: 2.05 mins\n",
            "(2903, 1)\n",
            "\n",
            "\n",
            "                                               clean\n",
            "0  \\r\\n\\r\\n Gov. Arnold Schwarzenegger 's plan to...\n",
            "1  \\r\\n\\r\\n In a case spotlighting horrific condi...\n",
            "2  \\r\\n\\r\\n Riverside activists on Wednesday anno...\n",
            "3  \\r\\n\\r\\n Re Special Order editorial April What...\n",
            "4  \\r\\n\\r\\n Need a manicure Along Pico Boulevard ...\n"
          ],
          "name": "stdout"
        }
      ]
    },
    {
      "cell_type": "code",
      "metadata": {
        "id": "n3-M3l93oHea",
        "outputId": "e886b978-d85f-4cca-da15-bd65e28e039e",
        "colab": {
          "base_uri": "https://localhost:8080/",
          "height": 35
        }
      },
      "source": [
        "text = []\n",
        "label = []\n",
        "explain = []\n",
        "t = time()\n",
        "for doc in nlp.pipe(df_clean['clean'], disable=[\"tagger\", \"parser\"], batch_size=100, n_threads=-1):\n",
        "    tt = [x.text for x in doc.ents]\n",
        "    text.extend(tt)\n",
        "    l = [x.label_ for x in doc.ents]\n",
        "    label.extend(l)\n",
        "    e = [str(spacy.explain(x.label_)) for x in doc.ents]\n",
        "    explain.extend(e)\n",
        "    \n",
        "\n",
        "print('Time to process everything: {} mins'.format(round((time() - t) / 60, 2)))"
      ],
      "execution_count": null,
      "outputs": [
        {
          "output_type": "stream",
          "text": [
            "Time to process everything: 1.69 mins\n"
          ],
          "name": "stdout"
        }
      ]
    },
    {
      "cell_type": "code",
      "metadata": {
        "id": "-d2IpcmSpUVI",
        "outputId": "25f5d7d2-f01f-4c29-c1c8-ca73a070a6a4",
        "colab": {
          "base_uri": "https://localhost:8080/",
          "height": 72
        }
      },
      "source": [
        "print(len(explain))\n",
        "print(len(label))\n",
        "print(len(explain))"
      ],
      "execution_count": null,
      "outputs": [
        {
          "output_type": "stream",
          "text": [
            "237083\n",
            "237083\n",
            "237083\n"
          ],
          "name": "stdout"
        }
      ]
    },
    {
      "cell_type": "code",
      "metadata": {
        "id": "a_Jp3BwcpYw5"
      },
      "source": [
        "ner_df = pd.DataFrame({'Word': text,\n",
        "                       'Label': label,\n",
        "                       'Description': explain})"
      ],
      "execution_count": null,
      "outputs": []
    },
    {
      "cell_type": "code",
      "metadata": {
        "id": "amgQB753pZ3Q",
        "outputId": "8c87799c-a00c-4d56-c8cd-0bdd2dd172f9",
        "colab": {
          "base_uri": "https://localhost:8080/",
          "height": 384
        }
      },
      "source": [
        "Counter(ner_df['Word']).most_common(20)"
      ],
      "execution_count": null,
      "outputs": [
        {
          "output_type": "execute_result",
          "data": {
            "text/plain": [
              "[('U.S.', 4706),\n",
              " ('Bush', 3534),\n",
              " ('the United States', 1934),\n",
              " ('first', 1851),\n",
              " ('American', 1553),\n",
              " ('Republican', 1460),\n",
              " ('Mexico', 1318),\n",
              " ('Congress', 1297),\n",
              " ('Washington', 1257),\n",
              " ('Mexican', 1232),\n",
              " ('House', 1213),\n",
              " ('Iraq', 1211),\n",
              " ('Senate', 1205),\n",
              " ('Republicans', 1203),\n",
              " ('California', 1129),\n",
              " ('Democrats', 1091),\n",
              " ('years', 1018),\n",
              " ('Tuesday', 969),\n",
              " ('New York', 881),\n",
              " ('Americans', 827)]"
            ]
          },
          "metadata": {
            "tags": []
          },
          "execution_count": 185
        }
      ]
    },
    {
      "cell_type": "code",
      "metadata": {
        "id": "bFP3lIUypeM5",
        "outputId": "ef3d02b7-f800-4a8d-b1ec-f66d51a95134",
        "colab": {
          "base_uri": "https://localhost:8080/",
          "height": 384
        }
      },
      "source": [
        "people = ner_df[ner_df['Label']== 'PERSON']\n",
        "Counter(people['Word']).most_common(20)"
      ],
      "execution_count": null,
      "outputs": [
        {
          "output_type": "execute_result",
          "data": {
            "text/plain": [
              "[('Bush', 3534),\n",
              " ('Chertoff', 469),\n",
              " ('Kaine', 434),\n",
              " ('Schwarzenegger', 357),\n",
              " ('DeLay', 304),\n",
              " ('Kilgore', 300),\n",
              " ('Roberts', 295),\n",
              " ('Blair', 289),\n",
              " ('Posada', 255),\n",
              " ('Gilchrist', 207),\n",
              " ('Clinton', 195),\n",
              " ('Villaraigosa', 193),\n",
              " ('Nichols', 180),\n",
              " ('Fox', 171),\n",
              " ('Reagan', 157),\n",
              " ('Smith', 155),\n",
              " ('Castro', 148),\n",
              " ('Duncan', 141),\n",
              " ('Hahn', 134),\n",
              " ('Hastert', 128)]"
            ]
          },
          "metadata": {
            "tags": []
          },
          "execution_count": 186
        }
      ]
    },
    {
      "cell_type": "code",
      "metadata": {
        "id": "EYxsi6mcplQc",
        "outputId": "7271d346-e21d-4a2c-a7a8-002dda56455b",
        "colab": {
          "base_uri": "https://localhost:8080/",
          "height": 384
        }
      },
      "source": [
        "place = ner_df[ner_df['Label']=='GPE']\n",
        "Counter(place['Word']).most_common(20)"
      ],
      "execution_count": null,
      "outputs": [
        {
          "output_type": "execute_result",
          "data": {
            "text/plain": [
              "[('U.S.', 4706),\n",
              " ('the United States', 1934),\n",
              " ('Mexico', 1316),\n",
              " ('Washington', 1251),\n",
              " ('Iraq', 1211),\n",
              " ('California', 1128),\n",
              " ('New York', 880),\n",
              " ('Los Angeles', 781),\n",
              " ('Virginia', 639),\n",
              " ('America', 569),\n",
              " ('Texas', 546),\n",
              " ('Arizona', 525),\n",
              " ('Chicago', 521),\n",
              " ('Britain', 521),\n",
              " ('China', 509),\n",
              " ('France', 505),\n",
              " ('London', 442),\n",
              " ('Germany', 361),\n",
              " ('Maryland', 322),\n",
              " ('Afghanistan', 287)]"
            ]
          },
          "metadata": {
            "tags": []
          },
          "execution_count": 187
        }
      ]
    },
    {
      "cell_type": "code",
      "metadata": {
        "id": "bnSIbed7ppcQ",
        "outputId": "e9ad8245-4e8d-4b06-f6dd-b383ed3d4a7e",
        "colab": {
          "base_uri": "https://localhost:8080/",
          "height": 384
        }
      },
      "source": [
        "law = ner_df[ner_df['Label']=='LAW']\n",
        "Counter(law['Word']).most_common(20)"
      ],
      "execution_count": null,
      "outputs": [
        {
          "output_type": "execute_result",
          "data": {
            "text/plain": [
              "[('Constitution', 43),\n",
              " ('the Patriot Act', 36),\n",
              " ('the Real ID Act', 21),\n",
              " ('the USA Patriot Act', 21),\n",
              " ('Roe v. Wade', 14),\n",
              " ('the 14th Amendment', 13),\n",
              " ('Immigration and Customs Enforcement', 7),\n",
              " ('First Amendment', 7),\n",
              " ('the Voting Rights Act', 7),\n",
              " ('The Patriot Act', 6),\n",
              " ('the \\r\\n Constitution', 6),\n",
              " ('the Immigration Reform and Control Act', 5),\n",
              " ('the Bill of Rights', 5),\n",
              " ('the Davis Bacon Act', 5),\n",
              " ('Real ID Act', 4),\n",
              " ('the \\r\\n Voting Rights Act', 4),\n",
              " ('Disabilities Act', 4),\n",
              " ('the \\r\\n Immigration and Naturalization Service', 3),\n",
              " ('the U.S. Constitution', 3),\n",
              " ('the Chinese Exclusion Act', 3)]"
            ]
          },
          "metadata": {
            "tags": []
          },
          "execution_count": 188
        }
      ]
    },
    {
      "cell_type": "code",
      "metadata": {
        "id": "omBx9qC6psll",
        "outputId": "91cdeef7-13b7-4d84-fa47-6a0eca1c0519",
        "colab": {
          "base_uri": "https://localhost:8080/",
          "height": 35
        }
      },
      "source": [
        "df06 = df_small[df_small['year']== 2006]\n",
        "len(df06)"
      ],
      "execution_count": null,
      "outputs": [
        {
          "output_type": "execute_result",
          "data": {
            "text/plain": [
              "4441"
            ]
          },
          "metadata": {
            "tags": []
          },
          "execution_count": 189
        }
      ]
    },
    {
      "cell_type": "code",
      "metadata": {
        "id": "Iv7Ip8V1HEzU",
        "outputId": "ec91bff0-f592-4826-b1da-83828ef719a6",
        "colab": {
          "base_uri": "https://localhost:8080/",
          "height": 201
        }
      },
      "source": [
        "t = time()\n",
        "txt = [cleaning(doc) for doc in nlp.pipe(df06['text'], batch_size=100, n_threads=-1)]\n",
        "print('Time to clean up everything: {} mins'.format(round((time() - t) / 60, 2)))\n",
        "df_clean = pd.DataFrame({'clean': txt})\n",
        "df_clean = df_clean.dropna().drop_duplicates()\n",
        "print(df_clean.shape)\n",
        "print('\\n')\n",
        "print(df_clean.head())"
      ],
      "execution_count": null,
      "outputs": [
        {
          "output_type": "stream",
          "text": [
            "Time to clean up everything: 2.74 mins\n",
            "(4399, 1)\n",
            "\n",
            "\n",
            "                                               clean\n",
            "0  \\r\\n\\r\\n Tribune staff reporters Susan Kuczka ...\n",
            "1  \\r\\n\\r\\n BEYOND THE SCREEN \\r\\n\\r\\n Richard Li...\n",
            "2  \\r\\n\\r\\n YOUR MONEY A WEEKLY GUIDE TO PERSONAL...\n",
            "3  \\r\\n\\r\\n TALKING BUSINESS \\r\\n\\r\\n For hundred...\n",
            "4  \\r\\n\\r\\n Nationalism has been on the rise in R...\n"
          ],
          "name": "stdout"
        }
      ]
    },
    {
      "cell_type": "code",
      "metadata": {
        "id": "bCrGmLJ9qDMA",
        "outputId": "63845def-0a92-453e-8ca0-9e8d3513762e",
        "colab": {
          "base_uri": "https://localhost:8080/",
          "height": 35
        }
      },
      "source": [
        "text = []\n",
        "label = []\n",
        "explain = []\n",
        "t = time()\n",
        "for doc in nlp.pipe(df_clean['clean'], disable=[\"tagger\", \"parser\"], batch_size=100, n_threads=-1):\n",
        "    tt = [x.text for x in doc.ents]\n",
        "    text.extend(tt)\n",
        "    l = [x.label_ for x in doc.ents]\n",
        "    label.extend(l)\n",
        "    e = [str(spacy.explain(x.label_)) for x in doc.ents]\n",
        "    explain.extend(e)\n",
        "    \n",
        "\n",
        "print('Time to process everything: {} mins'.format(round((time() - t) / 60, 2)))"
      ],
      "execution_count": null,
      "outputs": [
        {
          "output_type": "stream",
          "text": [
            "Time to process everything: 2.27 mins\n"
          ],
          "name": "stdout"
        }
      ]
    },
    {
      "cell_type": "code",
      "metadata": {
        "id": "DSVlRj5-qMKn",
        "outputId": "152e9f0c-3f7f-4b6b-d803-d8b3b4fcdb29",
        "colab": {
          "base_uri": "https://localhost:8080/",
          "height": 72
        }
      },
      "source": [
        "print(len(explain))\n",
        "print(len(label))\n",
        "print(len(explain))"
      ],
      "execution_count": null,
      "outputs": [
        {
          "output_type": "stream",
          "text": [
            "319926\n",
            "319926\n",
            "319926\n"
          ],
          "name": "stdout"
        }
      ]
    },
    {
      "cell_type": "code",
      "metadata": {
        "id": "vd0Lf-MssFt6"
      },
      "source": [
        "ner_df = pd.DataFrame({'Word': text,\n",
        "                       'Label': label,\n",
        "                       'Description': explain})"
      ],
      "execution_count": null,
      "outputs": []
    },
    {
      "cell_type": "code",
      "metadata": {
        "id": "NGphXnNzsMcy",
        "outputId": "35863ef3-df41-42f4-e96a-2de0b4fa11b3",
        "colab": {
          "base_uri": "https://localhost:8080/",
          "height": 384
        }
      },
      "source": [
        "Counter(ner_df['Word']).most_common(20)"
      ],
      "execution_count": null,
      "outputs": [
        {
          "output_type": "execute_result",
          "data": {
            "text/plain": [
              "[('Bush', 5845),\n",
              " ('U.S.', 5388),\n",
              " ('Senate', 3981),\n",
              " ('Republican', 3927),\n",
              " ('Republicans', 3784),\n",
              " ('House', 3685),\n",
              " ('Democrats', 3274),\n",
              " ('Congress', 2851),\n",
              " ('first', 2555),\n",
              " ('the United States', 2542),\n",
              " ('American', 2512),\n",
              " ('Mexico', 2399),\n",
              " ('Mexican', 2125),\n",
              " ('Washington', 2001),\n",
              " ('Democratic', 1993),\n",
              " ('Iraq', 1863),\n",
              " ('California', 1584),\n",
              " ('GOP', 1464),\n",
              " ('English', 1410),\n",
              " ('Tuesday', 1365)]"
            ]
          },
          "metadata": {
            "tags": []
          },
          "execution_count": 194
        }
      ]
    },
    {
      "cell_type": "code",
      "metadata": {
        "id": "MdasnhvPsQbe",
        "outputId": "48b94ec5-b197-41a1-841f-233fd80b0ec0",
        "colab": {
          "base_uri": "https://localhost:8080/",
          "height": 384
        }
      },
      "source": [
        "people = ner_df[ner_df['Label']== 'PERSON']\n",
        "Counter(people['Word']).most_common(20)"
      ],
      "execution_count": null,
      "outputs": [
        {
          "output_type": "execute_result",
          "data": {
            "text/plain": [
              "[('Bush', 5845),\n",
              " ('Schwarzenegger', 591),\n",
              " ('Moussaoui', 418),\n",
              " ('McCain', 381),\n",
              " ('Calderon', 349),\n",
              " ('Fox', 326),\n",
              " ('Clinton', 270),\n",
              " ('Rove', 264),\n",
              " ('Karr', 249),\n",
              " ('John McCain', 247),\n",
              " ('Allen', 244),\n",
              " ('Hastert', 240),\n",
              " ('Lopez Obrador', 232),\n",
              " ('Angelides', 227),\n",
              " ('Martinez', 220),\n",
              " ('Bill Frist', 210),\n",
              " ('Arellano', 203),\n",
              " ('Reid', 178),\n",
              " ('Chertoff', 178),\n",
              " ('DeLay', 178)]"
            ]
          },
          "metadata": {
            "tags": []
          },
          "execution_count": 195
        }
      ]
    },
    {
      "cell_type": "code",
      "metadata": {
        "id": "zZkuow5GsTLM",
        "outputId": "25bcc71e-82d2-4745-b3ee-c2d6ae2906fe",
        "colab": {
          "base_uri": "https://localhost:8080/",
          "height": 384
        }
      },
      "source": [
        "place = ner_df[ner_df['Label']=='GPE']\n",
        "Counter(place['Word']).most_common(20)"
      ],
      "execution_count": null,
      "outputs": [
        {
          "output_type": "execute_result",
          "data": {
            "text/plain": [
              "[('U.S.', 5387),\n",
              " ('the United States', 2542),\n",
              " ('Mexico', 2396),\n",
              " ('Washington', 1998),\n",
              " ('Iraq', 1862),\n",
              " ('California', 1583),\n",
              " ('Los Angeles', 1328),\n",
              " ('Chicago', 1317),\n",
              " ('New York', 1117),\n",
              " ('America', 1023),\n",
              " ('Texas', 860),\n",
              " ('Arizona', 818),\n",
              " ('Virginia', 539),\n",
              " ('China', 522),\n",
              " ('Florida', 482),\n",
              " ('Maryland', 428),\n",
              " ('Ohio', 415),\n",
              " ('France', 402),\n",
              " ('San Diego', 377),\n",
              " ('Canada', 377)]"
            ]
          },
          "metadata": {
            "tags": []
          },
          "execution_count": 196
        }
      ]
    },
    {
      "cell_type": "code",
      "metadata": {
        "id": "AbFulJsksV-f",
        "outputId": "8fe98059-2fab-430b-81ad-d63d4ec412eb",
        "colab": {
          "base_uri": "https://localhost:8080/",
          "height": 384
        }
      },
      "source": [
        "law = ner_df[ner_df['Label']=='LAW']\n",
        "Counter(law['Word']).most_common(20)"
      ],
      "execution_count": null,
      "outputs": [
        {
          "output_type": "execute_result",
          "data": {
            "text/plain": [
              "[('Constitution', 53),\n",
              " ('the Voting Rights Act', 36),\n",
              " ('RICO', 28),\n",
              " ('the Patriot Act', 21),\n",
              " ('the USA Patriot Act', 20),\n",
              " ('the Real ID Act', 10),\n",
              " ('First Amendment', 10),\n",
              " ('1st Amendment', 9),\n",
              " ('Roe v. Wade', 7),\n",
              " ('the \\r\\n Constitution', 6),\n",
              " ('Immigration and Customs Enforcement', 6),\n",
              " ('the First Amendment', 6),\n",
              " ('the Immigration and Nationality Act', 5),\n",
              " ('the National Immigration Law \\r\\n Center', 5),\n",
              " ('the Fair Housing Act', 5),\n",
              " ('the Controlled Substances Act', 5),\n",
              " ('Voting Rights Act', 4),\n",
              " ('The Voting Rights Act', 4),\n",
              " ('the U.S. Constitution', 4),\n",
              " ('the Dream Act', 4)]"
            ]
          },
          "metadata": {
            "tags": []
          },
          "execution_count": 197
        }
      ]
    },
    {
      "cell_type": "code",
      "metadata": {
        "id": "Qba0uA0KvBv-",
        "outputId": "b72441b7-9f27-4d25-b4a4-d4f3b615a18d",
        "colab": {
          "base_uri": "https://localhost:8080/",
          "height": 35
        }
      },
      "source": [
        "df08 = df_small[df_small['year']== 2008]\n",
        "len(df08)"
      ],
      "execution_count": null,
      "outputs": [
        {
          "output_type": "execute_result",
          "data": {
            "text/plain": [
              "6369"
            ]
          },
          "metadata": {
            "tags": []
          },
          "execution_count": 198
        }
      ]
    },
    {
      "cell_type": "code",
      "metadata": {
        "id": "9B5vmKUzHIp4",
        "outputId": "ad9d2dd6-7f3e-458e-bf11-e7ab5c9c631c",
        "colab": {
          "base_uri": "https://localhost:8080/",
          "height": 201
        }
      },
      "source": [
        "t = time()\n",
        "txt = [cleaning(doc) for doc in nlp.pipe(df08['text'], batch_size=100, n_threads=-1)]\n",
        "print('Time to clean up everything: {} mins'.format(round((time() - t) / 60, 2)))\n",
        "df_clean = pd.DataFrame({'clean': txt})\n",
        "df_clean = df_clean.dropna().drop_duplicates()\n",
        "print(df_clean.shape)\n",
        "print('\\n')\n",
        "print(df_clean.head())"
      ],
      "execution_count": null,
      "outputs": [
        {
          "output_type": "stream",
          "text": [
            "Time to clean up everything: 4.28 mins\n",
            "(6208, 1)\n",
            "\n",
            "\n",
            "                                               clean\n",
            "0  Samuel Huntington an influential Harvard polit...\n",
            "1  Rep. Rahm Emanuel D Ill incoming chief of staf...\n",
            "2  As Theresa Coghlan sat in the West Side church...\n",
            "3  Fire dead mourned \\r\\n\\r\\n Dozens of Liberian ...\n",
            "4  PENNSYLVANIA \\r\\n\\r\\n Movie theater rage leads...\n"
          ],
          "name": "stdout"
        }
      ]
    },
    {
      "cell_type": "code",
      "metadata": {
        "id": "CnoR9ML6vHPg",
        "outputId": "23b1a201-fc6a-43ec-cd21-acd0dfd49cc6",
        "colab": {
          "base_uri": "https://localhost:8080/",
          "height": 35
        }
      },
      "source": [
        "text = []\n",
        "label = []\n",
        "explain = []\n",
        "t = time()\n",
        "for doc in nlp.pipe(df_clean['clean'], disable=[\"tagger\", \"parser\"], batch_size=100, n_threads=-1):\n",
        "    tt = [x.text for x in doc.ents]\n",
        "    text.extend(tt)\n",
        "    l = [x.label_ for x in doc.ents]\n",
        "    label.extend(l)\n",
        "    e = [str(spacy.explain(x.label_)) for x in doc.ents]\n",
        "    explain.extend(e)\n",
        "    \n",
        "\n",
        "print('Time to process everything: {} mins'.format(round((time() - t) / 60, 2)))"
      ],
      "execution_count": null,
      "outputs": [
        {
          "output_type": "stream",
          "text": [
            "Time to process everything: 3.47 mins\n"
          ],
          "name": "stdout"
        }
      ]
    },
    {
      "cell_type": "code",
      "metadata": {
        "id": "3F7vmwJ3vRq1",
        "outputId": "24109b14-0cbf-4fa1-efd2-90f9da0e201c",
        "colab": {
          "base_uri": "https://localhost:8080/",
          "height": 72
        }
      },
      "source": [
        "print(len(explain))\n",
        "print(len(label))\n",
        "print(len(explain))"
      ],
      "execution_count": null,
      "outputs": [
        {
          "output_type": "stream",
          "text": [
            "493805\n",
            "493805\n",
            "493805\n"
          ],
          "name": "stdout"
        }
      ]
    },
    {
      "cell_type": "code",
      "metadata": {
        "id": "-Sr2sYGmwjk5",
        "outputId": "45e10fd8-39ba-432c-e635-1f5499c7170d",
        "colab": {
          "base_uri": "https://localhost:8080/",
          "height": 384
        }
      },
      "source": [
        "ner_df = pd.DataFrame({'Word': text,\n",
        "                       'Label': label,\n",
        "                       'Description': explain})\n",
        "Counter(ner_df['Word']).most_common(20)"
      ],
      "execution_count": null,
      "outputs": [
        {
          "output_type": "execute_result",
          "data": {
            "text/plain": [
              "[('Obama', 7499),\n",
              " ('McCain', 7315),\n",
              " ('U.S.', 5693),\n",
              " ('first', 4994),\n",
              " ('Republican', 3735),\n",
              " ('American', 3339),\n",
              " ('Bush', 2931),\n",
              " ('Clinton', 2875),\n",
              " ('Washington', 2585),\n",
              " ('Democrats', 2538),\n",
              " ('Democratic', 2493),\n",
              " ('Republicans', 2313),\n",
              " ('Tuesday', 2301),\n",
              " ('New York', 2152),\n",
              " ('Romney', 2151),\n",
              " ('Saturday', 2115),\n",
              " ('the United States', 2028),\n",
              " ('years', 2002),\n",
              " ('Sunday', 1902),\n",
              " ('California', 1831)]"
            ]
          },
          "metadata": {
            "tags": []
          },
          "execution_count": 202
        }
      ]
    },
    {
      "cell_type": "code",
      "metadata": {
        "id": "zMMjEu6_wkGp",
        "outputId": "ec17c104-1581-42bc-e4b6-0a4eb1199899",
        "colab": {
          "base_uri": "https://localhost:8080/",
          "height": 384
        }
      },
      "source": [
        "people = ner_df[ner_df['Label']== 'PERSON']\n",
        "Counter(people['Word']).most_common(20)"
      ],
      "execution_count": null,
      "outputs": [
        {
          "output_type": "execute_result",
          "data": {
            "text/plain": [
              "[('McCain', 7160),\n",
              " ('Obama', 5509),\n",
              " ('Bush', 2931),\n",
              " ('Clinton', 2849),\n",
              " ('Romney', 2086),\n",
              " ('Barack Obama', 1342),\n",
              " ('John McCain', 1246),\n",
              " ('Huckabee', 1032),\n",
              " ('Giuliani', 421),\n",
              " ('Hillary Rodham Clinton', 386),\n",
              " ('Kennedy', 361),\n",
              " ('Mitt Romney', 357),\n",
              " ('< fulltext_hit0', 312),\n",
              " ('Hillary Clinton', 310),\n",
              " ('Mike Huckabee', 295),\n",
              " ('Johnson', 246),\n",
              " ('Reagan', 227),\n",
              " ('McCain \\r\\n ', 220),\n",
              " ('Benedict', 218),\n",
              " ('Bill Clinton', 207)]"
            ]
          },
          "metadata": {
            "tags": []
          },
          "execution_count": 203
        }
      ]
    },
    {
      "cell_type": "code",
      "metadata": {
        "id": "2zmoRNhqwkdU",
        "outputId": "e14dace3-b3ca-425d-e1e1-208f42d8810d",
        "colab": {
          "base_uri": "https://localhost:8080/",
          "height": 384
        }
      },
      "source": [
        "place = ner_df[ner_df['Label']=='GPE']\n",
        "Counter(place['Word']).most_common(20)"
      ],
      "execution_count": null,
      "outputs": [
        {
          "output_type": "execute_result",
          "data": {
            "text/plain": [
              "[('U.S.', 5693),\n",
              " ('Washington', 2576),\n",
              " ('New York', 2151),\n",
              " ('the United States', 2028),\n",
              " ('California', 1829),\n",
              " ('Iraq', 1809),\n",
              " ('Mexico', 1501),\n",
              " ('America', 1485),\n",
              " ('Chicago', 1482),\n",
              " ('Los Angeles', 1291),\n",
              " ('China', 1177),\n",
              " ('Iowa', 1090),\n",
              " ('Florida', 1028),\n",
              " ('Virginia', 1016),\n",
              " ('Arizona', 1014),\n",
              " ('Texas', 964),\n",
              " ('Leesburg', 909),\n",
              " ('Maryland', 704),\n",
              " ('New Hampshire', 654),\n",
              " ('Illinois', 644)]"
            ]
          },
          "metadata": {
            "tags": []
          },
          "execution_count": 204
        }
      ]
    },
    {
      "cell_type": "code",
      "metadata": {
        "id": "RH75exuMwkjc",
        "outputId": "2a82a5a1-080c-4761-b74c-60cbce1c46e7",
        "colab": {
          "base_uri": "https://localhost:8080/",
          "height": 384
        }
      },
      "source": [
        "law = ner_df[ner_df['Label']=='LAW']\n",
        "Counter(law['Word']).most_common(20)"
      ],
      "execution_count": null,
      "outputs": [
        {
          "output_type": "execute_result",
          "data": {
            "text/plain": [
              "[('Constitution', 50),\n",
              " ('Roe v. Wade', 14),\n",
              " ('sci fi action', 14),\n",
              " ('First Amendment', 11),\n",
              " ('the Dream Act', 9),\n",
              " ('the \\r\\n Constitution', 9),\n",
              " ('the Patriot Act', 9),\n",
              " ('the Second Amendment', 9),\n",
              " ('the Lisbon Treaty', 9),\n",
              " ('Immigration and Customs Enforcement', 8),\n",
              " ('Freedom of Information Act', 6),\n",
              " ('the First Amendment', 6),\n",
              " ('the State Constitution', 6),\n",
              " ('Sharia', 5),\n",
              " ('the U.S. Constitution', 5),\n",
              " ('the Freedom of Information Act', 5),\n",
              " ('the Constitution', 4),\n",
              " ('the Real ID Act', 4),\n",
              " ('Lisbon Treaty', 4),\n",
              " ('Superfund', 4)]"
            ]
          },
          "metadata": {
            "tags": []
          },
          "execution_count": 205
        }
      ]
    },
    {
      "cell_type": "code",
      "metadata": {
        "id": "HVzP5Vcswkqm",
        "outputId": "2022916b-851e-4fb6-c652-2e7e2eb31dc2",
        "colab": {
          "base_uri": "https://localhost:8080/",
          "height": 35
        }
      },
      "source": [
        "df12 = df_small[df_small['year']==2012]\n",
        "len(df12)"
      ],
      "execution_count": null,
      "outputs": [
        {
          "output_type": "execute_result",
          "data": {
            "text/plain": [
              "4748"
            ]
          },
          "metadata": {
            "tags": []
          },
          "execution_count": 206
        }
      ]
    },
    {
      "cell_type": "code",
      "metadata": {
        "id": "nB_smDYhHM7Z",
        "outputId": "b7686154-ab44-4375-9c27-c8017a39cfb2",
        "colab": {
          "base_uri": "https://localhost:8080/",
          "height": 201
        }
      },
      "source": [
        "t = time()\n",
        "txt = [cleaning(doc) for doc in nlp.pipe(df12['text'], batch_size=100, n_threads=-1)]\n",
        "print('Time to clean up everything: {} mins'.format(round((time() - t) / 60, 2)))\n",
        "df_clean = pd.DataFrame({'clean': txt})\n",
        "df_clean = df_clean.dropna().drop_duplicates()\n",
        "print(df_clean.shape)\n",
        "print('\\n')\n",
        "print(df_clean.head())"
      ],
      "execution_count": null,
      "outputs": [
        {
          "output_type": "stream",
          "text": [
            "Time to clean up everything: 3.65 mins\n",
            "(4652, 1)\n",
            "\n",
            "\n",
            "                                               clean\n",
            "0  Full Text \\r\\n\\r\\n Turn on search term navigat...\n",
            "1  Full Text \\r\\n\\r\\n Turn on search term navigat...\n",
            "2  Full Text \\r\\n\\r\\n Turn on search term navigat...\n",
            "3  Full Text \\r\\n\\r\\n Turn on search term navigat...\n",
            "4  Full Text \\r\\n\\r\\n Turn on search term navigat...\n"
          ],
          "name": "stdout"
        }
      ]
    },
    {
      "cell_type": "code",
      "metadata": {
        "id": "jeOcyPJfykbh",
        "outputId": "c97bb014-4613-441f-e223-2cb95ae69fec",
        "colab": {
          "base_uri": "https://localhost:8080/",
          "height": 35
        }
      },
      "source": [
        "text = []\n",
        "label = []\n",
        "explain = []\n",
        "t = time()\n",
        "for doc in nlp.pipe(df_clean['clean'], disable=[\"tagger\", \"parser\"], batch_size=100, n_threads=-1):\n",
        "    tt = [x.text for x in doc.ents]\n",
        "    text.extend(tt)\n",
        "    l = [x.label_ for x in doc.ents]\n",
        "    label.extend(l)\n",
        "    e = [str(spacy.explain(x.label_)) for x in doc.ents]\n",
        "    explain.extend(e)\n",
        "    \n",
        "\n",
        "print('Time to process everything: {} mins'.format(round((time() - t) / 60, 2)))"
      ],
      "execution_count": null,
      "outputs": [
        {
          "output_type": "stream",
          "text": [
            "Time to process everything: 2.95 mins\n"
          ],
          "name": "stdout"
        }
      ]
    },
    {
      "cell_type": "code",
      "metadata": {
        "id": "IPiCtXzbyr96",
        "outputId": "33c4b395-3510-46e2-bc60-f96154e717e3",
        "colab": {
          "base_uri": "https://localhost:8080/",
          "height": 72
        }
      },
      "source": [
        "print(len(explain))\n",
        "print(len(label))\n",
        "print(len(explain))"
      ],
      "execution_count": null,
      "outputs": [
        {
          "output_type": "stream",
          "text": [
            "420475\n",
            "420475\n",
            "420475\n"
          ],
          "name": "stdout"
        }
      ]
    },
    {
      "cell_type": "code",
      "metadata": {
        "id": "S9xH5yi30GBK",
        "outputId": "1a669bf6-1e7f-4a87-91af-e27a84469777",
        "colab": {
          "base_uri": "https://localhost:8080/",
          "height": 384
        }
      },
      "source": [
        "ner_df = pd.DataFrame({'Word': text,\n",
        "                       'Label': label,\n",
        "                       'Description': explain})\n",
        "Counter(ner_df['Word']).most_common(20)"
      ],
      "execution_count": null,
      "outputs": [
        {
          "output_type": "execute_result",
          "data": {
            "text/plain": [
              "[('Obama', 8203),\n",
              " ('first', 6479),\n",
              " ('Romney', 5975),\n",
              " ('Republican', 3722),\n",
              " ('U.S.', 3344),\n",
              " ('American', 3339),\n",
              " ('Republicans', 3148),\n",
              " ('Sunday', 2358),\n",
              " ('< fulltext_hit0', 2282),\n",
              " ('Saturday', 2275),\n",
              " ('Tuesday', 2226),\n",
              " ('Friday', 2133),\n",
              " ('Democrats', 2004),\n",
              " ('Washington', 1985),\n",
              " ('Thursday', 1882),\n",
              " ('the United States', 1770),\n",
              " ('Monday', 1736),\n",
              " ('years', 1622),\n",
              " ('GOP', 1605),\n",
              " ('Wednesday', 1600)]"
            ]
          },
          "metadata": {
            "tags": []
          },
          "execution_count": 210
        }
      ]
    },
    {
      "cell_type": "code",
      "metadata": {
        "id": "LXppqQhZ0J13",
        "outputId": "7135112a-4b7e-4f6e-9475-90ea95916185",
        "colab": {
          "base_uri": "https://localhost:8080/",
          "height": 384
        }
      },
      "source": [
        "people = ner_df[ner_df['Label']== 'PERSON']\n",
        "Counter(people['Word']).most_common(20)"
      ],
      "execution_count": null,
      "outputs": [
        {
          "output_type": "execute_result",
          "data": {
            "text/plain": [
              "[('Obama', 6068),\n",
              " ('Romney', 5720),\n",
              " ('< fulltext_hit0', 2282),\n",
              " ('Mitt Romney', 870),\n",
              " ('Gingrich', 699),\n",
              " ('Santorum', 655),\n",
              " ('Sarkozy', 443),\n",
              " ('Barack Obama', 426),\n",
              " ('Bush', 420),\n",
              " ('Clinton', 352),\n",
              " ('Rubio', 307),\n",
              " ('Mitt', 264),\n",
              " ('Ryan', 261),\n",
              " ('George W. Bush', 260),\n",
              " ('Brown', 218),\n",
              " ('John McCain', 200),\n",
              " ('Brantley', 196),\n",
              " ('Smith', 180),\n",
              " ('Bloomberg', 179),\n",
              " ('Chen', 176)]"
            ]
          },
          "metadata": {
            "tags": []
          },
          "execution_count": 211
        }
      ]
    },
    {
      "cell_type": "code",
      "metadata": {
        "id": "I_5y2OOa0NJS",
        "outputId": "688fc6a2-b7a2-478f-f178-f71cc4576512",
        "colab": {
          "base_uri": "https://localhost:8080/",
          "height": 384
        }
      },
      "source": [
        "place = ner_df[ner_df['Label']=='GPE']\n",
        "Counter(place['Word']).most_common(20)"
      ],
      "execution_count": null,
      "outputs": [
        {
          "output_type": "execute_result",
          "data": {
            "text/plain": [
              "[('U.S.', 3343),\n",
              " ('Washington', 1980),\n",
              " ('the United States', 1769),\n",
              " ('Arizona', 1500),\n",
              " ('New York', 1469),\n",
              " ('America', 1338),\n",
              " ('Mexico', 1313),\n",
              " ('Florida', 1220),\n",
              " ('Chicago', 1140),\n",
              " ('California', 1123),\n",
              " ('Texas', 918),\n",
              " ('Los Angeles', 852),\n",
              " ('Manhattan', 774),\n",
              " ('Israel', 753),\n",
              " ('Virginia', 734),\n",
              " ('Maryland', 721),\n",
              " ('China', 711),\n",
              " ('France', 610),\n",
              " ('Ohio', 555),\n",
              " ('Greece', 542)]"
            ]
          },
          "metadata": {
            "tags": []
          },
          "execution_count": 212
        }
      ]
    },
    {
      "cell_type": "code",
      "metadata": {
        "id": "KEFzoYox0RG7",
        "outputId": "e3d93011-c8ca-45ac-ce7a-ef4c3b78100a",
        "colab": {
          "base_uri": "https://localhost:8080/",
          "height": 384
        }
      },
      "source": [
        "law = ner_df[ner_df['Label']=='LAW']\n",
        "Counter(law['Word']).most_common(20)"
      ],
      "execution_count": null,
      "outputs": [
        {
          "output_type": "execute_result",
          "data": {
            "text/plain": [
              "[('the Dream Act', 186),\n",
              " ('the DREAM Act', 76),\n",
              " ('Dream Act', 68),\n",
              " ('Constitution', 66),\n",
              " ('the Affordable Care Act', 39),\n",
              " ('Bill of Rights', 30),\n",
              " ('the Trust Act', 26),\n",
              " ('First Amendment', 21),\n",
              " ('the Dream Act \\r\\n\\r\\n ', 15),\n",
              " ('Second Amendment', 14),\n",
              " ('Roe v. Wade', 14),\n",
              " ('the First Amendment', 14),\n",
              " ('DREAM Act', 13),\n",
              " ('The Dream Act', 13),\n",
              " ('the Voting Rights Act', 10),\n",
              " ('the \\r\\n Constitution', 10),\n",
              " ('the \\r\\n DREAM Act', 9),\n",
              " ('the Second Amendment', 8),\n",
              " ('Superfund', 8),\n",
              " ('Affordable Care Act', 8)]"
            ]
          },
          "metadata": {
            "tags": []
          },
          "execution_count": 213
        }
      ]
    },
    {
      "cell_type": "code",
      "metadata": {
        "id": "oDN7j43R0U5r",
        "outputId": "e73ba10c-3d7e-4668-dbb3-febaa47ee5a4",
        "colab": {
          "base_uri": "https://localhost:8080/",
          "height": 35
        }
      },
      "source": [
        "df13 = df_small[df_small['year']==2013]\n",
        "len(df13)"
      ],
      "execution_count": null,
      "outputs": [
        {
          "output_type": "execute_result",
          "data": {
            "text/plain": [
              "2297"
            ]
          },
          "metadata": {
            "tags": []
          },
          "execution_count": 214
        }
      ]
    },
    {
      "cell_type": "code",
      "metadata": {
        "id": "A9gu1_XcHfVr",
        "outputId": "285c7831-0f02-4523-e705-160002938d9e",
        "colab": {
          "base_uri": "https://localhost:8080/",
          "height": 201
        }
      },
      "source": [
        "t = time()\n",
        "txt = [cleaning(doc) for doc in nlp.pipe(df13['text'], batch_size=100, n_threads=-1)]\n",
        "print('Time to clean up everything: {} mins'.format(round((time() - t) / 60, 2)))\n",
        "df_clean = pd.DataFrame({'clean': txt})\n",
        "df_clean = df_clean.dropna().drop_duplicates()\n",
        "print(df_clean.shape)\n",
        "print('\\n')\n",
        "print(df_clean.head())"
      ],
      "execution_count": null,
      "outputs": [
        {
          "output_type": "stream",
          "text": [
            "Time to clean up everything: 1.9 mins\n",
            "(1712, 1)\n",
            "\n",
            "\n",
            "                                               clean\n",
            "0  \\r\\n\\r\\n \\r\\n\\r\\n The Rev. Jim Good- \\r\\n\\r\\n ...\n",
            "1  \\r\\n\\r\\n \\r\\n\\r\\n By the numbers this Congress...\n",
            "2  \\r\\n\\r\\n \\r\\n\\r\\n In its last workday of the y...\n",
            "3  \\r\\n\\r\\n \\r\\n\\r\\n Instead of basking in holida...\n",
            "4  \\r\\n\\r\\n \\r\\n\\r\\n President Obama despite a ye...\n"
          ],
          "name": "stdout"
        }
      ]
    },
    {
      "cell_type": "code",
      "metadata": {
        "id": "8PdqLNNU0iX2",
        "outputId": "39cb955e-37d5-47a9-d3e7-3f6374695d47",
        "colab": {
          "base_uri": "https://localhost:8080/",
          "height": 35
        }
      },
      "source": [
        "text = []\n",
        "label = []\n",
        "explain = []\n",
        "t = time()\n",
        "for doc in nlp.pipe(df_clean['clean'], disable=[\"tagger\", \"parser\"], batch_size=100, n_threads=-1):\n",
        "    tt = [x.text for x in doc.ents]\n",
        "    text.extend(tt)\n",
        "    l = [x.label_ for x in doc.ents]\n",
        "    label.extend(l)\n",
        "    e = [str(spacy.explain(x.label_)) for x in doc.ents]\n",
        "    explain.extend(e)\n",
        "    \n",
        "\n",
        "print('Time to process everything: {} mins'.format(round((time() - t) / 60, 2)))"
      ],
      "execution_count": null,
      "outputs": [
        {
          "output_type": "stream",
          "text": [
            "Time to process everything: 1.13 mins\n"
          ],
          "name": "stdout"
        }
      ]
    },
    {
      "cell_type": "code",
      "metadata": {
        "id": "cjh0JlyU0mZP",
        "outputId": "62b8fb06-6d3b-4806-c19e-0185c7e384f9",
        "colab": {
          "base_uri": "https://localhost:8080/",
          "height": 72
        }
      },
      "source": [
        "print(len(explain))\n",
        "print(len(label))\n",
        "print(len(explain))"
      ],
      "execution_count": null,
      "outputs": [
        {
          "output_type": "stream",
          "text": [
            "140167\n",
            "140167\n",
            "140167\n"
          ],
          "name": "stdout"
        }
      ]
    },
    {
      "cell_type": "code",
      "metadata": {
        "id": "9dvpS8500mpv",
        "outputId": "d763201b-617f-4732-e2a0-327dd7a2d2f5",
        "colab": {
          "base_uri": "https://localhost:8080/",
          "height": 384
        }
      },
      "source": [
        "ner_df = pd.DataFrame({'Word': text,\n",
        "                       'Label': label,\n",
        "                       'Description': explain})\n",
        "Counter(ner_df['Word']).most_common(20)"
      ],
      "execution_count": null,
      "outputs": [
        {
          "output_type": "execute_result",
          "data": {
            "text/plain": [
              "[('Obama', 4966),\n",
              " ('U.S.', 3542),\n",
              " ('Republicans', 2942),\n",
              " ('Senate', 2679),\n",
              " ('Republican', 2139),\n",
              " ('House', 2139),\n",
              " ('American', 1990),\n",
              " ('Congress', 1959),\n",
              " ('the United States', 1930),\n",
              " ('first', 1475),\n",
              " ('Democrats', 1382),\n",
              " ('Washington', 1343),\n",
              " ('Americans', 1293),\n",
              " ('America', 1089),\n",
              " ('Mexico', 1088),\n",
              " ('GOP', 924),\n",
              " ('years', 839),\n",
              " ('Rubio', 809),\n",
              " ('Tuesday', 728),\n",
              " ('second', 696)]"
            ]
          },
          "metadata": {
            "tags": []
          },
          "execution_count": 218
        }
      ]
    },
    {
      "cell_type": "code",
      "metadata": {
        "id": "N5AFEVuW0m0Q",
        "outputId": "749b5aad-9323-4ab8-9e59-2de31dfd12be",
        "colab": {
          "base_uri": "https://localhost:8080/",
          "height": 384
        }
      },
      "source": [
        "people = ner_df[ner_df['Label']== 'PERSON']\n",
        "Counter(people['Word']).most_common(20)"
      ],
      "execution_count": null,
      "outputs": [
        {
          "output_type": "execute_result",
          "data": {
            "text/plain": [
              "[('Obama', 3744),\n",
              " ('Rubio', 785),\n",
              " ('Snowden', 472),\n",
              " ('Boehner', 326),\n",
              " ('Bush', 323),\n",
              " ('Marco Rubio', 295),\n",
              " ('Schumer', 219),\n",
              " ('Paul', 196),\n",
              " ('OBAMA', 194),\n",
              " ('Johnson', 175),\n",
              " ('Javed', 175),\n",
              " ('Clinton', 171),\n",
              " ('John McCain', 171),\n",
              " ('Reid', 167),\n",
              " ('John A. Boehner', 163),\n",
              " ('McAuliffe', 156),\n",
              " ('McCain', 153),\n",
              " ('Charles E. Schumer', 141),\n",
              " ('Graham', 138),\n",
              " ('Zia', 136)]"
            ]
          },
          "metadata": {
            "tags": []
          },
          "execution_count": 219
        }
      ]
    },
    {
      "cell_type": "code",
      "metadata": {
        "id": "2UVEFRCf0m-G",
        "outputId": "5450c2c4-5a36-4949-86eb-9d31dadc67d7",
        "colab": {
          "base_uri": "https://localhost:8080/",
          "height": 384
        }
      },
      "source": [
        "place = ner_df[ner_df['Label']=='GPE']\n",
        "Counter(place['Word']).most_common(20)"
      ],
      "execution_count": null,
      "outputs": [
        {
          "output_type": "execute_result",
          "data": {
            "text/plain": [
              "[('U.S.', 3542),\n",
              " ('the United States', 1929),\n",
              " ('Washington', 1343),\n",
              " ('America', 1087),\n",
              " ('Mexico', 1084),\n",
              " ('Arizona', 486),\n",
              " ('California', 456),\n",
              " ('Russia', 370),\n",
              " ('Texas', 367),\n",
              " ('Florida', 346),\n",
              " ('New York', 344),\n",
              " ('Afghanistan', 325),\n",
              " ('Chicago', 309),\n",
              " ('China', 308),\n",
              " ('India', 266),\n",
              " ('Virginia', 266),\n",
              " ('Boston', 266),\n",
              " ('United States', 260),\n",
              " ('Israel', 258),\n",
              " ('the United \\r\\n States', 224)]"
            ]
          },
          "metadata": {
            "tags": []
          },
          "execution_count": 220
        }
      ]
    },
    {
      "cell_type": "code",
      "metadata": {
        "id": "8I0KlbzC0nHw",
        "outputId": "81c305b5-a839-4f5b-d341-8214e6210e7e",
        "colab": {
          "base_uri": "https://localhost:8080/",
          "height": 384
        }
      },
      "source": [
        "law = ner_df[ner_df['Label']=='LAW']\n",
        "Counter(law['Word']).most_common(20)"
      ],
      "execution_count": null,
      "outputs": [
        {
          "output_type": "execute_result",
          "data": {
            "text/plain": [
              "[('the Second Amendment', 60),\n",
              " ('Constitution', 57),\n",
              " ('the Affordable Care Act', 39),\n",
              " ('the Dream Act', 38),\n",
              " ('the DREAM Act', 23),\n",
              " ('Second Amendment', 21),\n",
              " ('Dream Act', 12),\n",
              " ('the Voting Rights Act', 12),\n",
              " ('First Amendment', 9),\n",
              " ('the \\r\\n Constitution', 8),\n",
              " ('the Trust Act', 7),\n",
              " ('the 14th Amendment', 7),\n",
              " ('the Bill of Rights', 6),\n",
              " ('the Immigration Innovation Act', 6),\n",
              " ('Affordable Care Act', 5),\n",
              " ('the Patriot Act', 5),\n",
              " ('Roe v. Wade', 5),\n",
              " ('DREAM Act', 5),\n",
              " ('The Second Amendment', 5),\n",
              " ('Freedom of Information Act', 4)]"
            ]
          },
          "metadata": {
            "tags": []
          },
          "execution_count": 221
        }
      ]
    },
    {
      "cell_type": "code",
      "metadata": {
        "id": "FN7nkLPV0nRX",
        "outputId": "b6da386e-8ba1-409b-8dc9-e686cdc160ce",
        "colab": {
          "base_uri": "https://localhost:8080/",
          "height": 35
        }
      },
      "source": [
        "df16 = df_small[df_small['year']==2016]\n",
        "len(df16)"
      ],
      "execution_count": null,
      "outputs": [
        {
          "output_type": "execute_result",
          "data": {
            "text/plain": [
              "8360"
            ]
          },
          "metadata": {
            "tags": []
          },
          "execution_count": 222
        }
      ]
    },
    {
      "cell_type": "code",
      "metadata": {
        "id": "s0FsEmvKHkD6",
        "outputId": "244343ae-df12-4a24-bba1-486da6cb4200",
        "colab": {
          "base_uri": "https://localhost:8080/",
          "height": 201
        }
      },
      "source": [
        "t = time()\n",
        "txt = [cleaning(doc) for doc in nlp.pipe(df16['text'], batch_size=100, n_threads=-1)]\n",
        "print('Time to clean up everything: {} mins'.format(round((time() - t) / 60, 2)))\n",
        "df_clean = pd.DataFrame({'clean': txt})\n",
        "df_clean = df_clean.dropna().drop_duplicates()\n",
        "print(df_clean.shape)\n",
        "print('\\n')\n",
        "print(df_clean.head())"
      ],
      "execution_count": null,
      "outputs": [
        {
          "output_type": "stream",
          "text": [
            "Time to clean up everything: 6.68 mins\n",
            "(8230, 1)\n",
            "\n",
            "\n",
            "                                               clean\n",
            "0  Full Text \\r\\n\\r\\n Turn on search term navigat...\n",
            "1  Full Text \\r\\n\\r\\n Turn on search term navigat...\n",
            "2  Full Text \\r\\n\\r\\n Turn on search term navigat...\n",
            "3  Full Text \\r\\n\\r\\n Turn on search term navigat...\n",
            "4  Full Text \\r\\n\\r\\n Turn on search term navigat...\n"
          ],
          "name": "stdout"
        }
      ]
    },
    {
      "cell_type": "code",
      "metadata": {
        "id": "bEy2NRqQ0nai",
        "outputId": "be03ee31-76bb-4e25-c9cf-f80f127c20e2",
        "colab": {
          "base_uri": "https://localhost:8080/",
          "height": 35
        }
      },
      "source": [
        "text = []\n",
        "label = []\n",
        "explain = []\n",
        "t = time()\n",
        "for doc in nlp.pipe(df_clean['clean'], disable=[\"tagger\", \"parser\"], batch_size=100, n_threads=-1):\n",
        "    tt = [x.text for x in doc.ents]\n",
        "    text.extend(tt)\n",
        "    l = [x.label_ for x in doc.ents]\n",
        "    label.extend(l)\n",
        "    e = [str(spacy.explain(x.label_)) for x in doc.ents]\n",
        "    explain.extend(e)\n",
        "    \n",
        "\n",
        "print('Time to process everything: {} mins'.format(round((time() - t) / 60, 2)))"
      ],
      "execution_count": null,
      "outputs": [
        {
          "output_type": "stream",
          "text": [
            "Time to process everything: 5.52 mins\n"
          ],
          "name": "stdout"
        }
      ]
    },
    {
      "cell_type": "code",
      "metadata": {
        "id": "spb-DUcx0-5G",
        "outputId": "14dd74f2-fa6d-4fdf-99b0-77197760b91a",
        "colab": {
          "base_uri": "https://localhost:8080/",
          "height": 72
        }
      },
      "source": [
        "print(len(explain))\n",
        "print(len(label))\n",
        "print(len(explain))"
      ],
      "execution_count": null,
      "outputs": [
        {
          "output_type": "stream",
          "text": [
            "796483\n",
            "796483\n",
            "796483\n"
          ],
          "name": "stdout"
        }
      ]
    },
    {
      "cell_type": "code",
      "metadata": {
        "id": "uxaicctu0_El",
        "outputId": "a797a4d0-a217-409a-d6b7-d9368af2a8e8",
        "colab": {
          "base_uri": "https://localhost:8080/",
          "height": 384
        }
      },
      "source": [
        "ner_df = pd.DataFrame({'Word': text,\n",
        "                       'Label': label,\n",
        "                       'Description': explain})\n",
        "Counter(ner_df['Word']).most_common(20)"
      ],
      "execution_count": null,
      "outputs": [
        {
          "output_type": "execute_result",
          "data": {
            "text/plain": [
              "[('Trump', 40096),\n",
              " ('first', 16159),\n",
              " ('Clinton', 11704),\n",
              " ('Republican', 9700),\n",
              " ('Obama', 9203),\n",
              " ('< fulltext_hit0', 8223),\n",
              " ('U.S.', 6693),\n",
              " ('American', 6513),\n",
              " ('Republicans', 5384),\n",
              " ('Cruz', 4687),\n",
              " ('Democratic', 4380),\n",
              " ('Donald Trump', 4308),\n",
              " ('the United States', 4283),\n",
              " ('Democrats', 4228),\n",
              " ('America', 3955),\n",
              " ('Tuesday', 3929),\n",
              " ('Rubio', 3796),\n",
              " ('GOP', 3729),\n",
              " ('Washington', 3592),\n",
              " ('Americans', 3345)]"
            ]
          },
          "metadata": {
            "tags": []
          },
          "execution_count": 226
        }
      ]
    },
    {
      "cell_type": "code",
      "metadata": {
        "id": "YLp3LIDG0_Oa",
        "outputId": "e5d86b96-cca8-4214-a32f-a2057e63ddad",
        "colab": {
          "base_uri": "https://localhost:8080/",
          "height": 384
        }
      },
      "source": [
        "people = ner_df[ner_df['Label']== 'PERSON']\n",
        "Counter(people['Word']).most_common(20)"
      ],
      "execution_count": null,
      "outputs": [
        {
          "output_type": "execute_result",
          "data": {
            "text/plain": [
              "[('Trump', 25880),\n",
              " ('Clinton', 11596),\n",
              " ('< fulltext_hit0', 8223),\n",
              " ('Obama', 7120),\n",
              " ('Cruz', 4645),\n",
              " ('Donald Trump', 4303),\n",
              " ('Rubio', 3652),\n",
              " ('Sanders', 3314),\n",
              " ('Hillary Clinton', 2930),\n",
              " ('Bush', 1855),\n",
              " ('Trump \\r\\n ', 1326),\n",
              " ('Ryan', 999),\n",
              " ('Ted Cruz', 976),\n",
              " ('Bernie Sanders', 924),\n",
              " ('Kaine', 840),\n",
              " ('Hillary', 794),\n",
              " ('Marco Rubio', 759),\n",
              " ('Barack Obama', 706),\n",
              " ('Donald J. Trump', 690),\n",
              " ('Johnson', 639)]"
            ]
          },
          "metadata": {
            "tags": []
          },
          "execution_count": 227
        }
      ]
    },
    {
      "cell_type": "code",
      "metadata": {
        "id": "ivh3uonC0_XD",
        "outputId": "7cf278e8-d891-4996-a8ea-25cb9cbe25fe",
        "colab": {
          "base_uri": "https://localhost:8080/",
          "height": 384
        }
      },
      "source": [
        "place = ner_df[ner_df['Label']=='GPE']\n",
        "Counter(place['Word']).most_common(20)"
      ],
      "execution_count": null,
      "outputs": [
        {
          "output_type": "execute_result",
          "data": {
            "text/plain": [
              "[('U.S.', 6685),\n",
              " ('the United States', 4281),\n",
              " ('America', 3953),\n",
              " ('Washington', 3583),\n",
              " ('Britain', 3327),\n",
              " ('New York', 3232),\n",
              " ('California', 2851),\n",
              " ('Mexico', 2647),\n",
              " ('Texas', 2296),\n",
              " ('Florida', 2269),\n",
              " ('Iowa', 2056),\n",
              " ('Chicago', 2034),\n",
              " ('Ohio', 1544),\n",
              " ('China', 1506),\n",
              " ('Los Angeles', 1446),\n",
              " ('France', 1428),\n",
              " ('Germany', 1308),\n",
              " ('New Hampshire', 1299),\n",
              " ('Virginia', 1256),\n",
              " ('Manhattan', 1148)]"
            ]
          },
          "metadata": {
            "tags": []
          },
          "execution_count": 228
        }
      ]
    },
    {
      "cell_type": "code",
      "metadata": {
        "id": "L2jYH4jq1HN_",
        "outputId": "011dbd9a-f752-49d8-aafc-d728d10a4a8e",
        "colab": {
          "base_uri": "https://localhost:8080/",
          "height": 384
        }
      },
      "source": [
        "law = ner_df[ner_df['Label']=='LAW']\n",
        "Counter(law['Word']).most_common(20)"
      ],
      "execution_count": null,
      "outputs": [
        {
          "output_type": "execute_result",
          "data": {
            "text/plain": [
              "[('Constitution', 267),\n",
              " ('the Affordable Care Act', 203),\n",
              " ('the \\r\\n Constitution', 40),\n",
              " ('Roe v. Wade', 38),\n",
              " ('the Second Amendment', 36),\n",
              " ('the Voting Rights Act', 33),\n",
              " ('Second Amendment', 31),\n",
              " ('Affordable Care Act', 30),\n",
              " ('the First Amendment', 22),\n",
              " ('First Amendment', 21),\n",
              " ('Sharia', 17),\n",
              " ('1st Amendment', 15),\n",
              " ('the Constitution', 14),\n",
              " ('the U.S. Constitution', 12),\n",
              " ('the \\r\\n Affordable Care Act', 12),\n",
              " ('the 2nd Amendment', 11),\n",
              " ('sharia', 11),\n",
              " ('The Affordable Care Act', 10),\n",
              " ('the Deferred Action for Childhood Arrivals', 10),\n",
              " ('the Clean Power Plan', 10)]"
            ]
          },
          "metadata": {
            "tags": []
          },
          "execution_count": 229
        }
      ]
    }
  ]
}